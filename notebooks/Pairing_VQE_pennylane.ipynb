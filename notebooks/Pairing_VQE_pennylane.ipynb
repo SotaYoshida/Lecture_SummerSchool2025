{
 "cells": [
  {
   "cell_type": "markdown",
   "metadata": {
    "id": "a_bPmqzx1Zhi"
   },
   "source": [
    "# Pairing HamiltonianのVQE計算 (Pennylane)"
   ]
  },
  {
   "cell_type": "code",
   "execution_count": 1,
   "metadata": {},
   "outputs": [],
   "source": [
    "import numpy as np\n",
    "import itertools\n",
    "from itertools import combinations\n",
    "import matplotlib.pyplot as plt"
   ]
  },
  {
   "cell_type": "markdown",
   "metadata": {},
   "source": [
    "## Hamiltonianの準備\n",
    "\n",
    "pairing Hamiltonianは以下のように書ける:\n",
    "\n",
    "$$\n",
    "H = \\sum_{p} \\epsilon_p N_p - g \\sum_{pq} P^{\\dagger}_p P_q\n",
    "$$\n",
    "\n",
    "$p,q$は二重縮退した軌道のラベルであり、$N_p$は数演算子である。\n",
    "$P^{\\dagger}_p$, $P_p$はそれぞれ軌道$p$にペアの粒子を生成/消滅する演算子である。\n",
    "\n",
    "以下ではまずペアリングハミルトニアンの行列要素を計算するためのクラスを定義しておく。"
   ]
  },
  {
   "cell_type": "code",
   "execution_count": 2,
   "metadata": {},
   "outputs": [
    {
     "name": "stdout",
     "output_type": "stream",
     "text": [
      "basis: [(0, 1), (0, 2), (0, 3), (1, 2), (1, 3), (2, 3)]\n",
      "['|1100>', '|1010>', '|1001>', '|0110>', '|0101>', '|0011>']\n",
      "eps:  [0.0, 2.0, 4.0, 6.0]\n",
      "Hmat:  [[ 1.34 -0.33 -0.33 -0.33 -0.33  0.  ]\n",
      " [-0.33  3.34 -0.33 -0.33  0.   -0.33]\n",
      " [-0.33 -0.33  5.34  0.   -0.33 -0.33]\n",
      " [-0.33 -0.33  0.    5.34 -0.33 -0.33]\n",
      " [-0.33  0.   -0.33 -0.33  7.34 -0.33]\n",
      " [ 0.   -0.33 -0.33 -0.33 -0.33  9.34]]\n",
      "evals:  [1.18985184 3.29649666 5.34       5.34       7.42853393 9.44511758]\n",
      "Egs_exact:  1.1898518351360725\n"
     ]
    }
   ],
   "source": [
    "class PairingHamiltonian:\n",
    "    def __init__(self, Norb, Nocc, gval, delta_eps=1.0):\n",
    "        self.Norb = Norb\n",
    "        self.Nocc = Nocc\n",
    "        self.delta_eps = delta_eps\n",
    "        self.gval = gval\n",
    "        self.basis = self.make_basis()\n",
    "        self.epsilon = self.eval_epsilon()\n",
    "        self.Hmat = self.eval_Hmat()\n",
    "\n",
    "    def make_basis(self):\n",
    "        self.basis = []\n",
    "        for occ in combinations(range(self.Norb), self.Nocc):\n",
    "            self.basis.append(occ)\n",
    "\n",
    "        return self.basis\n",
    "    \n",
    "    def eval_epsilon(self):\n",
    "        self.epsilon = [ 2 * i * self.delta_eps for i in range(self.Norb) ]\n",
    "        return self.epsilon\n",
    "    \n",
    "    def eval_Hmat(self):\n",
    "        dim = len(self.basis)\n",
    "        self.Hmat = np.zeros((dim, dim))\n",
    "        for bra_idx, bra in enumerate(self.basis):\n",
    "            for ket_idx, ket in enumerate(self.basis):\n",
    "                # Hamming distance\n",
    "                diff = [ i for i in bra if i not in ket ]\n",
    "                same = [ i for i in bra if i in ket ]\n",
    "                # for SPE term\n",
    "                if bra_idx == ket_idx:\n",
    "                    self.Hmat[bra_idx, ket_idx] += np.sum( [self.epsilon[i] for i in same])\n",
    "                    self.Hmat[bra_idx, ket_idx] += - self.gval * len(same) \n",
    "                # for pairing term\n",
    "                if len(diff) == 1:\n",
    "                    self.Hmat[bra_idx, ket_idx] = - self.gval\n",
    "\n",
    "        return self.Hmat\n",
    "\n",
    "def tuple_to_bitstring(tup, Norb, rev=True):\n",
    "    bitint = 0\n",
    "    for i in tup:\n",
    "        bitint += 2**i\n",
    "    if rev:\n",
    "        bitstring = \"|\"+format(bitint, f'0{Norb}b')[::-1]+\">\"\n",
    "    else:\n",
    "        bitstring = \"|\"+format(bitint, f'0{Norb}b')+\">\"        \n",
    "    return bitstring\n",
    "\n",
    "Norb = 4\n",
    "Nocc = 2\n",
    "gval = 0.33  \n",
    "Hamil = PairingHamiltonian(Norb, Nocc, gval)\n",
    "evals = np.linalg.eigvalsh(Hamil.Hmat)\n",
    "Egs_exact = evals[0]\n",
    "\n",
    "print(\"basis:\", Hamil.basis)\n",
    "print([tuple_to_bitstring(tup, Norb) for tup in Hamil.basis])\n",
    "print(\"eps: \", Hamil.epsilon)\n",
    "print(\"Hmat: \", Hamil.Hmat)\n",
    "print(\"evals: \", evals)\n",
    "print(\"Egs_exact: \", Egs_exact)"
   ]
  },
  {
   "cell_type": "markdown",
   "metadata": {},
   "source": [
    "## pennylaneを用いた表現\n",
    "\n",
    "上では、(many-body)basisに対して行列要素を計算しているが、\n",
    "実際に量子計算を行う際には、Hamiltonianを第二量子化された演算子の形で扱う方が便利である。\n",
    "より具体的には、演算子と、それに付随する係数の形でHamiltonianを表現する。\n",
    "\n",
    "以下では、pennylaneを用いた表現でHamiltonianを定義してみよう。　　\n",
    "pennylaneはXanaduの提供する量子計算ライブラリであり、その開発経緯もあり、OpenFermionやPyTorchとの連携が強い。\n",
    "したがって、量子化学計算や量子機械学習について既存の資産(≒実装)を活用することができる。\n",
    "pennlaneはよくqmlとしてimportされるが、これはQuantum Machine Learningの略のようだ。\n",
    "\n",
    "pennylaneを用いる際の注意点としては、pennylane内のnumpyを使うこと。"
   ]
  },
  {
   "cell_type": "code",
   "execution_count": 3,
   "metadata": {},
   "outputs": [],
   "source": [
    "import pennylane as qml \n",
    "from pennylane import numpy as np\n",
    "import openfermion as of"
   ]
  },
  {
   "cell_type": "markdown",
   "metadata": {},
   "source": [
    "勾配の計算などを効率的に行えるようにだろうか、配列をTorchTensorにしているようだ:"
   ]
  },
  {
   "cell_type": "code",
   "execution_count": 4,
   "metadata": {},
   "outputs": [
    {
     "data": {
      "text/plain": [
       "tensor([1.], requires_grad=True)"
      ]
     },
     "execution_count": 4,
     "metadata": {},
     "output_type": "execute_result"
    }
   ],
   "source": [
    "np.array([1.0])"
   ]
  },
  {
   "cell_type": "markdown",
   "metadata": {},
   "source": [
    "OpenFermionのメソッドを用いて、演算子のプールを作ってみよう。"
   ]
  },
  {
   "cell_type": "code",
   "execution_count": 5,
   "metadata": {},
   "outputs": [
    {
     "name": "stdout",
     "output_type": "stream",
     "text": [
      "Hamiltonian operators\n",
      "-0.33 [0^ 0] +\n",
      "-0.33 [0^ 1] +\n",
      "-0.33 [0^ 2] +\n",
      "-0.33 [0^ 3] +\n",
      "-0.33 [1^ 0] +\n",
      "1.67 [1^ 1] +\n",
      "-0.33 [1^ 2] +\n",
      "-0.33 [1^ 3] +\n",
      "-0.33 [2^ 0] +\n",
      "-0.33 [2^ 1] +\n",
      "3.67 [2^ 2] +\n",
      "-0.33 [2^ 3] +\n",
      "-0.33 [3^ 0] +\n",
      "-0.33 [3^ 1] +\n",
      "-0.33 [3^ 2] +\n",
      "5.67 [3^ 3]\n"
     ]
    }
   ],
   "source": [
    "def ij_tuple_to_AdagA_str(tuple_in):\n",
    "    i, j = tuple_in\n",
    "    return f\"{i}^ {j}\"\n",
    "\n",
    "SPEs = Hamil.epsilon\n",
    "H_op = of.ops.FermionOperator()\n",
    "\n",
    "for i in range(Hamil.Norb):\n",
    "    op_key = ij_tuple_to_AdagA_str((i,i))\n",
    "    H_op += of.ops.FermionOperator(op_key, SPEs[i])\n",
    "\n",
    "for i in range(Hamil.Norb):\n",
    "    for j in range(Hamil.Norb):\n",
    "        op_key = ij_tuple_to_AdagA_str((i,j))\n",
    "        H_op += of.ops.FermionOperator(op_key, -Hamil.gval)\n",
    "print(\"Hamiltonian operators\\n\", H_op, sep=\"\")"
   ]
  },
  {
   "cell_type": "markdown",
   "metadata": {},
   "source": [
    "次に、これを量子コンピュータ上で計算するためのmappingを行う。\n",
    "通常、フェルミ粒子の多体系では、Jordan-Wigner変換やBravyi-Kitaev変換を用いてマッピングするが、\n",
    "Pairing Hamiltonianの場合は、JWで出てくる反交換関係を保つためのお釣りが無視できて、シンプルな表式になる。\n",
    "\n",
    "$$\n",
    "\\begin{align}\n",
    "P^{\\dagger}_p & = \\frac{1}{2} (X_p - iY_p) \\\\\n",
    "P_p & = \\frac{1}{2} (X_p + iY_p) \\\\\n",
    "N_p & = \\frac{1}{2} ( 1  - Z_p) \\\\\n",
    "H & = \\sum_{p} \\epsilon_p N_p - g \\sum_{pq} P^{\\dagger}_p P_q \\\\\n",
    "& = \\sum_{p} \\epsilon_p \\frac{1}{2} ( 1  - Z_p) - g \\sum_{pq} \\frac{1}{4} (X_p - iY_p)(X_q + iY_q) \\\\\n",
    "& = \\sum_{p} \\frac{\\epsilon_p - g}{2} (1 - Z_p ) - \\frac{g}{4} \\sum_{p \\neq q} (X_pX_q + Y_pY_q) \\\\\n",
    "\\end{align}\n",
    "$$"
   ]
  },
  {
   "cell_type": "code",
   "execution_count": 6,
   "metadata": {},
   "outputs": [],
   "source": [
    "def ij_tuple_to_AdagA_str(tuple_in):\n",
    "    i, j = tuple_in\n",
    "    return f\"{i}^ {j}\"\n",
    "\n",
    "SPEs = Hamil.epsilon\n",
    "obs = [ ]\n",
    "coeffs = [ ]\n",
    "\n",
    "# 1-Zp term\n",
    "for i in range(Hamil.Norb):\n",
    "    op = qml.Identity(i) - qml.PauliZ(i)\n",
    "    obs += [ op ]\n",
    "    coeffs += [ 0.5 * (SPEs[i] - Hamil.gval) ]\n",
    "# XX+YY term\n",
    "for i in range(Hamil.Norb):\n",
    "    for j in range(Hamil.Norb):\n",
    "        if i == j:\n",
    "            continue\n",
    "        factor = - Hamil.gval / 4\n",
    "        XX = qml.PauliX(i) @ qml.PauliX(j); obs += [ XX ]; coeffs+= [ factor ]\n",
    "        YY = qml.PauliY(i) @ qml.PauliY(j); obs += [ YY ]; coeffs+= [ factor ]\n",
    "H_qubit = qml.Hamiltonian(coeffs, obs)"
   ]
  },
  {
   "cell_type": "markdown",
   "metadata": {},
   "source": [
    "## HF状態の準備と測定\n"
   ]
  },
  {
   "cell_type": "code",
   "execution_count": 7,
   "metadata": {},
   "outputs": [
    {
     "name": "stdout",
     "output_type": "stream",
     "text": [
      "occ.  [0, 1] E_HF:  1.3399999999999999\n",
      "occ.  [0, 2] E_HF:  3.34\n",
      "occ.  [1, 2] E_HF:  5.340000000000001\n",
      "occ.  [0, 3] E_HF:  5.34\n",
      "occ.  [1, 3] E_HF:  7.34\n",
      "occ.  [2, 3] E_HF:  9.34\n",
      "あってるかチェック... Hmat_diag.  [1.34 3.34 5.34 5.34 7.34 9.34]\n"
     ]
    }
   ],
   "source": [
    "def call_HF(occupied, ret=\"H\"):\n",
    "    for i in occupied:\n",
    "        qml.PauliX(wires=i)\n",
    "    if ret == \"H\":\n",
    "        return qml.expval(H_qubit)\n",
    "    elif ret == \"Z\":\n",
    "        return np.array([ qml.sample(qml.PauliZ(i)) for i in range(Norb)])  \n",
    "    elif ret == \"state\":\n",
    "        return qml.state()\n",
    "    \n",
    "dev = qml.device(\"default.qubit\", wires=Norb)\n",
    "@qml.qnode(dev)\n",
    "def circuit(occupied, ret=\"H\"):\n",
    "    return call_HF(occupied, ret)\n",
    "\n",
    "for occupied in [[0, 1], [0,2], [1,2], [0,3], [1,3], [2,3]]:\n",
    "    E_HF = circuit(occupied)\n",
    "    print(\"occ. \", occupied, \"E_HF: \", E_HF)\n",
    "\n",
    "print(\"あってるかチェック... Hmat_diag. \", np.diag(Hamil.Hmat))"
   ]
  },
  {
   "cell_type": "markdown",
   "metadata": {},
   "source": [
    "## 回路によるEnergy測定\n",
    "\n",
    "以下では、実際に回路を用いてエネルギーを測定しつつ、(statevectorを使って、という条件付きだが)回路パラメータの最適化も行う。  \n",
    ":::{margin}\n",
    "筆者はここで、こんな浅い回路で勾配消失が起こるとは思えない一方で最適化が全然進まず、時間を溶かした。\n",
    "こんなん知らんがな、と言いたくもなる。\n",
    ":::\n",
    "やはりここでも注意しないといけないのが、回路のパラメータもpennylane内のnumpyを使って、TorchTensorで与える必要がある。\n",
    "最適化すべき角度のパラメータをリストで与えると最適化が進まない。"
   ]
  },
  {
   "cell_type": "code",
   "execution_count": 8,
   "metadata": {},
   "outputs": [],
   "source": [
    "params_exact = 2 * np.array(\n",
    "    [-0.24052408031489098, -0.5198881673506184, -0.49481759937881004, -0.5924147175751697, -0.27420571516474473]\n",
    "    ) "
   ]
  },
  {
   "cell_type": "code",
   "execution_count": 29,
   "metadata": {},
   "outputs": [
    {
     "data": {
      "image/png": "[encoded data removed]",
      "text/plain": [
       "<Figure size 900x500 with 1 Axes>"
      ]
     },
     "metadata": {},
     "output_type": "display_data"
    },
    {
     "name": "stderr",
     "output_type": "stream",
     "text": [
      "/Users/sym4p/lec_uu_drive/Lecture_SummerSchool2025/myenv/lib/python3.13/site-packages/pennylane/ops/op_math/composite.py:209: FutureWarning: functools.partial will be a method descriptor in future Python versions; wrap it in staticmethod() if you want to preserve the old behavior\n",
      "  return self._math_op(math.vstack(eigvals), axis=0)\n"
     ]
    },
    {
     "name": "stdout",
     "output_type": "stream",
     "text": [
      "Initial guess\n",
      "E 7.852599799498703 Egs_exact 1.1898518351360725 Diff. 6.662747964362631\n",
      "Optimized\n",
      "E 1.1898518351360716 Egs_exact 1.1898518351360725 Diff. -8.881784197001252e-16\n"
     ]
    },
    {
     "data": {
      "image/png": "[encoded data removed]",
      "text/plain": [
       "<Figure size 800x400 with 1 Axes>"
      ]
     },
     "metadata": {},
     "output_type": "display_data"
    },
    {
     "name": "stdout",
     "output_type": "stream",
     "text": [
      "params Opt:   [-0.48104816  1.03977633 -0.9896352  -5.09835587  5.73477388]\n",
      "params_exact: [-0.48104816 -1.03977633 -0.9896352  -1.18482944 -0.54841143]\n"
     ]
    }
   ],
   "source": [
    "def plot_Energy_Opt(energies):\n",
    "    plt.rcParams[\"font.size\"] = 14\n",
    "    plt.figure(figsize=(8, 4))\n",
    "    plt.plot(energies, label=\"Simulation\")\n",
    "    for eval in evals:\n",
    "        plt.axhline(y=eval, color=\"gray\", linestyle=\"dotted\")\n",
    "    plt.axhline(y=Egs_exact, color=\"black\", linestyle=\"dashed\", label=\"Exact g.s.\")\n",
    "    plt.xlabel(\"Gradient descent iterations\")\n",
    "    plt.ylabel(\"Energy\")\n",
    "    plt.legend()\n",
    "    plt.show()\n",
    "\n",
    "def call_ansatz(params, ret=\"H\"):   \n",
    "    for i in range(Nocc):\n",
    "        qml.PauliX(wires=i)\n",
    "    qml.SingleExcitation(params[0], wires=[1,2])\n",
    "    qml.SingleExcitation(params[1], wires=[2,3])\n",
    "    qml.ctrl(qml.SingleExcitation, control=[2])(params[2], wires=[0,1])\n",
    "    qml.ctrl(qml.SingleExcitation, control=[3])(params[3], wires=[0,1])\n",
    "    qml.ctrl(qml.SingleExcitation, control=[3])(params[4], wires=[1,2])\n",
    "    if ret == \"H\":\n",
    "        return qml.expval(H_qubit)\n",
    "    elif ret == \"Z\":\n",
    "        return np.array([ qml.sample(qml.PauliZ(i)) for i in range(Norb)])   \n",
    "    elif ret == \"state\":\n",
    "        return qml.state()\n",
    "\n",
    "dev = qml.device(\"default.qubit\", wires=Norb) \n",
    "@qml.qnode(dev)\n",
    "def ansatz(params):\n",
    "    return call_ansatz(params, \"H\")\n",
    "\n",
    "# Specifying the initial parameters\n",
    "num_params = 5\n",
    "params = np.random.uniform(-np.pi, +np.pi, num_params)\n",
    "\n",
    "# Drawing the circuit\n",
    "style=\"sketch\"\n",
    "qml.drawer.use_style(style)\n",
    "fig, ax  = qml.draw_mpl(ansatz)(params)\n",
    "plt.show()\n",
    "plt.close()\n",
    "\n",
    "# Calculating the energy\n",
    "E = ansatz(params)\n",
    "print(\"Initial guess\\nE\", E, \"Egs_exact\", Egs_exact, \"Diff.\", E - Egs_exact)\n",
    "\n",
    "# Optimizing parameters (not working)\n",
    "if True: #False:\n",
    "    N_its = 500\n",
    "    energies = []\n",
    "    optimizer = qml.AdamOptimizer(stepsize=1.e-1)\n",
    "    for _ in range(N_its):\n",
    "        params, _cost = optimizer.step_and_cost(ansatz, params)    \n",
    "        energies.append(_cost)\n",
    "    plot_Energy_Opt(energies)\n",
    "    E = ansatz(params)\n",
    "    print(\"Optimized\\nE\", E, \"Egs_exact\", Egs_exact, \"Diff.\", E - Egs_exact)\n",
    "    print(\"params Opt:  \", params)\n",
    "    print(\"params_exact:\", params_exact)"
   ]
  },
  {
   "cell_type": "markdown",
   "metadata": {},
   "source": [
    "デバイスの設定でshot数を設定すると、statevectorではなく、結果の統計を得ることができる。"
   ]
  },
  {
   "cell_type": "code",
   "execution_count": null,
   "metadata": {},
   "outputs": [],
   "source": [
    "def sample_to_counts(sample):\n",
    "    n_qubits, n_shots = np.shape(sample)\n",
    "    sample_bin = (1-np.array(sample))/2\n",
    "    dict_counts = { }\n",
    "    for i in range(n_shots):\n",
    "        label = ''.join([str(int(sample_bin[j,i])) for j in range(n_qubits)])\n",
    "        dict_counts[label] = dict_counts.get(label, 0) + 1\n",
    "    return dict_counts\n",
    "\n",
    "dev = qml.device(\"default.qubit\", wires=range(Norb), shots=10000)\n",
    "@qml.qnode(dev)\n",
    "def ansatz(params):\n",
    "    return call_ansatz(params, \"Z\")\n",
    "\n",
    "params = params_exact\n",
    "\n",
    "config_ordered = [ ] \n",
    "for config in itertools.combinations(range(Norb),Nocc):\n",
    "    config_ordered += [f'{sum([2**i for i in config]):0{Norb}b}']\n",
    "\n",
    "labels = sorted(config_ordered,reverse=True)\n",
    "counts = sample_to_counts(ansatz(params))\n",
    "values = [ ]\n",
    "for config in labels:\n",
    "    values.append(counts.get(config, 0))\n",
    "values = np.array(values) / np.sum(values)\n",
    "\n",
    "fig = plt.figure(figsize=(10, 4))\n",
    "plt.bar(labels,values)\n",
    "for i in range(len(labels)):\n",
    "    plt.text(i, values[i], str(values[i]), ha='center', va='bottom')\n",
    "plt.xlabel('bitstrings')\n",
    "plt.ylabel('counts')\n",
    "plt.xticks(rotation=90)\n",
    "plt.show()\n",
    "plt.close()\n"
   ]
  },
  {
   "cell_type": "code",
   "execution_count": null,
   "metadata": {},
   "outputs": [],
   "source": [
    "# Checking the state-vector\n",
    "dev = qml.device(\"default.qubit\", wires=range(Norb))\n",
    "@qml.qnode(dev)\n",
    "def ansatz(params):\n",
    "    return call_ansatz(params, \"state\")\n",
    "\n",
    "ansatz(params)"
   ]
  },
  {
   "cell_type": "markdown",
   "metadata": {},
   "source": [
    "## 補足\n",
    "\n",
    "pennylaneでは標準のバックエンド`dev = qml.device(\"default.qubit\", wires=n_qubits)`に加えて、\n",
    "C++による高速なstatevectorのシミュレーションが可能なバックエンドも用意されている。\n",
    "\n",
    "```python\n",
    "dev = qml.device(\"lightning.qubit\", wires=n_qubits)\n",
    "```\n",
    "\n",
    "などとしてやれば良い。ただし、最近Pythonのライブラリの依存関係の考え方が変わり、\n",
    "brewやaptなどシステムのパッケージマネージャ経由でインストールすべし、とされている。\n",
    "\n",
    "このあたりの事情から、少々手こずるかもしれない。\n",
    "依存関係ぶっ壊れてもいいからpipで強引にインストールする方法もあるが、仮想環境の作成が推奨ということであろう。"
   ]
  }
 ],
 "metadata": {
  "colab": {
   "provenance": []
  },
  "kernelspec": {
   "display_name": "myenv",
   "language": "python",
   "name": "python3"
  },
  "language_info": {
   "codemirror_mode": {
    "name": "ipython",
    "version": 3
   },
   "file_extension": ".py",
   "mimetype": "text/x-python",
   "name": "python",
   "nbconvert_exporter": "python",
   "pygments_lexer": "ipython3",
   "version": "3.13.1"
  }
 },
 "nbformat": 4,
 "nbformat_minor": 0
}
