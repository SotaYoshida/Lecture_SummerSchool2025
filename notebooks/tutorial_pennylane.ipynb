{
 "cells": [
  {
   "cell_type": "markdown",
   "metadata": {
    "id": "a_bPmqzx1Zhi"
   },
   "source": [
    "# Pennylaneの使い方"
   ]
  },
  {
   "cell_type": "code",
   "execution_count": 1,
   "metadata": {},
   "outputs": [],
   "source": [
    "import itertools\n",
    "from itertools import combinations\n",
    "import pennylane as qml\n",
    "from pennylane import numpy as np\n",
    "import openfermion as of\n",
    "import matplotlib.pyplot as plt"
   ]
  },
  {
   "cell_type": "markdown",
   "metadata": {},
   "source": [
    "回路で様々な状態を表現するが、その結果を見る際に、主に下記の二通りを用いる。\n",
    "\n",
    "- state vector(状態ベクトル) → 閉じた形での重みの表現\n",
    "- Pauli-Xの測定　→ shot数の結果によるヒストグラム\n",
    "\n",
    "前者は、量子状態の重みを見ることができるが、量子ビット数が増えると項の数や勾配などの計算が困難になるため、\n",
    "あくまで古典計算が可能な系や、量子ビット数が少ない場合のチェックに用いる。\n",
    "後者は、shot数による結果のばらつきがあることに注意が必要であるが、実機での実行結果に近い形で結果を得ることができる。"
   ]
  },
  {
   "cell_type": "markdown",
   "metadata": {},
   "source": [
    "## Single Givens rotation\n",
    "\n",
    "$$\n",
    "\\begin{align}\n",
    "G(\\theta) \\ket{ 01 } & = \\cos(\\theta/2) \\ket{01} + \\sin(\\theta/2) \\ket{10} \\\\\n",
    "G(\\theta) \\ket{ 10 } & = \\cos(\\theta/2) \\ket{10} -\\sin(\\theta/2) \\ket{01} \n",
    "\\end{align}\n",
    "$$\n",
    "\n"
   ]
  },
  {
   "cell_type": "code",
   "execution_count": 6,
   "metadata": {},
   "outputs": [
    {
     "data": {
      "text/plain": [
       "tensor([ 0.        +0.j, -0.70710678+0.j,  0.70710678+0.j,\n",
       "         0.        +0.j], requires_grad=True)"
      ]
     },
     "execution_count": 6,
     "metadata": {},
     "output_type": "execute_result"
    }
   ],
   "source": [
    "n_qubit = 2\n",
    "dev = qml.device(\"default.qubit\", wires=range(n_qubit))\n",
    "@qml.qnode(dev)\n",
    "def ansatz(params):\n",
    "    qml.PauliX(wires=0) \n",
    "    qml.SingleExcitation(params[0], wires=[0,1])\n",
    "    return qml.state()\n",
    "\n",
    "theta = [ np.pi/4 * 2 ]\n",
    "ansatz(theta)"
   ]
  },
  {
   "cell_type": "code",
   "execution_count": null,
   "metadata": {},
   "outputs": [],
   "source": []
  }
 ],
 "metadata": {
  "colab": {
   "provenance": []
  },
  "kernelspec": {
   "display_name": "Python 3",
   "language": "python",
   "name": "python3"
  },
  "language_info": {
   "codemirror_mode": {
    "name": "ipython",
    "version": 3
   },
   "file_extension": ".py",
   "mimetype": "text/x-python",
   "name": "python",
   "nbconvert_exporter": "python",
   "pygments_lexer": "ipython3",
   "version": "3.10.14"
  }
 },
 "nbformat": 4,
 "nbformat_minor": 0
}
