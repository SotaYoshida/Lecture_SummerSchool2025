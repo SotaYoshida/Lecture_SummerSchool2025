{
 "cells": [
  {
   "cell_type": "markdown",
   "metadata": {
    "id": "a_bPmqzx1Zhi"
   },
   "source": [
    "# Unitary Coupled Cluster (UCC) for pairing Hamiltonians\n",
    "\n",
    "\n",
    "Qiskitには、Qiskit Natureの中に、UCC系のansatzの実装がある:\n",
    "\n",
    "- [Qiskit Nature/UCC](https://qiskit-community.github.io/qiskit-nature/stubs/qiskit_nature.second_q.circuit.library.UCC.html)\n",
    "\n",
    "- [Qiskit Algorithms/VQE](https://qiskit-community.github.io/qiskit-algorithms/stubs/qiskit_algorithms.VQE.html)\n",
    "\n",
    "これらを利用してpairing HamiltonianでUCC計算を行ってみよう。\n",
    "QiskitのUCC実装は、軌道をup/down spinに分けるなど、電子系/量子化学での計算を念頭においている。\n",
    "したがって、核子系や、pairingのpair自由度を畳んでhard-core boson化した場合は、適切なオプションの指定が必要となる。\n",
    "\n",
    "その他、`qiskit_algorithms.minimum_eigensolvers.VQE`が、古い(v2ではduplicated)Estimatorを使うので、将来的にはコードの修正が必要となるであろう点に注意となる。\n",
    "\n",
    "Nq = 6, Nocc = 3の場合の厳密解を求めておこう。"
   ]
  },
  {
   "cell_type": "code",
   "execution_count": null,
   "metadata": {
    "tags": [
     "hide-input"
    ]
   },
   "outputs": [
    {
     "name": "stdout",
     "output_type": "stream",
     "text": [
      "Egs_exact:  4.741264131588444  E_HF 5.01\n"
     ]
    }
   ],
   "source": [
    "import numpy as np\n",
    "from itertools import combinations\n",
    "from qiskit.quantum_info import SparsePauliOp\n",
    "from qiskit_nature.second_q.mappers import JordanWignerMapper\n",
    "from qiskit_nature.second_q.circuit.library.ansatzes import UCC\n",
    "from qiskit_nature.second_q.circuit.library import UCCSD, HartreeFock\n",
    "from qiskit_algorithms.optimizers import SLSQP\n",
    "from qiskit_algorithms.minimum_eigensolvers import AdaptVQE, VQE\n",
    "from qiskit.primitives import Estimator as oEstimator #duplicate!\n",
    "from qiskit_aer.primitives import Estimator, EstimatorV2\n",
    "\n",
    "class PairingHamiltonian:\n",
    "    def __init__(self, Norb, Nocc, gval, delta_eps=1.0):\n",
    "        self.Norb = Norb\n",
    "        self.Nocc = Nocc\n",
    "        self.delta_eps = delta_eps\n",
    "        self.gval = gval\n",
    "        self.basis = self.make_basis()\n",
    "        self.epsilon = self.eval_epsilon()\n",
    "        self.Hmat = self.eval_Hmat()\n",
    "\n",
    "    def make_basis(self):\n",
    "        self.basis = []\n",
    "        for occ in combinations(range(self.Norb), self.Nocc):\n",
    "            self.basis.append(occ)\n",
    "\n",
    "        return self.basis\n",
    "    \n",
    "    def eval_epsilon(self):\n",
    "        self.epsilon = [ 2 * i * self.delta_eps for i in range(self.Norb) ]\n",
    "        return self.epsilon\n",
    "    \n",
    "    def eval_Hmat(self):\n",
    "        dim = len(self.basis)\n",
    "        self.Hmat = np.zeros((dim, dim))\n",
    "        for bra_idx, bra in enumerate(self.basis):\n",
    "            for ket_idx, ket in enumerate(self.basis):\n",
    "                # Hamming distance\n",
    "                diff = [ i for i in bra if i not in ket ]\n",
    "                same = [ i for i in bra if i in ket ]\n",
    "                # for SPE term\n",
    "                if bra_idx == ket_idx:\n",
    "                    self.Hmat[bra_idx, ket_idx] += np.sum( [self.epsilon[i] for i in same])\n",
    "                    self.Hmat[bra_idx, ket_idx] += - self.gval * len(same) \n",
    "                # for pairing term\n",
    "                if len(diff) == 1:\n",
    "                    self.Hmat[bra_idx, ket_idx] = - self.gval\n",
    "\n",
    "        return self.Hmat\n",
    "\n",
    "def tuple_to_bitstring(tup, Norb, rev=True):\n",
    "    bitint = 0\n",
    "    for i in tup:\n",
    "        bitint += 2**i\n",
    "    if rev:\n",
    "        bitstring = \"|\"+format(bitint, f'0{Norb}b')[::-1]+\">\"\n",
    "    else:\n",
    "        bitstring = \"|\"+format(bitint, f'0{Norb}b')+\">\"        \n",
    "    return bitstring\n",
    "\n",
    "\n",
    "params_exact = np.array([-0.48104276, -1.03976498, -0.98963981, -1.18481738, -0.54832984])\n",
    "\n",
    "Norb = 6\n",
    "Nocc = 3\n",
    "gval = 0.33  \n",
    "\n",
    "Hamil = PairingHamiltonian(Norb, Nocc, gval)\n",
    "evals, evecs = np.linalg.eigh(Hamil.Hmat)\n",
    "evals = np.linalg.eigvalsh(Hamil.Hmat)\n",
    "Egs_exact = evals[0]\n",
    "E_HF = Hamil.Hmat[0,0]\n",
    "print(\"Egs_exact: \", Egs_exact, \" E_HF\", E_HF)\n",
    "\n",
    "SPEs = Hamil.epsilon\n",
    "\n",
    "pauli_list = [ ]\n",
    "obs = [ ]\n",
    "coeffs = [ ]\n",
    "\n",
    "# I term\n",
    "coeff = 0.0\n",
    "op = \"I\" * Norb\n",
    "for i in range(Norb):\n",
    "    coeff += 0.5 * ( SPEs[i] - Hamil.gval ) \n",
    "obs += [op]\n",
    "coeffs += [coeff]\n",
    "# -Zp term\n",
    "for i in range(Norb):\n",
    "    op = \"I\" * Norb\n",
    "    op = op[:i] + \"Z\" + op[i+1:]\n",
    "    coeff = -0.5 * ( SPEs[i] - Hamil.gval )\n",
    "\n",
    "    op = op[::-1]\n",
    "    obs += [op]\n",
    "    coeffs += [coeff]\n",
    "# XX+YY term\n",
    "for i in range(Hamil.Norb):\n",
    "    for j in range(i+1, Hamil.Norb):\n",
    "        factor = - Hamil.gval / 2\n",
    "        op = \"I\" * Norb\n",
    "        op = op[:i] + \"X\" + op[i+1:j] + \"X\" + op[j+1:]\n",
    "        op = op[::-1]\n",
    "        obs += [op]\n",
    "        coeffs += [ factor ]\n",
    "        op = \"I\" * Norb\n",
    "        op = op[::-1]\n",
    "        op = op[:i] + \"Y\" + op[i+1:j] + \"Y\" + op[j+1:]\n",
    "        obs += [op]\n",
    "        coeffs += [ factor ]\n",
    "\n",
    "hamiltonian_op = SparsePauliOp(obs, coeffs)\n"
   ]
  },
  {
   "cell_type": "markdown",
   "metadata": {},
   "source": [
    "## UCCによるVQE計算\n",
    "\n",
    "以下では、UCCのsingle(UCCS)とsingle+double(UCCSD)を用いて、pairing Hamiltonianのground stateを求める。\n",
    "※singleといっても、pairの自由度を考慮しているので、エネルギーを稼ぐことができる。\n",
    "\n",
    "UCCやUCCSDクラスを使う場合は、\n",
    "\n",
    "- `Norb`: 軌道数(up+down spinそれぞれを同じ数持つことが想定されている)\n",
    "- `num_particles`: up/down spinのparticle数\n",
    "- `generalized`: `True`にすると、hole-holeのような項も考慮される。\n",
    "- `preserve_spin`: `True`にすると、up/down spinの数を保持するようなUCCが実装される。(proton/neutronに応用できる)\n",
    "\n",
    "などのオプションがある。詳しくは[documentation](https://qiskit-community.github.io/qiskit-nature/stubs/qiskit_nature.second_q.circuit.library.UCC.html)を参照のこと。\n",
    "\n"
   ]
  },
  {
   "cell_type": "code",
   "execution_count": null,
   "metadata": {},
   "outputs": [
    {
     "data": {
      "text/html": [
       "<pre style=\"word-wrap: normal;white-space: pre;background: #fff0;line-height: 1.1;font-family: &quot;Courier New&quot;,Courier,monospace\">     ┌───┐\n",
       "q_0: ┤ X ├\n",
       "     └───┘\n",
       "q_1: ─────\n",
       "          \n",
       "q_2: ─────\n",
       "     ┌───┐\n",
       "q_3: ┤ X ├\n",
       "     ├───┤\n",
       "q_4: ┤ X ├\n",
       "     └───┘\n",
       "q_5: ─────\n",
       "          </pre>"
      ],
      "text/plain": [
       "     ┌───┐\n",
       "q_0: ┤ X ├\n",
       "     └───┘\n",
       "q_1: ─────\n",
       "          \n",
       "q_2: ─────\n",
       "     ┌───┐\n",
       "q_3: ┤ X ├\n",
       "     ├───┤\n",
       "q_4: ┤ X ├\n",
       "     └───┘\n",
       "q_5: ─────\n",
       "          "
      ]
     },
     "metadata": {},
     "output_type": "display_data"
    },
    {
     "name": "stdout",
     "output_type": "stream",
     "text": [
      "UCCS: \n",
      "Excitation list:  [((0,), (1,)), ((0,), (2,)), ((0,), (5,)), ((3,), (1,)), ((3,), (2,)), ((3,), (5,)), ((4,), (1,)), ((4,), (2,)), ((4,), (5,))]\n",
      "Number of parameters:  9\n",
      "UCCSD: \n",
      "Excitation list:  [((0,), (1,)), ((0,), (2,)), ((0,), (5,)), ((3,), (1,)), ((3,), (2,)), ((3,), (5,)), ((4,), (1,)), ((4,), (2,)), ((4,), (5,)), ((0, 3), (1, 2)), ((0, 3), (1, 5)), ((0, 4), (1, 2)), ((0, 4), (1, 5)), ((0, 3), (2, 5)), ((0, 4), (2, 5)), ((3, 4), (1, 2)), ((3, 4), (1, 5)), ((3, 4), (2, 5))]\n",
      "Number of parameters:  18\n"
     ]
    }
   ],
   "source": [
    "num_particles = (Nocc//2, Nocc-Nocc//2) #←粒子数が多いとき、α/β側の軌道を全部埋めると励起が考えられないようなので、少し変な実装にした。\n",
    "\n",
    "mapper = JordanWignerMapper()\n",
    "\n",
    "init_state=HartreeFock(\n",
    "    Norb//2,\n",
    "    num_particles=num_particles,\n",
    "    qubit_mapper=mapper,\n",
    ")\n",
    "display(init_state.draw())\n",
    "\n",
    "ucc_s = UCC(\n",
    "    Norb//2,\n",
    "    num_particles=num_particles,\n",
    "    excitations=\"s\",\n",
    "    qubit_mapper = mapper,\n",
    "    generalized=False,\n",
    "    initial_state=init_state,\n",
    "    preserve_spin=False\n",
    ")\n",
    "\n",
    "ucc_sd = UCC(\n",
    "    Norb//2,\n",
    "    num_particles=num_particles,\n",
    "    excitations=\"sd\",\n",
    "    qubit_mapper = mapper,\n",
    "    generalized=False,\n",
    "    initial_state=init_state,\n",
    "    preserve_spin=False\n",
    ")\n",
    "\n",
    "print(\"UCCS: \")\n",
    "print(\"Excitation list: \", ucc_s.excitation_list)\n",
    "print(\"Number of parameters: \", ucc_s.num_parameters)\n",
    "\n",
    "print(\"UCCSD: \")\n",
    "print(\"Excitation list: \", ucc_sd.excitation_list)\n",
    "print(\"Number of parameters: \", ucc_sd.num_parameters)"
   ]
  },
  {
   "cell_type": "markdown",
   "metadata": {},
   "source": [
    "回路ができたので、VQEを実行してみよう。\n",
    "適当にiteration回数を設定して..."
   ]
  },
  {
   "cell_type": "code",
   "execution_count": 13,
   "metadata": {},
   "outputs": [
    {
     "name": "stderr",
     "output_type": "stream",
     "text": [
      "/var/folders/w4/qfsp76x90732_cjtryhq_19w0000gn/T/ipykernel_56100/3666880401.py:4: DeprecationWarning: The class ``qiskit.primitives.estimator.Estimator`` is deprecated as of qiskit 1.2. It will be removed no earlier than 3 months after the release date. All implementations of the `BaseEstimatorV1` interface have been deprecated in favor of their V2 counterparts. The V2 alternative for the `Estimator` class is `StatevectorEstimator`.\n",
      "  vqe = VQE(oEstimator(), ucc_s, optimizer)\n"
     ]
    },
    {
     "name": "stdout",
     "output_type": "stream",
     "text": [
      "E(UCCS):  4.750238826425197 Egs_exact:  4.741264131588444  E_HF 5.01\n"
     ]
    },
    {
     "name": "stderr",
     "output_type": "stream",
     "text": [
      "/var/folders/w4/qfsp76x90732_cjtryhq_19w0000gn/T/ipykernel_56100/3666880401.py:10: DeprecationWarning: The class ``qiskit.primitives.estimator.Estimator`` is deprecated as of qiskit 1.2. It will be removed no earlier than 3 months after the release date. All implementations of the `BaseEstimatorV1` interface have been deprecated in favor of their V2 counterparts. The V2 alternative for the `Estimator` class is `StatevectorEstimator`.\n",
      "  vqe = VQE(oEstimator(), ucc_sd, optimizer)\n"
     ]
    },
    {
     "name": "stdout",
     "output_type": "stream",
     "text": [
      "E(UCCSD):  4.744960373051082 Egs_exact:  4.741264131588444  E_HF 5.01\n"
     ]
    }
   ],
   "source": [
    "niter = 50\n",
    "optimizer = SLSQP(maxiter=niter, ftol=1e-6)\n",
    "\n",
    "vqe = VQE(oEstimator(), ucc_s, optimizer)\n",
    "vqe.initial_point = np.zeros(ucc_s.num_parameters, dtype=float)\n",
    "vqe_result = vqe.compute_minimum_eigenvalue(hamiltonian_op)\n",
    "binding_energy = vqe_result.optimal_value\n",
    "print(\"E(UCCS): \", binding_energy, \"Egs_exact: \", Egs_exact, \" E_HF\", E_HF)\n",
    "\n",
    "vqe = VQE(oEstimator(), ucc_sd, optimizer)\n",
    "vqe.initial_point = np.zeros(ucc_sd.num_parameters, dtype=float)\n",
    "vqe_result = vqe.compute_minimum_eigenvalue(hamiltonian_op)\n",
    "binding_energy = vqe_result.optimal_value\n",
    "print(\"E(UCCSD): \", binding_energy, \"Egs_exact: \", Egs_exact, \" E_HF\", E_HF)"
   ]
  },
  {
   "cell_type": "markdown",
   "metadata": {},
   "source": [
    "iteration回数やoptimizerにも依存するが、期待する通り、UCCS < UCCSDの順に精度が良いことも見えた。\n",
    "\n",
    "なお、Nq=6, Nocc=3の場合は、配位の数が20であるので、UCCSDのパラメータ18はほぼすべての自由度(19)を取り尽くしている。一方で、UCCSはその半分の自由度でcorrelation energy(ここではE(HF)-E(FCI))の95%以上を説明していることもわかる。"
   ]
  }
 ],
 "metadata": {
  "colab": {
   "provenance": []
  },
  "kernelspec": {
   "display_name": "3.11.4",
   "language": "python",
   "name": "python3"
  },
  "language_info": {
   "codemirror_mode": {
    "name": "ipython",
    "version": 3
   },
   "file_extension": ".py",
   "mimetype": "text/x-python",
   "name": "python",
   "nbconvert_exporter": "python",
   "pygments_lexer": "ipython3",
   "version": "3.11.4"
  }
 },
 "nbformat": 4,
 "nbformat_minor": 0
}
