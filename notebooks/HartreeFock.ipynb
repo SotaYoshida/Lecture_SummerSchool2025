{
 "cells": [
  {
   "cell_type": "markdown",
   "metadata": {},
   "source": [
    "# Hartree-Fock\n",
    "\n",
    "Hartree-Fock法を一言でいうと、多体系の波動関数を単一のスレーター行列式で表現する方法と言える。\n",
    "\n",
    "**スレーター行列式**の部分が、Fermion系の反対称性を担保している。\n",
    "**単一の**部分をどう選ぶかは単純で、最もエネルギーが低い状態を選ぶ。\n",
    "別の見方をすれば、一粒子軌道の線形変換を用いて、エネルギーを最小化する基底へと変換する方法とも言える。\n",
    "\n",
    "\n",
    "pairing Hamiltonianの場合は、縮退した同一軌道間にのみ相互作用が働くという事情から、\n",
    "基底の線形変換を考えても特にエネルギーの利得はなく、naive fillingと同一になるが、\n",
    "あとに続く手法(MBPT, CC, IMSRG)との関係もあるので紹介しておこう。\n"
   ]
  },
  {
   "cell_type": "markdown",
   "metadata": {},
   "source": [
    "## HF方程式の導出\n",
    "\n",
    "\n",
    "元の一粒子基底の添字をギリシャ文字で、最適化された一粒子基底の添字をラテン文字で表すことにする。\n",
    "このとき、基底の線形変換を行列$C$で表すことにする。　\n",
    "\n",
    "$$\n",
    "\\begin{align}\n",
    "\\ket{\\alpha} & = \\sum_{\\alpha} C_{\\alpha i} \\ket{i}\n",
    "\\end{align}\n",
    "$$\n",
    "\n",
    "このような$C$を施した新たな基底で下から順番に粒子を詰めていった際に、エネルギーが最小になるような$C$を求めることがHF法の目的である。\n",
    "\n",
    "平均場での(単一configurationでの)エネルギーの表式は、以下のように書ける。\n",
    "\n",
    "$$\n",
    "E_{HF} = \\sum_{i \\leq F} \\langle i | h | i \\rangle + \\frac{1}{2} \\sum_{ij \\leq F} \\langle ij | v | ij \\rangle\n",
    "= \\sum_{i \\leq F} \\sum_{\\alpha \\beta} C^T_{i \\alpha} C_{i \\beta}\\langle \\alpha | h | \\beta \\rangle + \\frac{1}{2} \\sum_{ij \\leq F} \\sum_{\\alpha \\beta \\gamma \\delta} C^T_{i \\alpha} C^T_{j \\beta} C_{i \\gamma} C_{j \\delta} \\langle \\alpha \\beta | v | \\gamma \\delta \\rangle\n",
    "$$\n",
    "\n",
    "拘束条件として、$C^T C = 1$を課して、Lagrangeの未定乗数法を用いて停留条件をみてやれば、HF方程式が得られる。\n",
    "\n",
    "$$\n",
    "\\sum_{\\beta} \\left( h_{\\alpha \\beta} + \\sum_{\\gamma \\delta} \\sum_{j \\leq F} C^T_{j \\gamma} C_{j \\delta} \\langle \\alpha \\gamma | v | \\beta \\delta \\rangle \\right) C_{i \\beta} = \\lambda C_{i \\alpha}\n",
    "$$\n",
    "\n",
    "これはFock行列\n",
    "\n",
    "$$\n",
    "F_{\\alpha\\beta} \\equiv \\langle \\alpha | h | \\beta \\rangle + \\sum_{\\gamma \\delta} \\sum_{j \\leq F} C^T_{j \\gamma} C_{i \\delta} \\langle \\alpha \\gamma | v | \\beta \\delta \\rangle\n",
    "$$\n",
    "\n",
    "についての固有値方程式の形になっている。\n",
    "\n",
    "$$\n",
    "\\sum_{\\beta} F_{\\alpha\\beta} C_{i \\beta} = \\lambda  C_{i \\alpha}\n",
    "$$\n",
    "\n",
    "また、下記の密度行列を定義しておこう:\n",
    "\n",
    "$$\n",
    "\\rho_{\\alpha \\beta} = \\sum_{i \\leq F} \\langle \\alpha | i \\rangle \\langle i | \\beta \\rangle = \\sum^N_{i=1} C_{i \\alpha} C^T_{i \\beta}\n",
    "$$\n",
    "\n",
    "これにより、Fock行列は次のように書き換えられる。\n",
    "\n",
    "$$\n",
    "F_{\\alpha\\beta} = \\langle \\alpha | h | \\beta \\rangle + \\sum_{\\gamma \\delta} \\rho_{\\gamma \\delta} \\langle \\alpha \\gamma | v | \\beta \\delta \\rangle\n",
    "$$\n",
    "\n",
    "pairing Hamiltonianや模型空間の小さな(2主殻以下)の場合は、$h$が対角的なので、式は更に簡単になる。\n",
    "\n",
    "$$\n",
    "\\begin{align}\n",
    "F_{\\alpha\\beta} & = \\epsilon_{\\alpha} \\delta_{\\alpha\\beta} + \\sum_{\\gamma \\delta} \\rho_{\\gamma \\delta} \\langle \\alpha \\gamma | v | \\beta \\delta \\rangle \\\\\n",
    "E_{1b} & = \\sum_{i \\leq F} \\sum_{\\alpha\\beta} C^T_{i \\alpha} C_{i \\beta} \\langle \\alpha | h | \\beta \\rangle =\n",
    "\\sum_{\\alpha \\beta} \\rho_{\\alpha \\beta} \\langle \\alpha | h | \\beta \\rangle \\\\\n",
    "E_{2b} &= \\frac{1}{2}\\sum_{\\alpha\\beta\\gamma\\delta} \\rho_{\\alpha \\beta} \\rho_{\\gamma \\delta} \\langle \\alpha \\gamma | v | \\beta \\delta \\rangle\n",
    "\\end{align}\n",
    "$$"
   ]
  },
  {
   "cell_type": "markdown",
   "metadata": {},
   "source": [
    "あとは、\n",
    "\n",
    "1. Fock行列に対する固有値問題を解く\n",
    "2. 新しい密度行列を計算する\n",
    "3. Fock行列を更新する\n",
    "\n",
    "上記を収束するまで繰り返すだけとなる。ただし前述の通り、globalなpairing Hamiltonianの場合は、\n",
    "単純なnaive fillingと同じになるためこのプロセスは(収束判定の方法にもよるが)1回で終わり(更新なし)となる。"
   ]
  }
 ],
 "metadata": {
  "colab": {
   "collapsed_sections": [],
   "name": "Python_chapter_Bayesian_linear_regression.ipynb",
   "provenance": []
  },
  "kernelspec": {
   "display_name": "Julia 1.10.0",
   "language": "julia",
   "name": "julia-1.10"
  },
  "language_info": {
   "file_extension": ".jl",
   "mimetype": "application/julia",
   "name": "julia",
   "version": "1.10.0"
  }
 },
 "nbformat": 4,
 "nbformat_minor": 0
}
