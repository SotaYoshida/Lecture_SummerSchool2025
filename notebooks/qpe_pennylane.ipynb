{
 "cells": [
  {
   "cell_type": "markdown",
   "metadata": {
    "id": "a_bPmqzx1Zhi"
   },
   "source": [
    "# Pairing HamiltonianのQPE計算 (Pennylane)"
   ]
  },
  {
   "cell_type": "code",
   "execution_count": 1,
   "metadata": {},
   "outputs": [],
   "source": [
    "import numpy as o_np\n",
    "import itertools\n",
    "from itertools import combinations\n",
    "import matplotlib.pyplot as plt\n",
    "import pennylane as qml \n",
    "from pennylane import numpy as np\n",
    "import openfermion as of"
   ]
  },
  {
   "cell_type": "markdown",
   "metadata": {},
   "source": [
    "Hamiltonianを再掲しておこう:\n",
    "\n",
    "$$\n",
    "\\begin{align}\n",
    "P^{\\dagger}_p & = \\frac{1}{2} (X_p - iY_p) \\\\\n",
    "P_p & = \\frac{1}{2} (X_p + iY_p) \\\\\n",
    "N_p & = \\frac{1}{2} ( 1  - Z_p) \\\\\n",
    "H & = \\sum_{p} \\epsilon_p N_p - g \\sum_{pq} P^{\\dagger}_p P_q \\\\\n",
    "& = \\sum_{p} \\epsilon_p \\frac{1}{2} ( 1  - Z_p) - g \\sum_{pq} \\frac{1}{4} (X_p - iY_p)(X_q + iY_q) \\\\\n",
    "& = \\sum_{p} \\frac{\\epsilon_p - g}{2} (1 - Z_p ) - \\frac{g}{4} \\sum_{p \\neq q} (X_pX_q + Y_pY_q) \\\\\n",
    "\\end{align}\n",
    "$$"
   ]
  },
  {
   "cell_type": "code",
   "execution_count": 2,
   "metadata": {},
   "outputs": [
    {
     "name": "stdout",
     "output_type": "stream",
     "text": [
      "basis: [(0, 1), (0, 2), (0, 3), (1, 2), (1, 3), (2, 3)]\n",
      "['|1100>', '|1010>', '|1001>', '|0110>', '|0101>', '|0011>']\n",
      "eps:  [0.0, 2.0, 4.0, 6.0]\n",
      "Hmat:  [[ 1.34 -0.33 -0.33 -0.33 -0.33  0.  ]\n",
      " [-0.33  3.34 -0.33 -0.33  0.   -0.33]\n",
      " [-0.33 -0.33  5.34  0.   -0.33 -0.33]\n",
      " [-0.33 -0.33  0.    5.34 -0.33 -0.33]\n",
      " [-0.33  0.   -0.33 -0.33  7.34 -0.33]\n",
      " [ 0.   -0.33 -0.33 -0.33 -0.33  9.34]]\n",
      "evals:  [1.18985184 3.29649666 5.34       5.34       7.42853393 9.44511758]\n",
      "Egs_exact:  1.1898518351360725\n",
      "H_qubit:  -0.165 * (I(0) + -1 * Z(0)) + 0.835 * (I(1) + -1 * Z(1)) + 1.835 * (I(2) + -1 * Z(2)) + 2.835 * (I(3) + -1 * Z(3)) + -0.0825 * (X(0) @ X(1)) + -0.0825 * (Y(0) @ Y(1)) + -0.0825 * (X(0) @ X(2)) + -0.0825 * (Y(0) @ Y(2)) + -0.0825 * (X(0) @ X(3)) + -0.0825 * (Y(0) @ Y(3)) + -0.0825 * (X(1) @ X(0)) + -0.0825 * (Y(1) @ Y(0)) + -0.0825 * (X(1) @ X(2)) + -0.0825 * (Y(1) @ Y(2)) + -0.0825 * (X(1) @ X(3)) + -0.0825 * (Y(1) @ Y(3)) + -0.0825 * (X(2) @ X(0)) + -0.0825 * (Y(2) @ Y(0)) + -0.0825 * (X(2) @ X(1)) + -0.0825 * (Y(2) @ Y(1)) + -0.0825 * (X(2) @ X(3)) + -0.0825 * (Y(2) @ Y(3)) + -0.0825 * (X(3) @ X(0)) + -0.0825 * (Y(3) @ Y(0)) + -0.0825 * (X(3) @ X(1)) + -0.0825 * (Y(3) @ Y(1)) + -0.0825 * (X(3) @ X(2)) + -0.0825 * (Y(3) @ Y(2))\n"
     ]
    }
   ],
   "source": [
    "class PairingHamiltonian:\n",
    "    def __init__(self, Norb, Nocc, gval, delta_eps=1.0):\n",
    "        self.Norb = Norb\n",
    "        self.Nocc = Nocc\n",
    "        self.delta_eps = delta_eps\n",
    "        self.gval = gval\n",
    "        self.basis = self.make_basis()\n",
    "        self.epsilon = self.eval_epsilon()\n",
    "        self.Hmat = self.eval_Hmat()\n",
    "\n",
    "    def make_basis(self):\n",
    "        self.basis = []\n",
    "        for occ in combinations(range(self.Norb), self.Nocc):\n",
    "            self.basis.append(occ)\n",
    "\n",
    "        return self.basis\n",
    "    \n",
    "    def eval_epsilon(self):\n",
    "        self.epsilon = [ 2 * i * self.delta_eps for i in range(self.Norb) ]\n",
    "        return self.epsilon\n",
    "    \n",
    "    def eval_Hmat(self):\n",
    "        dim = len(self.basis)\n",
    "        self.Hmat = o_np.zeros((dim, dim))\n",
    "        for bra_idx, bra in enumerate(self.basis):\n",
    "            for ket_idx, ket in enumerate(self.basis):\n",
    "                # Hamming distance\n",
    "                diff = [ i for i in bra if i not in ket ]\n",
    "                same = [ i for i in bra if i in ket ]\n",
    "                # for SPE term\n",
    "                if bra_idx == ket_idx:\n",
    "                    self.Hmat[bra_idx, ket_idx] += np.sum( [self.epsilon[i] for i in same])\n",
    "                    self.Hmat[bra_idx, ket_idx] += - self.gval * len(same) \n",
    "                # for pairing term\n",
    "                if len(diff) == 1:\n",
    "                    self.Hmat[bra_idx, ket_idx] = - self.gval\n",
    "\n",
    "        return self.Hmat\n",
    "\n",
    "def tuple_to_bitstring(tup, Norb, rev=True):\n",
    "    bitint = 0\n",
    "    for i in tup:\n",
    "        bitint += 2**i\n",
    "    if rev:\n",
    "        bitstring = \"|\"+format(bitint, f'0{Norb}b')[::-1]+\">\"\n",
    "    else:\n",
    "        bitstring = \"|\"+format(bitint, f'0{Norb}b')+\">\"        \n",
    "    return bitstring\n",
    "\n",
    "def ij_tuple_to_AdagA_str(tuple_in):\n",
    "    i, j = tuple_in\n",
    "    return f\"{i}^ {j}\"\n",
    "\n",
    "Norb = 4\n",
    "Nocc = 2\n",
    "gval = 0.33  \n",
    "Hamil = PairingHamiltonian(Norb, Nocc, gval)\n",
    "evals = o_np.linalg.eigvalsh(Hamil.Hmat)\n",
    "Egs_exact = evals[0]\n",
    "\n",
    "print(\"basis:\", Hamil.basis)\n",
    "print([tuple_to_bitstring(tup, Norb) for tup in Hamil.basis])\n",
    "print(\"eps: \", Hamil.epsilon)\n",
    "print(\"Hmat: \", Hamil.Hmat)\n",
    "print(\"evals: \", evals)\n",
    "print(\"Egs_exact: \", Egs_exact)\n",
    "\n",
    "# Qubit Hamiltonian\n",
    "SPEs = Hamil.epsilon\n",
    "obs = [ ]\n",
    "coeffs = [ ]\n",
    "\n",
    "# 1-Zp term\n",
    "for i in range(Hamil.Norb):\n",
    "    op = qml.Identity(i) - qml.PauliZ(i)\n",
    "    obs += [ op ]\n",
    "    coeffs += [ 0.5 * (SPEs[i] - Hamil.gval) ]\n",
    "# XX+YY term\n",
    "for i in range(Hamil.Norb):\n",
    "    for j in range(Hamil.Norb):\n",
    "        if i == j:\n",
    "            continue\n",
    "        factor = - Hamil.gval / 4\n",
    "        XX = qml.PauliX(i) @ qml.PauliX(j); obs += [ XX ]; coeffs+= [ factor ]\n",
    "        YY = qml.PauliY(i) @ qml.PauliY(j); obs += [ YY ]; coeffs+= [ factor ]\n",
    "H_qubit = qml.Hamiltonian(coeffs, obs)\n",
    "print(\"H_qubit: \", H_qubit)"
   ]
  },
  {
   "cell_type": "markdown",
   "metadata": {},
   "source": [
    "## 時間発展演算子: $U=\\exp{-i\\hat{H}t}$\n",
    "\n",
    "上のHamiltonianを少し整理して、１,2-body termで整理する:\n",
    "\n",
    "$$\n",
    "\\begin{align}\n",
    "\\hat{H} &= \n",
    "\\sum_{p} \\frac{\\epsilon_p - g}{2} (1 - Z_p ) - \\frac{g}{2} \\sum_{p > q} (X_pX_q + Y_pY_q)\n",
    "\\equiv H_\\epsilon + H_g\n",
    "\\end{align}\n",
    "$$\n",
    "\n",
    "すると、first-orderのTrotter-Suzuki分解は以下のようにかける:\n",
    "\n",
    "$$\n",
    "\\begin{align}\n",
    "e^{-i \\hat{H} t} & = \n",
    "\\left(\n",
    "e^{-iH_\\epsilon t /r }\n",
    "\\prod^{N-2}_{p>q=0}\n",
    "e^{\\frac{igt}{2r}}\n",
    "\\right)\n",
    "\\end{align}\n",
    "$$\n",
    "\n",
    "`````{admonition} Trotter-Suzuki \n",
    ":class: tip\n",
    "$H=\\sum^m_{i=1} h_i$と非可換な項に分解できるとき、trotter-step $r$に対して、\n",
    "first-order:\n",
    "\n",
    "$$\n",
    "e^{-iHt} = \n",
    "$$\n",
    "\n",
    "`````"
   ]
  },
  {
   "cell_type": "markdown",
   "metadata": {},
   "source": [
    "## Hadamard test\n",
    "\n"
   ]
  },
  {
   "cell_type": "code",
   "execution_count": 19,
   "metadata": {},
   "outputs": [
    {
     "name": "stdout",
     "output_type": "stream",
     "text": [
      "[0.0, 0.0, 0.0, 0.0, 0.0, 0.0, 0.0, 0.0, 0.0, 0.0, 0.0, 0.0, 0.0, 0.0, 0.0, 0.0, 0.0, 0.0, 0.0, 0.0, 0.0, 0.0, 0.0, 0.0, 0.0, 0.0, 0.0, 0.0, 0.0, 0.0, 0.0, 0.0, 0.0, 0.0, 0.0, 0.0, 0.0, 0.0, 0.0, 0.0, 0.0, 0.0, 0.0, 0.0, 0.0, 0.0, 0.0, 0.0, 0.0, 0.0, 0.0, 0.0, 0.0, 0.0, 0.0, 0.0, 0.0, 0.0, 0.0, 0.0, 0.0, 0.0, 0.0, 0.0, 0.0, 0.0, 0.0, 0.0, 0.0, 0.0, 0.0, 0.0, 0.0, 0.0, 0.0, 0.0, 0.0, 0.0, 0.0, 0.0, 0.0, 0.0, 0.0, 0.0, 0.0, 0.0, 0.0, 0.0, 0.0, 0.0, 0.0, 0.0, 0.0, 0.0, 0.0, 0.0, 0.0, 0.0, 0.0, 0.0, 0.0, 0.0, 0.0, 0.0, 0.0, 0.0, 0.0, 0.0, 0.0, 0.0, 0.0, 0.0, 0.0, 0.0, 0.0, 0.0, 0.0, 0.0, 0.0, 0.0, 0.0, 0.0, 0.0, 0.0, 0.0, 0.0, 0.0, 0.0, 0.0, 0.0, 0.0, 0.0, 0.0, 0.0, 0.0, 0.0, 0.0, 0.0, 0.0, 0.0, 0.0, 0.0, 0.0, 0.0, 0.0, 0.0, 0.0, 0.0, 0.0, 0.0, 0.0, 0.0, 0.0, 0.0, 0.0, 0.0, 0.0, 0.0, 0.0, 0.0, 0.0, 0.0, 0.0, 0.0, 0.0, 0.0, 0.0, 0.0, 0.0, 0.0, 0.0, 0.0, 0.0, 0.0, 0.0, 0.0, 0.0, 0.0, 0.0, 0.0, 0.0, 0.0, 0.0, 0.0, 0.0, 0.0, 0.0, 0.0, 0.0, 0.0, 0.0, 0.0, 0.0, 0.0, 0.0, 0.0, 0.0, 0.0, 0.0, 0.0, 0.0, 0.0, 0.0, 0.0, 0.0, 0.0, 0.0, 0.0, 0.0, 0.0, 0.0, 0.0, 0.0, 0.0, 0.0, 0.0, 0.0, 0.0, 0.0, 0.0, 0.0, 0.0, 0.0, 0.0, 0.0, 0.0, 0.0, 0.0, 0.0, 0.0, 0.0, 0.0, 0.0, 0.0, 0.0, 0.0, 0.0, 0.0, 0.0, 0.0, 0.0, 0.0, 0.0, 0.0, 0.0, 0.0, 0.0, 0.0, 0.0, 0.0, 0.0, 0.0, 0.0, 0.0, 0.0, 0.0, 0.0, 0.0, 0.0, 0.0, 0.0, 0.0, 0.0, 0.0, 0.0, 0.0, 0.0, 0.0, 0.0, 0.0, 0.0, 0.0, 0.0, 0.0, 0.0, 0.0, 0.0, 0.0, 0.0, 0.0, 0.0, 0.0, 0.0, 0.0, 0.0, 0.0, 0.0, 0.0, 0.0, 0.0, 0.0, 0.0, 0.0, 0.0, 0.0, 0.0, 0.0, 0.0, 0.0, 0.0, 0.0, 0.0, 0.0, 0.0, 0.0, 0.0, 0.0, 0.0, 0.0, 0.0, 0.0, 0.0, 0.0, 0.0, 0.0, 0.0, 0.0, 0.0, 0.0, 0.0, 0.0, 0.0, 0.0, 0.0, 0.0, 0.0, 0.0, 0.0, 0.0, 0.0, 0.0, 0.0, 0.0, 0.0, 0.0, 0.0, 0.0, 0.0, 0.0, 0.0, 0.0, 0.0, 0.0, 0.0, 0.0, 0.0, 0.0, 0.0, 0.0, 0.0, 0.0, 0.0, 0.0, 0.0, 0.0, 0.0, 0.0, 0.0, 0.0, 0.0, 0.0, 0.0, 0.0, 0.0, 0.0, 0.0, 0.0, 0.0, 0.0, 0.0, 0.0, 0.0, 0.0, 0.0, 0.0, 0.0, 0.0, 0.0, 0.0, 0.0, 0.0, 0.0, 0.0, 0.0, 0.0, 0.0, 0.0, 0.0, 0.0, 0.0, 0.0, 0.0, 0.0, 0.0, 0.0, 0.0, 0.0, 0.0, 0.0, 0.0, 0.0, 0.0, 0.0, 0.0, 0.0, 0.0, 0.0, 0.0, 0.0, 0.0, 0.0, 0.0, 0.0, 0.0, 0.0, 0.0, 0.0, 0.0, 0.0, 0.0, 0.0, 0.0, 0.0, 0.0, 0.0, 0.0, 0.0, 0.0, 0.0, 0.0, 0.0, 0.0, 0.0, 0.0, 0.0, 0.0, 0.0, 0.0, 0.0, 0.0, 0.0, 0.0, 0.0, 0.0, 0.0, 0.0, 0.0, 0.0, 0.0, 0.0, 0.0, 0.0, 0.0, 0.0, 0.0, 0.0, 0.0, 0.0, 0.0, 0.0, 0.0, 0.0, 0.0, 0.0, 0.0, 0.0, 0.0, 0.0, 0.0, 0.0, 0.0, 0.0, 0.0, 0.0, 0.0, 0.0, 0.0, 0.0, 0.0, 0.0, 0.0, 0.0, 0.0, 0.0, 0.0, 0.0, 0.0, 0.0, 0.0, 0.0, 0.0, 0.0, 0.0, 0.0, 0.0, 0.0, 0.0, 0.0, 0.0, 0.0, 0.0, 0.0, 0.0, 0.0, 0.0, 0.0, 0.0, 0.0, 0.0, 0.0, 0.0, 0.0, 0.0, 0.0, 0.0, 0.0, 0.0, 0.0, 0.0, 0.0, 0.0, 0.0, 0.0, 0.0, 0.0, 0.0, 0.0, 0.0, 0.0, 0.0, 0.0, 0.0, 0.0, 0.0, 0.0, 0.0, 0.0, 0.0, 0.0, 0.0, 0.0, 0.0, 0.0, 0.0, 0.0, 0.0, 0.0, 0.0, 0.0, 0.0, 0.0, 0.0, 0.0, 0.0, 0.0, 0.0, 0.0, 0.0, 0.0, 0.0, 0.0, 0.0, 0.0, 0.0, 0.0, 0.0, 0.0, 0.0, 0.0, 0.0, 0.0, 0.0, 0.0, 0.0, 0.0, 0.0, 0.0, 0.0, 0.0, 0.0, 0.0, 0.0, 0.0, 0.0, 0.0, 0.0, 0.0, 0.0, 0.0, 0.0, 0.0, 0.0, 0.0, 0.0, 0.0, 0.0, 0.0, 0.0, 0.0, 0.0, 0.0, 0.0, 0.0, 0.0, 0.0, 0.0, 0.0, 0.0, 0.0, 0.0, 0.0, 0.0, 0.0, 0.0, 0.0, 0.0, 0.0, 0.0, 0.0, 0.0, 0.0, 0.0, 0.0, 0.0, 0.0, 0.0, 0.0, 0.0, 0.0, 0.0, 0.0, 0.0, 0.0, 0.0, 0.0, 0.0, 0.0, 0.0, 0.0, 0.0, 0.0, 0.0, 0.0, 0.0, 0.0, 0.0, 0.0, 0.0, 0.0, 0.0, 0.0, 0.0, 0.0, 0.0, 0.0, 0.0, 0.0, 0.0, 0.0, 0.0, 0.0, 0.0, 0.0, 0.0, 0.0, 0.0, 0.0, 0.0, 0.0, 0.0, 0.0, 0.0, 0.0, 0.0, 0.0, 0.0, 0.0, 0.0, 0.0, 0.0, 0.0, 0.0, 0.0, 0.0, 0.0, 0.0, 0.0, 0.0, 0.0, 0.0, 0.0, 0.0, 0.0, 0.0, 0.0, 0.0, 0.0, 0.0, 0.0, 0.0, 0.0, 0.0, 0.0, 0.0, 0.0, 0.0, 0.0, 0.0, 0.0, 0.0, 0.0, 0.0, 0.0, 0.0, 0.0, 0.0, 0.0, 0.0, 0.0, 0.0, 0.0, 0.0, 0.0, 0.0, 0.0, 0.0, 0.0, 0.0, 0.0, 0.0, 0.0, 0.0, 0.0, 0.0, 0.0, 0.0, 0.0, 0.0, 0.0, 0.0, 0.0, 0.0, 0.0, 0.0, 0.0, 0.0, 0.0, 0.0, 0.0, 0.0, 0.0, 0.0, 0.0, 0.0, 0.0, 0.0, 0.0, 0.0, 0.0, 0.0, 0.0, 0.0, 0.0, 0.0, 0.0, 0.0, 0.0, 0.0, 0.0, 0.0, 0.0, 0.0, 0.0, 0.0, 0.0, 0.0, 0.0, 0.0, 0.0, 0.0, 0.0, 0.0, 0.0, 0.0, 0.0, 0.0, 0.0, 0.0, 0.0, 0.0, 0.0, 0.0, 0.0, 0.0, 0.0, 0.0, 0.0, 0.0, 0.0, 0.0, 0.0, 0.0, 0.0, 0.0, 0.0, 0.0, 0.0, 0.0, 0.0, 0.0, 0.0, 0.0, 0.0, 0.0, 0.0, 0.0, 0.0, 0.0, 0.0, 0.0, 0.0, 0.0, 0.0, 0.0, 0.0, 0.0, 0.0, 0.0, 0.0, 0.0, 0.0, 0.0, 0.0, 0.0, 0.0, 0.0, 0.0, 0.0, 0.0, 0.0, 0.0, 0.0, 0.0, 0.0, 0.0, 0.0, 0.0, 0.0, 0.0, 0.0, 0.0, 0.0, 0.0, 0.0, 0.0, 0.0, 0.0, 0.0, 0.0, 0.0, 0.0, 0.0, 0.0, 0.0, 0.0, 0.0, 0.0, 0.0, 0.0, 0.0, 0.0, 0.0, 0.0, 0.0, 0.0, 0.0, 0.0, 0.0, 0.0, 0.0, 0.0, 0.0, 0.0, 0.0, 0.0, 0.0, 0.0, 0.0, 0.0, 0.0, 0.0, 0.0, 0.0, 0.0, 0.0, 0.0, 0.0, 0.0, 0.0, 0.0, 0.0, 0.0, 0.0, 0.0, 0.0, 0.0, 0.0, 0.0, 0.0, 0.0, 0.0, 0.0, 0.0, 0.0, 0.0, 0.0, 0.0, 0.0, 0.0, 0.0, 0.0, 0.0, 0.0, 0.0, 0.0, 0.0, 0.0, 0.0, 0.0, 0.0, 0.0, 0.0, 0.0, 0.0, 0.0, 0.0, 0.0, 0.0, 0.0, 0.0, 0.0, 0.0, 0.0, 0.0, 0.0, 0.0, 0.0, 0.0, 0.0, 0.0, 0.0, 0.0, 0.0, 0.0, 0.0, 0.0, 0.0, 0.0, 0.0, 0.0, 0.0, 0.0, 0.0, 0.0, 0.0, 0.0, 0.0, 0.0, 0.0, 0.0, 0.0, 0.0, 0.0, 0.0, 0.0, 0.0, 0.0, 0.0, 0.0, 0.0, 0.0, 0.0, 0.0, 0.0, 0.0, 0.0, 0.0, 0.0, 0.0, 0.0, 0.0, 0.0, 0.0, 0.0, 0.0, 0.0, 0.0, 0.0, 0.0, 0.0]\n"
     ]
    },
    {
     "data": {
      "image/png": "[encoded data removed]",
      "text/plain": [
       "<Figure size 600x600 with 1 Axes>"
      ]
     },
     "metadata": {},
     "output_type": "display_data"
    }
   ],
   "source": [
    "n_ancilla = 1\n",
    "dev = qml.device(\"default.qubit\", wires=n_ancilla+Hamil.Norb)\n",
    "\n",
    "@qml.qnode(dev)\n",
    "def circuit_HadamardTest(U):\n",
    "    qml.Hadamard(wires=0)\n",
    "    qml.ControlledQubitUnitary(U.matrix(), control_wires=[0], wires=range(1, 1+Norb))\n",
    "    qml.Hadamard(wires=0)\n",
    "    return qml.expval(qml.PauliZ(0))\n",
    "\n",
    "fig, ax  = qml.draw_mpl(circuit_HadamardTest)(H_qubit)\n",
    "\n",
    "num_measurements = 10**3\n",
    "results = [ circuit_HadamardTest(H_qubit).item() for _ in range(num_measurements) ]\n",
    "print(results)\n"
   ]
  }
 ],
 "metadata": {
  "colab": {
   "provenance": []
  },
  "kernelspec": {
   "display_name": "myenv",
   "language": "python",
   "name": "python3"
  },
  "language_info": {
   "codemirror_mode": {
    "name": "ipython",
    "version": 3
   },
   "file_extension": ".py",
   "mimetype": "text/x-python",
   "name": "python",
   "nbconvert_exporter": "python",
   "pygments_lexer": "ipython3",
   "version": "3.13.1"
  }
 },
 "nbformat": 4,
 "nbformat_minor": 0
}
