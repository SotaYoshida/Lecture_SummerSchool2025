{
 "cells": [
  {
   "cell_type": "markdown",
   "metadata": {},
   "source": [
    "# Quantum Krylov subspace method\n",
    "\n",
    "この章では、発展的な話題として、Quantum Krylov subspace method、とくにLanczos法の量子版について説明する。\n",
    "\n",
    "\n",
    "Full-CIの章でも述べたように、Krylov部分空間法は、与えられたハミルトニアン$H$と初期状態$\\ket{\\psi}$から生成されるKrylov部分空間\n",
    "\n",
    "$$\n",
    "\\mathcal{K}_m(H, \\ket{\\psi}) = \\text{span}\\{\\ket{\\psi}, H\\ket{\\psi}, H^2\\ket{\\psi}, \\ldots, H^{m-1}\\ket{\\psi}\\}\n",
    "$$\n",
    "\n",
    "を用いて、固有値問題を効率的に解く手法である。\n",
    "\n",
    "量子コンピュータ上での実行に馴染む形として、ゲート$U(t) = e^{-iHt}$を用いて、異なる時間ステップでの時間発展演算子を適用し、\n",
    "量子版のKrylov部分空間法を考えることができる。\n",
    "\n",
    "具体的には、初期状態$\\ket{\\Phi}_0$から、Hamiltonian $H$による時間発展演算子$e^{-iHt}$を作用させて\n",
    "\n",
    "$$\n",
    "\\ket{\\Phi}_0, e^{-iHt_1}\\ket{\\Phi}_0, \\ldots, e^{-iHt_{M}}\\ket{\\Phi}_0\n",
    "$$\n",
    "\n",
    "を順次生成し、これらの非直交基底を用いて、問題をsubspaceで解く。\n",
    "つまり、\n",
    "\n",
    "$$\n",
    "\\begin{align}\n",
    "N_{kl} & = \\langle \\Phi_k \\ket{\\Phi_l} = \\bra{\\Phi_0} e^{-i(t_l-t_k)H} \\ket{\\Phi_0} \\\\\n",
    "\\tilde{H}_{kl} & = \\bra{\\Phi_k} H \\ket{\\Phi_l} = \\bra{\\Phi_0} H e^{-i(t_l-t_k)H} \\ket{\\Phi_0}\n",
    "\\end{align}\n",
    "$$ (QKrylovME)\n",
    "\n",
    "のもとで、一般化固有値問題\n",
    "\n",
    "$$\n",
    "\\tilde{H} \\ket{\\Phi} = E N \\ket{\\Phi}\n",
    "$$\n",
    "\n",
    "を解く。QPEでは量子コンピュータ上(この資料ではもちろんsimulatorだが)でHamiltonianの時間発展に加えて、逆量子フーリエ変換が必要であるのに対し、Quantum Krylovでは前者のみを考える。\n",
    "\n",
    "\n",
    "ライブラリのimportとPairingHamiltonianのクラスを定義しておく↓"
   ]
  },
  {
   "cell_type": "code",
   "execution_count": 1,
   "metadata": {
    "tags": [
     "hide-input"
    ]
   },
   "outputs": [
    {
     "name": "stdout",
     "output_type": "stream",
     "text": [
      "evals:  [1.18985184 3.29649666 5.34       5.34       7.42853393 9.44511758]\n"
     ]
    }
   ],
   "source": [
    "import numpy as np\n",
    "import scipy\n",
    "import itertools\n",
    "from itertools import combinations\n",
    "import matplotlib.pyplot as plt\n",
    "from qiskit import QuantumCircuit, transpile\n",
    "from qiskit.circuit.library import PauliEvolutionGate, PauliGate\n",
    "from qiskit.quantum_info import SparsePauliOp, Statevector\n",
    "from qiskit.synthesis import SuzukiTrotter\n",
    "from qiskit.visualization import plot_histogram\n",
    "import seaborn as sns\n",
    "\n",
    "class PairingHamiltonian:\n",
    "    def __init__(self, Norb, Nocc, gval, delta_eps=1.0):\n",
    "        self.Norb = Norb\n",
    "        self.Nocc = Nocc\n",
    "        self.delta_eps = delta_eps\n",
    "        self.gval = gval\n",
    "        self.basis = self.make_basis()\n",
    "        self.epsilon = self.eval_epsilon()\n",
    "        self.Hmat = self.eval_Hmat()\n",
    "\n",
    "    def make_basis(self):\n",
    "        self.basis = []\n",
    "        for occ in combinations(range(self.Norb), self.Nocc):\n",
    "            self.basis.append(occ)\n",
    "\n",
    "        return self.basis\n",
    "    \n",
    "    def eval_epsilon(self):\n",
    "        self.epsilon = [ 2 * i * self.delta_eps for i in range(self.Norb) ]\n",
    "        return self.epsilon\n",
    "    \n",
    "    def eval_Hmat(self):\n",
    "        dim = len(self.basis)\n",
    "        self.Hmat = np.zeros((dim, dim))\n",
    "        for bra_idx, bra in enumerate(self.basis):\n",
    "            for ket_idx, ket in enumerate(self.basis):\n",
    "                # Hamming distance\n",
    "                diff = [ i for i in bra if i not in ket ]\n",
    "                same = [ i for i in bra if i in ket ]\n",
    "                # for SPE term\n",
    "                if bra_idx == ket_idx:\n",
    "                    self.Hmat[bra_idx, ket_idx] += np.sum( [self.epsilon[i] for i in same])\n",
    "                    self.Hmat[bra_idx, ket_idx] += - self.gval * len(same) \n",
    "                # for pairing term\n",
    "                if len(diff) == 1:\n",
    "                    self.Hmat[bra_idx, ket_idx] = - self.gval\n",
    "\n",
    "        return self.Hmat\n",
    "\n",
    "def tuple_to_bitstring(tup, Norb, rev=True):\n",
    "    bitint = 0\n",
    "    for i in tup:\n",
    "        bitint += 2**i\n",
    "    if rev:\n",
    "        bitstring = \"|\"+format(bitint, f'0{Norb}b')[::-1]+\">\"\n",
    "    else:\n",
    "        bitstring = \"|\"+format(bitint, f'0{Norb}b')+\">\"        \n",
    "    return bitstring\n",
    "\n",
    "def cG1(circ, c_qubit, i, j, theta):\n",
    "    theta_4 = theta / 4 \n",
    "    circ.cx(i,j)\n",
    "    circ.ry(theta_4, i)\n",
    "    circ.cx(j,i)\n",
    "    circ.ry(-theta_4, i)\n",
    "    circ.cx(c_qubit, i)\n",
    "    circ.ry(theta_4, i)\n",
    "    circ.cx(j,i)\n",
    "    circ.ry(-theta_4, i)\n",
    "    circ.cx(c_qubit, i)\n",
    "    circ.cx(i,j)\n",
    "\n",
    "def cG1_gate(theta):\n",
    "    circ = QuantumCircuit(2)\n",
    "    G(circ, 0, 1, theta)\n",
    "    circ.name = \"cG1\"   \n",
    "    circ = circ.to_gate()\n",
    "    circ = circ.control(1) \n",
    "    return circ\n",
    "\n",
    "def G(circ, i, j, theta):\n",
    "    theta_2 = theta / 2 \n",
    "    circ.cx(i,j)\n",
    "    circ.ry(theta_2, i)\n",
    "    circ.cx(j,i)\n",
    "    circ.ry(-theta_2, i)\n",
    "    circ.cx(j,i)\n",
    "    circ.cx(i,j)  \n",
    "\n",
    "def G_gate(theta):\n",
    "    circ = QuantumCircuit(2)\n",
    "    G(circ, 0, 1, theta)\n",
    "    circ.name = \"G\"    \n",
    "    return circ.to_gate()\n",
    "\n",
    "def get_idx_ancilla_in_string(n_qubit, ancilla, Qiskit_ordering):\n",
    "    idx_ancilla = None\n",
    "    if ancilla != None:\n",
    "        if Qiskit_ordering:\n",
    "            idx_ancilla = n_qubit-1 - ancilla\n",
    "        else:\n",
    "            idx_ancilla = ancilla\n",
    "    return idx_ancilla\n",
    "\n",
    "def expec_Zstring(res, idx_relevant, Qiskit_ordering=True, target_qubits=[], ancilla_qubit=None):\n",
    "    exp_val = exp_val_p0 = exp_val_p1 = 0.0\n",
    "    n_shot = sum(res.values())\n",
    "    n_qubit = len(list(res.keys())[0])\n",
    "    idx_ancilla = get_idx_ancilla_in_string(n_qubit, ancilla_qubit, Qiskit_ordering)\n",
    "    for bitstr, count in res.items():\n",
    "        if ancilla_qubit != None and target_qubits != []:\n",
    "            bitstr_target = ''.join([bitstr[k] for k in range(n_qubit) if k != idx_ancilla])\n",
    "        else:\n",
    "            bitstr_target = bitstr\n",
    "        tmp = 1.0\n",
    "        for idx in idx_relevant:\n",
    "            if Qiskit_ordering:\n",
    "                idx = -1 - idx\n",
    "            bit = int(bitstr_target[idx])            \n",
    "            tmp *= (1 - 2 * bit)\n",
    "        exp_val += tmp * count\n",
    "        \n",
    "        if ancilla_qubit != None:\n",
    "            if int(bitstr[idx_ancilla]) == 0:\n",
    "                exp_val_p0 += tmp * count\n",
    "            else:\n",
    "                exp_val_p1 += tmp * count\n",
    "    exp_val /= n_shot; exp_val_p0 /= n_shot; exp_val_p1 /= n_shot\n",
    "    return exp_val, exp_val_p0, exp_val_p1\n",
    "\n",
    "\n",
    "params_exact = np.array([-0.48104276, -1.03976498, -0.98963981, -1.18481738, -0.54832984])\n",
    "\n",
    "Norb = 4\n",
    "Nocc = 2\n",
    "gval = 0.33  \n",
    "\n",
    "Hamil = PairingHamiltonian(Norb, Nocc, gval)\n",
    "evals, evecs = np.linalg.eigh(Hamil.Hmat)\n",
    "evals = np.linalg.eigvalsh(Hamil.Hmat)\n",
    "Egs_exact = evals[0]\n",
    "E_HF = Hamil.Hmat[0,0]\n",
    "\n",
    "SPEs = Hamil.epsilon\n",
    "pauli_list = [ ]\n",
    "obs = [ ]\n",
    "coeffs = [ ]\n",
    "\n",
    "# I term\n",
    "coeff = 0.0\n",
    "op = \"I\" * Norb\n",
    "for i in range(Norb):\n",
    "    coeff += 0.5 * ( SPEs[i] - Hamil.gval ) \n",
    "obs += [op]\n",
    "coeffs += [coeff]\n",
    "# -Zp term\n",
    "for i in range(Norb):\n",
    "    op = \"I\" * Norb\n",
    "    op = op[:i] + \"Z\" + op[i+1:]\n",
    "    coeff = -0.5 * ( SPEs[i] - Hamil.gval )\n",
    "\n",
    "    op = op[::-1]\n",
    "    obs += [op]\n",
    "    coeffs += [coeff]\n",
    "# XX+YY term\n",
    "for i in range(Hamil.Norb):\n",
    "    for j in range(i+1, Hamil.Norb):\n",
    "        factor = - Hamil.gval / 2\n",
    "        op = \"I\" * Norb\n",
    "        op = op[:i] + \"X\" + op[i+1:j] + \"X\" + op[j+1:]\n",
    "        op = op[::-1]\n",
    "        obs += [op]\n",
    "        coeffs += [ factor ]\n",
    "        op = \"I\" * Norb\n",
    "        op = op[::-1]\n",
    "        op = op[:i] + \"Y\" + op[i+1:j] + \"Y\" + op[j+1:]\n",
    "        obs += [op]\n",
    "        coeffs += [ factor ]\n",
    "\n",
    "hamiltonian_op = SparsePauliOp(obs, coeffs)\n",
    "\n",
    "# print(\"basis:\", Hamil.basis)\n",
    "# print([tuple_to_bitstring(tup, Norb) for tup in Hamil.basis])\n",
    "# print(\"eps: \", Hamil.epsilon)\n",
    "# print(\"Hmat: \", Hamil.Hmat)\n",
    "print(\"evals: \", evals)\n",
    "# print(\"Egs_exact: \", Egs_exact, \" E_HF\", E_HF)\n",
    "# print(\"gs evec\", evecs[:,0])\n",
    "# print(\"gs prob\", evecs[:,0]**2)\n"
   ]
  },
  {
   "cell_type": "markdown",
   "metadata": {},
   "source": [
    "## 量子コンピュータ上での$N_{kl}, \\tilde{H}_{kl}$の計算\n",
    "\n",
    "式{eq}`QKrylovME`の各要素を量子コンピュータでどう測るか、が問題となる。\n",
    "\n",
    "このような行列要素の計算を含め、線形代数演算を量子コンピュータで行う方法については[arXiv:1902.10394](https://arxiv.org/abs/1902.10394)が詳しい。\n",
    "\n",
    "最も代表的な方法は、ancilla qubitを用いて(修正0Hadamard testを用いる方法で、以下でもこの方法を説明する。\n",
    "この他にも、異なるsymmetry sectorに属する状態の重ね合わせを作ることでancillaや制御ユニタリを用いずに行列要素を測定する方法も提案されている。\n",
    "[Cristian L. Cortes and Stephen K. Gray: Phys. Rev. A 105, 022417 (2022)](https://journals.aps.org/pra/abstract/10.1103/PhysRevA.105.022417)\n",
    "\n",
    "\n",
    "具体的な説明に入る前に、少し約束事とconventionを整理しておこう。\n",
    "\n",
    "通常のLanczos法においても、Block Lanczosやmulti-reference Lanczosなどと呼ばれるように、\n",
    "複数の初期状態からKrylov部分空間を生成する手法があるが、ここではsingle-referenceの場合を考える。\n",
    "\n",
    "$\\ket{0}^{\\otimes N}$で初期化されたターゲット量子ビットに対して、\n",
    "reference state作成を行うためのユニタリ演算子を$U_{p}$とし、\n",
    "ハミルトニアンの時間発展演算子を$U_H(t)$と書くことにして、\n",
    "これらを組み合わせたユニタリ演算子を$U_i \\equiv U_H(t_i) U_p$とする。\n"
   ]
  },
  {
   "cell_type": "markdown",
   "metadata": {},
   "source": [
    "### overlap $\\langle \\Psi_a | \\Psi_b \\rangle$ の計算\n",
    "\n",
    "まず\n",
    "\n",
    "$$\n",
    "\\begin{align}\n",
    "\\ket{\\Psi} & = \\frac{1}{\\sqrt{2}} \\left( \\ket{0} \\otimes \\ket{x} + \\ket{1} \\otimes \\ket{y} \\right) \\\\\n",
    "\\end{align}\n",
    "$$\n",
    "\n",
    "という状態が作れたとして、$\\langle x | y \\rangle$を測るにはどうすればよいかを考える。\n",
    "初めのqubitに対してHadamardゲートを作用させると、\n",
    "\n",
    "$$\n",
    "\\begin{align}\n",
    "\\ket{\\Psi} & \\to \\frac{1}{2} \\left( \\ket{0} \\otimes (\\ket{x} + \\ket{y}) + \\ket{1} \\otimes (\\ket{x} - \\ket{y}) \\right) \\\\\n",
    "\\end{align}\n",
    "$$\n",
    "\n",
    "となる。このとき、ancillaを測定し、$\\ket{0}$が得られる確率は\n",
    "\n",
    "$$\n",
    "\\begin{align}\n",
    "P(0) & = \\frac{1}{2} \\left( \\bra{x} + \\bra{y} \\right) \\left( \\ket{x} + \\ket{y} \\right)  = \\frac{1}{2} \\left( 1 +  \\mathrm{Re} \\langle x | y \\rangle \\right)\n",
    "\\end{align}\n",
    "$$\n",
    "\n",
    "となる。また、ancillaに$S^\\dagger$-ゲートに相当するphase-rotationを施し\n",
    "\n",
    "$$\n",
    "\\begin{align}\n",
    "\\ket{\\Psi} & \\to \\frac{1}{2} \\left( \\ket{0} \\otimes \\ket{x}  - i \\ket{1} \\otimes \\ket{y} \\right) \\\\\n",
    "\\end{align}\n",
    "$$\n",
    "\n",
    "Hadamardゲートを作用させると、\n",
    "\n",
    "$$\n",
    "\\begin{align}\n",
    "\\ket{\\Psi} & \\to \\frac{1}{2} \\left( \\ket{0} \\otimes (\\ket{x} - i \\ket{y}) + \\ket{1} \\otimes (\\ket{x} + i \\ket{y}) \\right) \\\\\n",
    "\\end{align}\n",
    "$$\n",
    "\n",
    "となり、$\\ket{0}$が得られる確率は\n",
    "\n",
    "$$\n",
    "\\begin{align}\n",
    "P(0) & = \\frac{1}{2} \\left( \\bra{x} + i \\bra{y} \\right) \\left( \\ket{x} - i \\ket{y} \\right)  \n",
    "= \\frac{1}{2} \\left( 1 +  \\mathrm{Im} \\langle x | y \\rangle \\right)\n",
    "\\end{align}\n",
    "$$\n",
    "\n",
    "となる。このように、$\\langle x | y \\rangle$の実部と虚部を測定することができる。\n",
    "このことは、$\\langle \\psi | X | \\psi \\rangle = \\langle \\psi | H | \\psi \\rangle, \\langle \\psi | Y |\\psi \\rangle = \\langle \\psi | S X S^\\dagger | \\psi \\rangle = \\langle \\psi | S H Z H S^\\dagger | \\psi \\rangle$から、\n",
    "$X$と$Y$成分の測定を行うことで、overlap行列要素を測定することができることを意味する。\n",
    "\n",
    "実際の回路は以下のとおりである。２つの状態の重ね合わせを作り、ancilla qubitを用いてoverlapを測定する。\n",
    "\n",
    "\n",
    "![](pic/overlap_Re.png)\n",
    "\n",
    "![](pic/overlap_Im.png)"
   ]
  },
  {
   "cell_type": "markdown",
   "metadata": {},
   "source": [
    "#### 計算例\n",
    "\n",
    "ターゲット量子ビットが4つあるとして、適当な初期状態から、これまた適当なオペレータで時間発展させた場合のオーバーラップを計算してみよう。\n",
    "\n",
    "検算しやすいように、\n",
    "\n",
    "$$\n",
    "\\begin{align}\n",
    "\\ket{\\Phi_0} & = \\frac{\\ket{1100} + \\ket{0011} }{\\sqrt{2}} \\\\\n",
    "H & = 0.123 Z_0Z_1 \n",
    "\\end{align}\n",
    "$$\n",
    "\n",
    "とでもしておこう。\n",
    "\n",
    "$H \\ket{\\Phi_0} = 0.123 \\ket{\\Phi_0}$なので、$e^{-iHt} \\ket{\\Phi_0}$を計算すると、\n",
    "\n",
    "$$\n",
    "\\begin{align}\n",
    "\\ket{\\Psi_a} & = e^{-iHt_a} \\ket{\\Phi_0} = e^{- 0.123 i t_a} \\ket{\\Phi_0} \\\\\n",
    "\\ket{\\Psi_b} & = e^{-iHt_b} \\ket{\\Phi_0} = e^{- 0.123 i t_b} \\ket{\\Phi_0} \\\\\n",
    "\\langle \\Psi_a | \\Psi_b \\rangle & = e^{0.579 i (t_a - t_b)} = \\cos(0.123 (t_a - t_b)) + i \\sin(0.123 (t_a - t_b))\n",
    "\\end{align}\n",
    "$$\n",
    "\n",
    "となる。\n",
    "\n",
    "状態作成のための回路を適当に作ってみよう。"
   ]
  },
  {
   "cell_type": "code",
   "execution_count": 2,
   "metadata": {},
   "outputs": [
    {
     "name": "stdout",
     "output_type": "stream",
     "text": [
      "Exact:  0.9985358702188959 -0.05409358451972206\n"
     ]
    }
   ],
   "source": [
    "ancilla_qubits = [0]\n",
    "target_qubits = list(range(1,Norb+1))\n",
    "\n",
    "operator = [\"ZZII\"]\n",
    "coeff = [0.123]\n",
    "hamil_op = SparsePauliOp(operator, coeff)\n",
    "\n",
    "t_i = 0.12\n",
    "t_j = 0.56\n",
    "\n",
    "Re_Exact = np.cos( np.sum(coeff) * (t_i-t_j))\n",
    "Im_Exact = np.sin( np.sum(coeff) * (t_i-t_j))\n",
    "print(\"Exact: \", Re_Exact, Im_Exact)"
   ]
  },
  {
   "cell_type": "code",
   "execution_count": 3,
   "metadata": {},
   "outputs": [
    {
     "data": {
      "image/png": "[encoded data removed]",
      "text/plain": [
       "<Figure size 538.33x367.889 with 1 Axes>"
      ]
     },
     "execution_count": 3,
     "metadata": {},
     "output_type": "execute_result"
    }
   ],
   "source": [
    "qc_prep = QuantumCircuit(Norb)\n",
    "qc_prep.h(0)\n",
    "qc_prep.cx(0,1)\n",
    "qc_prep.x(0)\n",
    "qc_prep.cx(0,2)\n",
    "qc_prep.cx(2,3)\n",
    "qc_prep.x(0)\n",
    "qc_prep.draw('mpl')"
   ]
  },
  {
   "cell_type": "code",
   "execution_count": 4,
   "metadata": {},
   "outputs": [
    {
     "data": {
      "text/latex": [
       "$$\\frac{\\sqrt{2}}{2} |0011\\rangle+\\frac{\\sqrt{2}}{2} |1100\\rangle$$"
      ],
      "text/plain": [
       "<IPython.core.display.Latex object>"
      ]
     },
     "execution_count": 4,
     "metadata": {},
     "output_type": "execute_result"
    }
   ],
   "source": [
    "state_vector = Statevector.from_instruction(qc_prep)\n",
    "state_vector.draw(\"latex\")"
   ]
  },
  {
   "cell_type": "markdown",
   "metadata": {},
   "source": [
    "これをユニタリ演算子$U_p$としておく。"
   ]
  },
  {
   "cell_type": "code",
   "execution_count": 5,
   "metadata": {},
   "outputs": [],
   "source": [
    "Uprep = qc_prep.to_gate()\n",
    "Uprep.name = \"$U_p$\"\n",
    "Updag = Uprep.inverse()"
   ]
  },
  {
   "cell_type": "code",
   "execution_count": 6,
   "metadata": {},
   "outputs": [
    {
     "data": {
      "text/latex": [
       "$$\\frac{\\sqrt{2}}{2} |0011\\rangle+\\frac{\\sqrt{2}}{2} |1100\\rangle$$"
      ],
      "text/plain": [
       "<IPython.core.display.Latex object>"
      ]
     },
     "metadata": {},
     "output_type": "display_data"
    },
    {
     "data": {
      "text/latex": [
       "$$ |0000\\rangle$$"
      ],
      "text/plain": [
       "<IPython.core.display.Latex object>"
      ]
     },
     "metadata": {},
     "output_type": "display_data"
    }
   ],
   "source": [
    "qc_prep = QuantumCircuit(Norb)\n",
    "qc_prep.append(Uprep, range(Norb))\n",
    "state_vector = Statevector.from_instruction(qc_prep)\n",
    "display(state_vector.draw(\"latex\"))\n",
    "\n",
    "# 逆演算U^{\\dagger}_pを作用させて|0>に戻るかチェック\n",
    "qc_prep.append(Updag, range(Norb))\n",
    "state_vector = Statevector.from_instruction(qc_prep)\n",
    "display(state_vector.draw(\"latex\"))"
   ]
  },
  {
   "cell_type": "markdown",
   "metadata": {},
   "source": [
    "$U_i \\equiv e^{- i H t_i}$と$U_j \\equiv e^{-i H t_j}$、これらのcontrolled-Uを用意しておく:"
   ]
  },
  {
   "cell_type": "code",
   "execution_count": 7,
   "metadata": {},
   "outputs": [],
   "source": [
    "trotter_steps = 1 \n",
    "Ui = PauliEvolutionGate(hamil_op, t_i, synthesis=SuzukiTrotter(order=1,reps=trotter_steps))\n",
    "Uj = PauliEvolutionGate(hamil_op, t_j, synthesis=SuzukiTrotter(order=1,reps=trotter_steps))\n",
    "\n",
    "circuit_Ui = QuantumCircuit(Norb)\n",
    "circuit_Ui.append(Ui, range(Norb))\n",
    "circuit_Ui.name = '$U(t_i)$'\n",
    "gate_Ui = circuit_Ui.to_gate()\n",
    "\n",
    "circuit_Uj = QuantumCircuit(Norb)\n",
    "circuit_Uj.append(Uj, range(Norb))\n",
    "circuit_Uj.name = '$U(t_j)$'\n",
    "gate_Uj = circuit_Uj.to_gate()\n",
    "\n",
    "# c-Ui: controlled U = exp(-iHt_i)\n",
    "circuit_cUi = QuantumCircuit(Norb)\n",
    "circuit_cUi.append(Uprep, range(Norb))\n",
    "circuit_cUi.append(Ui, range(Norb))\n",
    "circuit_cUi.name = 'c-$U(t_i) U_p$'\n",
    "gate_cUi = circuit_cUi.to_gate().control(1)\n",
    "\n",
    "# C-Uj \n",
    "circuit_cUj = QuantumCircuit(Norb)\n",
    "circuit_cUj.append(Uprep, range(Norb))\n",
    "circuit_cUj.append(Uj, range(Norb))\n",
    "circuit_cUj.name = 'c-$U(t_j) U_p$'\n",
    "gate_cUj = circuit_cUj.to_gate().control(1)\n"
   ]
  },
  {
   "cell_type": "markdown",
   "metadata": {},
   "source": [
    "まず $\\ket{\\Psi_i} = U_i U_p |0\\rangle^{\\otimes 4}, \\ket{\\Psi_j} = U_j U_p |0\\rangle^{\\otimes 4}$を作り、overlapをstatevectorで計算してみよう。"
   ]
  },
  {
   "cell_type": "code",
   "execution_count": 8,
   "metadata": {},
   "outputs": [
    {
     "name": "stdout",
     "output_type": "stream",
     "text": [
      "psi_i\n"
     ]
    },
    {
     "data": {
      "text/latex": [
       "$$(0.7070297583 - 0.0104365171 i) |0011\\rangle+(0.7070297583 - 0.0104365171 i) |1100\\rangle$$"
      ],
      "text/plain": [
       "<IPython.core.display.Latex object>"
      ]
     },
     "metadata": {},
     "output_type": "display_data"
    },
    {
     "name": "stdout",
     "output_type": "stream",
     "text": [
      "psi_j\n"
     ]
    },
    {
     "data": {
      "text/latex": [
       "$$(0.7054300263 - 0.0486670107 i) |0011\\rangle+(0.7054300263 - 0.0486670107 i) |1100\\rangle$$"
      ],
      "text/plain": [
       "<IPython.core.display.Latex object>"
      ]
     },
     "metadata": {},
     "output_type": "display_data"
    },
    {
     "name": "stdout",
     "output_type": "stream",
     "text": [
      "<psi_i|psi_j> (0.9985358702188957-0.05409358451972205j)\n",
      "cos(t_i-t_j) 0.9985358702188959 sin(t_i-t_j) -0.05409358451972206\n"
     ]
    }
   ],
   "source": [
    "qc_psi_i = QuantumCircuit(Norb)\n",
    "qc_psi_i.append(Uprep, range(Norb))\n",
    "qc_psi_i.append(gate_Ui, range(Norb))\n",
    "psi_i = Statevector.from_instruction(qc_psi_i)\n",
    "\n",
    "qc_psi_j = QuantumCircuit(Norb)\n",
    "qc_psi_j.append(Uprep, range(Norb))\n",
    "qc_psi_j.append(gate_Uj, range(Norb))\n",
    "psi_j = Statevector.from_instruction(qc_psi_j)\n",
    "\n",
    "overlap = np.dot(psi_i.data.conj(), psi_j.data)\n",
    "Re_overlap = np.real(overlap)\n",
    "Im_overlap = np.imag(overlap)\n",
    "\n",
    "print(\"psi_i\"); display(psi_i.draw(\"latex\"))\n",
    "print(\"psi_j\"); display(psi_j.draw(\"latex\"))\n",
    "print(\"<psi_i|psi_j>\", overlap)\n",
    "print(\"cos(t_i-t_j)\", np.cos( np.sum(coeff) * (t_i-t_j) ), \"sin(t_i-t_j)\",  np.sin( np.sum(coeff) * (t_i-t_j) ) )"
   ]
  },
  {
   "cell_type": "code",
   "execution_count": 9,
   "metadata": {},
   "outputs": [
    {
     "data": {
      "image/png": "[encoded data removed]",
      "text/plain": [
       "<Figure size 789.163x535.111 with 1 Axes>"
      ]
     },
     "metadata": {},
     "output_type": "display_data"
    }
   ],
   "source": [
    "# circuit to measure Re <psi_i|psi_j>\n",
    "qc_re = QuantumCircuit(1+Norb,1)\n",
    "qc_re.h(0)\n",
    "qc_re.append(gate_cUi, ancilla_qubits + target_qubits)\n",
    "qc_re.x(0)\n",
    "qc_re.append(gate_cUj, ancilla_qubits+target_qubits)\n",
    "qc_re.h(0)\n",
    "qc_re.measure(0,0)\n",
    "display(qc_re.draw('mpl'))\n",
    "qc_re = qc_re.decompose()"
   ]
  },
  {
   "cell_type": "code",
   "execution_count": 10,
   "metadata": {},
   "outputs": [
    {
     "data": {
      "image/png": "[encoded data removed]",
      "text/plain": [
       "<Figure size 872.774x535.111 with 1 Axes>"
      ]
     },
     "metadata": {},
     "output_type": "display_data"
    }
   ],
   "source": [
    "# circuit to measure Im <psi_i|psi_j>\n",
    "qc_im = QuantumCircuit(1+Norb,1)\n",
    "qc_im.h(0)\n",
    "qc_im.append(gate_cUi, ancilla_qubits + target_qubits)\n",
    "qc_im.x(0)\n",
    "qc_im.append(gate_cUj, ancilla_qubits+target_qubits)\n",
    "qc_im.sdg(0)\n",
    "qc_im.h(0)\n",
    "qc_im.measure(0,0)\n",
    "display(qc_im.draw('mpl'))\n",
    "qc_im = qc_im.decompose()"
   ]
  },
  {
   "cell_type": "code",
   "execution_count": 11,
   "metadata": {},
   "outputs": [
    {
     "name": "stdout",
     "output_type": "stream",
     "text": [
      "Estimated Re<psi_i|psi_j> =   0.99864  Exact:   0.99854 Error: 1.04e-04\n",
      "Estimated Im<psi_i|psi_j> =  -0.05926  Exact:  -0.05409 Error: 5.17e-03\n"
     ]
    }
   ],
   "source": [
    "from qiskit_aer.primitives import SamplerV2\n",
    "sampler = SamplerV2()\n",
    "num_shot = 10**5\n",
    "\n",
    "job = sampler.run([qc_re, qc_im], shots=num_shot)\n",
    "results  = job.result()\n",
    "\n",
    "# Real part\n",
    "prob = results[0].data.c.get_counts()\n",
    "p0 = prob.get('0',0) / num_shot\n",
    "p1 = prob.get('1',0) / num_shot\n",
    "print(f\"Estimated Re<psi_i|psi_j> = {p0 - p1:9.5f}  Exact: {Re_overlap:9.5f} Error: {np.abs(p0-p1-Re_overlap):6.2e}\")\n",
    "\n",
    "# Imaginary part\n",
    "prob = results[1].data.c.get_counts()\n",
    "p0 = prob.get('0',0) / num_shot\n",
    "p1 = prob.get('1',0) / num_shot\n",
    "print(f\"Estimated Im<psi_i|psi_j> = {p0 - p1:9.5f}  Exact: {Im_overlap:9.5f} Error: {np.abs(p0-p1-Im_overlap):6.2e}\")"
   ]
  },
  {
   "cell_type": "markdown",
   "metadata": {},
   "source": [
    "### $\\langle \\Psi_a | H | \\Psi_b \\rangle $の計算\n",
    "\n",
    "次に、$\\langle \\Psi_a | H | \\Psi_b \\rangle$の計算を考える。\n",
    "\n",
    "対角成分は、状態作成の回路を用いて、$ \\langle \\hat{H} \\rangle = \\sum_n \\langle \\Psi_i | \\hat{H}_n | \\Psi_i \\rangle$を測定すれば良い。\n",
    "ここで、Hamiltonianの各項は、$\\hat{H}_n = G_0 \\otimes G_1 \\otimes G_2 \\otimes \\ldots, G \\equiv \\{I, X, Y, Z\\}$と、各パウリ演算子の積で表現してある。"
   ]
  },
  {
   "cell_type": "markdown",
   "metadata": {},
   "source": [
    "### ハミルトニアンの各項の期待値測定のための回路\n",
    "\n",
    "`\"IIXIXII\"`のようなpauli string(的な変数)に対して、必要なbasis rotationを足す関数を作っておこう。\n",
    "必要な操作は$X$と$Y$の測定のための回路の追加と、そのZ基底での測定である。"
   ]
  },
  {
   "cell_type": "code",
   "execution_count": 12,
   "metadata": {
    "tags": [
     "hide-input"
    ]
   },
   "outputs": [
    {
     "name": "stdout",
     "output_type": "stream",
     "text": [
      "XXII\n"
     ]
    },
    {
     "data": {
      "image/png": "[encoded data removed]",
      "text/plain": [
       "<Figure size 86.2489x110.367 with 1 Axes>"
      ]
     },
     "metadata": {},
     "output_type": "display_data"
    },
    {
     "name": "stdout",
     "output_type": "stream",
     "text": [
      "IYIY\n"
     ]
    },
    {
     "data": {
      "image/png": "[encoded data removed]",
      "text/plain": [
       "<Figure size 111.332x110.367 with 1 Axes>"
      ]
     },
     "metadata": {},
     "output_type": "display_data"
    }
   ],
   "source": [
    "def additional_qc(qc_in, pauli_str, register_target, Qiskit_order=True):\n",
    "    pauli_str = str(pauli_str)\n",
    "    if Qiskit_order:\n",
    "        pauli_str = pauli_str[::-1]\n",
    "\n",
    "    for i in range(len(pauli_str)):\n",
    "        if pauli_str[i] == \"X\":\n",
    "            qc_in.h(register_target[i])\n",
    "        elif pauli_str[i] == \"Y\":\n",
    "            qc_in.sdg(register_target[i]); qc_in.h(register_target[i])\n",
    "        elif pauli_str[i] == \"Z\" or pauli_str[i] == \"I\":\n",
    "            pass\n",
    "        else:\n",
    "            raise ValueError(\"Invalid Pauli string: \", pauli_str)\n",
    "\n",
    "def get_idx_to_measure(pauli_str, Qiskit_order=True):\n",
    "    idxs = [ idx for idx, p in enumerate(pauli_str) if p != \"I\"]\n",
    "    if Qiskit_order:\n",
    "        idxs = [ len(pauli_str) - 1 - idx for idx in idxs]\n",
    "    return idxs\n",
    "\n",
    "hamil = [\"XXII\", \"IYIY\"]\n",
    "for h in hamil:\n",
    "    idx_relevant = get_idx_to_measure(h)\n",
    "    print(h) # idx_relevant)\n",
    "    qc = QuantumCircuit(Norb)\n",
    "    qc.append(Uprep, range(Norb))\n",
    "    additional_qc(qc, h, range(Norb))    \n",
    "    display(qc.draw('mpl', scale=0.3))"
   ]
  },
  {
   "cell_type": "markdown",
   "metadata": {},
   "source": [
    "既にQiskitの章で作った、pairing Hamiltonianの状態作成回路などを用いて期待値計算が正しく出来ることを確認しておこう。"
   ]
  },
  {
   "cell_type": "code",
   "execution_count": 13,
   "metadata": {},
   "outputs": [],
   "source": [
    "def ansatz(params, method=\"FCI\"):\n",
    "    qc = QuantumCircuit(Norb)\n",
    "    # HF\n",
    "    for i in range(Nocc):\n",
    "        qc.x(i)\n",
    "    # Additional gates\n",
    "    if method == \"FCI\":\n",
    "        if Norb != 4 or Nocc != 2:\n",
    "            print(\"You are using parameters to reproduce the FCI wavefunction for Norb=4 and Nocc=2\")\n",
    "            print(\"Please make sure whether this is correct for your case!\")\n",
    "        qc.append(G_gate(params[0]), [1, 2])\n",
    "        qc.append(G_gate(params[1]), [2, 3])\n",
    "        qc.append(cG1_gate(params[2]), [2, 0, 1])\n",
    "        qc.append(cG1_gate(params[3]), [3, 0, 1])\n",
    "        qc.append(cG1_gate(params[4]), [3, 1, 2])        \n",
    "    return qc"
   ]
  },
  {
   "cell_type": "code",
   "execution_count": 14,
   "metadata": {},
   "outputs": [
    {
     "name": "stdout",
     "output_type": "stream",
     "text": [
      "IIII (5.34+0j) 1.0\n",
      "IIIZ (0.165+0j) -0.9719921725083537\n",
      "IIZI (-0.835+0j) -0.9138806897044238\n",
      "IZII (-1.835+0j) 0.9138801737253328\n",
      "ZIII (-2.835+0j) 0.9719926884874447\n",
      "IIXX (-0.165+0j) 0.04821208188098893\n",
      "YYII (-0.165+0j) 0.04821177091461082\n",
      "IXIX (-0.165+0j) 0.19420741548699103\n",
      "YIYI (-0.165+0j) 0.1942049102344519\n",
      "XIIX (-0.165+0j) 0.13006151287556628\n",
      "YIIY (-0.165+0j) 0.1300615128755664\n",
      "IXXI (-0.165+0j) 0.3556794042467488\n",
      "IYYI (-0.165+0j) 0.3556794042467488\n",
      "XIXI (-0.165+0j) 0.194204910234452\n",
      "IYIY (-0.165+0j) 0.1942074154869912\n",
      "XXII (-0.165+0j) 0.04821177091461088\n",
      "IIYY (-0.165+0j) 0.048212081880989174\n",
      "Esum (1.1898518352304355+0j) Egs_exact 1.1898518351360725\n"
     ]
    }
   ],
   "source": [
    "Hamil_coeffs = hamiltonian_op.coeffs\n",
    "\n",
    "idxs_relevant = [ ]\n",
    "qcs = [ ]\n",
    "verbose = False\n",
    "using_statevector = True\n",
    "for h_term in list(hamiltonian_op.paulis):\n",
    "    h_term = h_term.to_label()\n",
    "    idx_relevant = get_idx_to_measure(h_term)\n",
    "    idxs_relevant.append(idx_relevant)\n",
    "    qc = ansatz(params_exact)\n",
    "    additional_qc(qc, h_term, range(Norb))\n",
    "    if verbose:\n",
    "        print(h_term, idx_relevant)\n",
    "        display(qc.draw('mpl', scale=0.5))\n",
    "    qc = qc.decompose().decompose()\n",
    "    if not(using_statevector):\n",
    "        qc.measure_all()\n",
    "    qcs.append(qc)\n",
    "\n",
    "\n",
    "if using_statevector:\n",
    "    results = [ Statevector.from_instruction(qc).probabilities_dict() for qc in qcs]\n",
    "else:\n",
    "    job = sampler.run(qcs, shots=num_shot)\n",
    "    results  = job.result()\n",
    "\n",
    "Esum = 0.0\n",
    "for idx in range(len(qcs)):\n",
    "    h_term = hamiltonian_op.paulis[idx]\n",
    "    idx_relevant = idxs_relevant[idx]\n",
    "    if using_statevector:\n",
    "        res = results[idx]\n",
    "    else:\n",
    "        res = results[idx].data.meas.get_counts()\n",
    "\n",
    "    expval, dummy, dummy_ = expec_Zstring(res, idx_relevant)\n",
    "    print(h_term.to_label(), Hamil_coeffs[idx], expval)\n",
    "    Esum += Hamil_coeffs[idx] * expval\n",
    "print(\"Esum\", Esum, \"Egs_exact\", Egs_exact)"
   ]
  },
  {
   "cell_type": "markdown",
   "metadata": {},
   "source": [
    "無事、期待値を計算するための回路追加(≒basis rotation)と自作関数が正しく動いたことが確認できた。"
   ]
  },
  {
   "cell_type": "markdown",
   "metadata": {},
   "source": [
    "### 対角成分 $\\langle \\Psi_a | H | \\Psi_a \\rangle$ の計算\n",
    "\n",
    "まず対角成分の計算をする。\n",
    "\n",
    "Hamiltonianの固有状態にすればエネルギーの推定値が得られるはずで、チェックになる。\n",
    "加えて、適当な時間発展した状態の場合もあわせて考えよう。その際は時間発展は適当な値にしておく。"
   ]
  },
  {
   "cell_type": "code",
   "execution_count": 15,
   "metadata": {},
   "outputs": [
    {
     "name": "stdout",
     "output_type": "stream",
     "text": [
      "operator:  IIII coeff:  (5.34+0j) exp. val:  1.0\n",
      "operator:  IIIZ coeff:  (0.165+0j) exp. val:  -0.9719921725083537\n",
      "operator:  IIZI coeff:  (-0.835+0j) exp. val:  -0.9138806897044238\n",
      "operator:  IZII coeff:  (-1.835+0j) exp. val:  0.9138801737253328\n",
      "operator:  ZIII coeff:  (-2.835+0j) exp. val:  0.9719926884874447\n",
      "operator:  IIXX coeff:  (-0.165+0j) exp. val:  0.04821208188098893\n",
      "operator:  YYII coeff:  (-0.165+0j) exp. val:  0.04821177091461082\n",
      "operator:  IXIX coeff:  (-0.165+0j) exp. val:  0.19420741548699103\n",
      "operator:  YIYI coeff:  (-0.165+0j) exp. val:  0.1942049102344519\n",
      "operator:  XIIX coeff:  (-0.165+0j) exp. val:  0.13006151287556628\n",
      "operator:  YIIY coeff:  (-0.165+0j) exp. val:  0.1300615128755664\n",
      "operator:  IXXI coeff:  (-0.165+0j) exp. val:  0.3556794042467488\n",
      "operator:  IYYI coeff:  (-0.165+0j) exp. val:  0.3556794042467488\n",
      "operator:  XIXI coeff:  (-0.165+0j) exp. val:  0.194204910234452\n",
      "operator:  IYIY coeff:  (-0.165+0j) exp. val:  0.1942074154869912\n",
      "operator:  XXII coeff:  (-0.165+0j) exp. val:  0.04821177091461088\n",
      "operator:  IIYY coeff:  (-0.165+0j) exp. val:  0.048212081880989174\n",
      "using statevector True Hsum (1.1898518352304355+0j)\n",
      "Hsum should be close to Egs_exact 1.1898518351360725 diff. (9.436296188880533e-11+0j)\n"
     ]
    }
   ],
   "source": [
    "state = \"exact\"\n",
    "#state = \"Uprep\"\n",
    "\n",
    "Hamil_coeffs = hamiltonian_op.coeffs\n",
    "Hamil_paulis = hamiltonian_op.paulis\n",
    "qcs = []\n",
    "verbose = False\n",
    "using_statevector = True\n",
    "for idx_H in range(len(Hamil_paulis)):\n",
    "    op_string = Hamil_paulis[idx_H].to_label()\n",
    "    idx_relevant = get_idx_to_measure(op_string)\n",
    "    if state == \"exact\":\n",
    "        qc_exact = ansatz(params_exact)\n",
    "        qc_reH_D = qc_exact.copy()\n",
    "    elif state == \"Uprep\":\n",
    "        qc_reH_D = QuantumCircuit(Norb)\n",
    "        qc_reH_D.append(Uprep, range(Norb))    \n",
    "        qc_reH_D.append(gate_Ui, range(Norb))\n",
    "    additional_qc(qc_reH_D, op_string, range(Norb))\n",
    "    if verbose:\n",
    "        print(op_string, Hamil_coeffs[idx_H])\n",
    "        display(qc_reH_D.draw('mpl', scale=0.3))\n",
    "    if not(using_statevector):\n",
    "        qc_reH_D.measure_all()\n",
    "    qc_reH_D = qc_reH_D.decompose().decompose()\n",
    "    qcs.append(qc_reH_D)\n",
    "\n",
    "if using_statevector:\n",
    "    results = [ Statevector.from_instruction(qc).probabilities_dict() for qc in qcs]\n",
    "else:\n",
    "    job = sampler.run(qcs, shots=num_shot)\n",
    "    results  = job.result()\n",
    "\n",
    "Hsum = 0.0\n",
    "for idx_H in range(len(Hamil_paulis)):\n",
    "    op_string = Hamil_paulis[idx_H].to_label()\n",
    "    idx_relevant = get_idx_to_measure(op_string)\n",
    "    if using_statevector:\n",
    "        res = results[idx_H]\n",
    "    else:\n",
    "        res = results[idx_H].data.meas.get_counts()\n",
    "    expval, dummy, dummy_ = expec_Zstring(res, idx_relevant)\n",
    "    Hsum += Hamil_coeffs[idx_H] * expval\n",
    "    print(\"operator: \", op_string, \"coeff: \", Hamil_coeffs[idx_H], \"exp. val: \",  expval)\n",
    "\n",
    "print(\"using statevector\", using_statevector, \"Hsum\", Hsum)\n",
    "if state == \"exact\":\n",
    "    print(\"Hsum should be close to Egs_exact\", Egs_exact, \"diff.\", Hsum - Egs_exact)"
   ]
  },
  {
   "cell_type": "markdown",
   "metadata": {},
   "source": [
    "非対角成分については、先ほどのoverlapを計算するための回路の後半の制御ユニタリ(状態作成+時間発展)の後に、Hamiltonianの各パウリ演算子をターゲット量子ビットに対しても測ってやれば良い。\n",
    "\n",
    "時間発展させると検算が大変なので、適当な状態を二個$\\ket{A}, \\ket{B}$作って、$\\langle A | \\hat{H} | B \\rangle$を計算してみよう。\n",
    "$\\ket{\\psi_i} = \\ket{\\mathrm{HF}}$, $\\ket{\\psi_j} = \\ket{\\mathrm{FCI}}$とすると、\n",
    "$ H_{ij} = \\langle \\psi_i | \\hat{H} | \\psi_j \\rangle = E \\langle HF | FCI \\rangle$となるので検算ができる。"
   ]
  },
  {
   "cell_type": "code",
   "execution_count": 16,
   "metadata": {},
   "outputs": [
    {
     "data": {
      "text/latex": [
       "$$0.9712139094 |0011\\rangle+0.1819391345 |0101\\rangle+0.0981735082 |0110\\rangle+0.0981721942 |1001\\rangle+0.0636069907 |1010\\rangle+0.0178892924 |1100\\rangle$$"
      ],
      "text/plain": [
       "<IPython.core.display.Latex object>"
      ]
     },
     "metadata": {},
     "output_type": "display_data"
    },
    {
     "name": "stdout",
     "output_type": "stream",
     "text": [
      "Egs_exact 1.1898518351360725\n"
     ]
    }
   ],
   "source": [
    "qc = ansatz(params_exact)\n",
    "gs_state = Statevector.from_instruction(qc)\n",
    "display(gs_state.draw(\"latex\"))\n",
    "print(\"Egs_exact\", Egs_exact)"
   ]
  },
  {
   "cell_type": "markdown",
   "metadata": {},
   "source": [
    "HFとのoverlapは0.9712...., E=1.1898...なので、$H_{ij} = 1.1556...$となってほしい。\n",
    "また、`\"IIII\"`の項は単純にoverlapを計算すればよいので、期待値が0.9712...になることもチェックに使える。"
   ]
  },
  {
   "cell_type": "code",
   "execution_count": 17,
   "metadata": {},
   "outputs": [
    {
     "name": "stdout",
     "output_type": "stream",
     "text": [
      "operator:  IIII coeff:  (5.34+0j) exp. val:  0.9712139094394296\n",
      "operator:  IIIZ coeff:  (0.165+0j) exp. val:  -0.9712139094394293\n",
      "operator:  IIZI coeff:  (-0.835+0j) exp. val:  -0.9712139094394294\n",
      "operator:  IZII coeff:  (-1.835+0j) exp. val:  0.9712139094394293\n",
      "operator:  ZIII coeff:  (-2.835+0j) exp. val:  0.9712139094394294\n",
      "operator:  IIXX coeff:  (-0.165+0j) exp. val:  -5.204170427930421e-18\n",
      "operator:  YYII coeff:  (-0.165+0j) exp. val:  -5.204170427930421e-18\n",
      "operator:  IXIX coeff:  (-0.165+0j) exp. val:  0.09817350815322773\n",
      "operator:  YIYI coeff:  (-0.165+0j) exp. val:  0.0981721941975748\n",
      "operator:  XIIX coeff:  (-0.165+0j) exp. val:  0.0636069906573104\n",
      "operator:  YIIY coeff:  (-0.165+0j) exp. val:  0.06360699065731032\n",
      "operator:  IXXI coeff:  (-0.165+0j) exp. val:  0.18193913447081592\n",
      "operator:  IYYI coeff:  (-0.165+0j) exp. val:  0.18193913447081603\n",
      "operator:  XIXI coeff:  (-0.165+0j) exp. val:  0.09817219419757481\n",
      "operator:  IYIY coeff:  (-0.165+0j) exp. val:  0.0981735081532277\n",
      "operator:  XXII coeff:  (-0.165+0j) exp. val:  -3.469446951953614e-18\n",
      "operator:  IIYY coeff:  (-0.165+0j) exp. val:  -3.469446951953614e-18\n",
      "Re H_{ij} (1.1556023355807894+0j)\n"
     ]
    }
   ],
   "source": [
    "# circuit to measure Re <psi_i|H|psi_j> (non-diagonal part)\n",
    "using_statevector =True\n",
    "qcs = []\n",
    "for idx_H in range(len(Hamil_paulis)):\n",
    "    op_string = Hamil_paulis[idx_H].to_label()\n",
    "    qc_reH_nonD = QuantumCircuit(1+Norb)\n",
    "    qc_reH_nonD.h(0)\n",
    "    # Controlled-Ui\n",
    "    gate_HF = ansatz(params_exact, method=\"HF\").control(1)\n",
    "    gate_HF.name = \"HF\"\n",
    "    qc_reH_nonD.append(gate_HF, ancilla_qubits + target_qubits)\n",
    "    qc_reH_nonD.x(0)\n",
    "    # Controlled-Uj\n",
    "    gate_FCI = ansatz(params_exact, method=\"FCI\").control(1)\n",
    "    gate_FCI.name = \"FCI\"\n",
    "    qc_reH_nonD.append(gate_FCI, ancilla_qubits+target_qubits)\n",
    "\n",
    "    # To measure Real part\n",
    "    qc_reH_nonD.h(0)\n",
    "    additional_qc(qc_reH_nonD, op_string, target_qubits)\n",
    "    if not(using_statevector):\n",
    "        qc_reH_nonD.measure_all()\n",
    "    #display(qc_reH_nonD.draw('mpl', scale=0.6))\n",
    "    qc_reH = qc_reH_nonD.decompose().decompose()\n",
    "    qcs.append(qc_reH)\n",
    "\n",
    "if using_statevector:\n",
    "    results = [ Statevector.from_instruction(qc).probabilities_dict() for qc in qcs]\n",
    "else:\n",
    "    num_shot = 10**6\n",
    "    job = sampler.run(qcs, shots=num_shot)\n",
    "    results  = job.result()\n",
    "\n",
    "Re_H_ij = 0.0\n",
    "for idx_H in range(len(Hamil_paulis)):\n",
    "    op_string = Hamil_paulis[idx_H].to_label()\n",
    "    idx_relevant = get_idx_to_measure(op_string)\n",
    "    if using_statevector:\n",
    "        res = results[idx_H]\n",
    "    else:\n",
    "        res = results[idx_H].data.meas.get_counts()   \n",
    "    dummy_e, p0, p1 = expec_Zstring(res, idx_relevant, target_qubits=range(len(target_qubits)), ancilla_qubit=0)\n",
    "    expval = p0 - p1\n",
    "    Re_H_ij += Hamil_coeffs[idx_H] * expval\n",
    "    print(\"operator: \", op_string, \"coeff: \", Hamil_coeffs[idx_H], \"exp. val: \",  expval)\n",
    "print(\"Re H_{ij}\", Re_H_ij)"
   ]
  },
  {
   "cell_type": "markdown",
   "metadata": {},
   "source": [
    "時間発展を考えてない部分的チェックだが、大丈夫そうだ。"
   ]
  },
  {
   "cell_type": "markdown",
   "metadata": {},
   "source": [
    "## Quantum Krylov法の実装\n",
    "\n",
    "\n",
    "\n"
   ]
  },
  {
   "cell_type": "markdown",
   "metadata": {},
   "source": [
    "iterationごとに、$n$回目の状態$\\ket{\\Psi_n} = \\exp(-iHn \\delta t ) \\ket{\\Phi_0}$を作成し、$n-1$回目overlap行列の要素を計算する。\n",
    "\n",
    "検算のために、固有状態$\\ket{\\Phi}$の時間発展を考えよう。\n",
    "\n",
    "$H \\ket{\\Phi} = E \\ket{\\Phi}$なので、$e^{-iHt} \\ket{\\Phi} = e^{-iEt} \\ket{\\Phi}$から、\n",
    "$\\ket{\\psi_0} = \\ket{\\Phi}, \\ket{\\psi_1} = e^{-iH\\delta t}\\ket{\\Phi}$とすると、\n",
    "\n",
    "$$\n",
    "\\begin{align}\n",
    "N_{01} & \\equiv \\langle \\psi_0 | \\psi_1 \\rangle  = \\bra{\\Phi} e^{-i\\hat{H}\\delta t} \\ket{\\Phi} = e^{-iE\\delta t} \\braket{\\Phi | \\Phi} = e^{-iE\\delta t} \\nonumber \\\\\n",
    "H_{00} & \\equiv \\langle \\psi_0 | \\hat{H} | \\psi_0 \\rangle = E \\nonumber \\\\\n",
    "H_{01} & \\equiv \\langle \\psi_0 | \\hat{H} | \\psi_1 \\rangle = \\bra{\\Phi} \\hat{H} e^{-i\\hat{H}\\delta t} \\ket{\\Phi} = E e^{-iE\\delta t} \\nonumber\n",
    "\\end{align}\n",
    "$$\n",
    "\n",
    "状態作成を厳密解に取ることでこれらの値は、shot errorの範囲内で再現していることがわかる。\n",
    "\n",
    "以下では、ランダムな試行関数から始めて固有値の推定ができているかをチェックしよう。"
   ]
  },
  {
   "cell_type": "code",
   "execution_count": 18,
   "metadata": {
    "tags": [
     "hide-input"
    ]
   },
   "outputs": [
    {
     "name": "stdout",
     "output_type": "stream",
     "text": [
      "Circuit for c-UiUp: {'u': 11185, 'cx': 6280}\n",
      "num of Hamil term:  17\n",
      "iteration:  0\n",
      "eigs of N:  [1.] cond 1.0 r: 1\n",
      "w: [1.61127485]\n",
      "\n",
      "iteration:  1\n",
      "eigs of N:  [0.2458579 1.7541421] cond 7.134780216944254 r: 2\n",
      "w: [1.27321303 3.35359765]\n",
      "\n",
      "iteration:  2\n",
      "eigs of N:  [0.00826746 0.49858876 2.49314379] cond 301.5611013988385 r: 3\n",
      "w: [1.24902173 3.31208999 5.35070515]\n",
      "\n",
      "iteration:  3\n",
      "eigs of N:  [1.29344560e-04 9.94465747e-03 6.17854557e-01 3.37207144e+00] cond 26070.45439089142 r: 4\n",
      "w: [1.21235523 3.30438719 5.34426495 8.04823827]\n",
      "\n",
      "iteration:  4\n",
      "eigs of N:  [3.43778353e-05 2.59020054e-04 1.82356214e-02 8.07696117e-01\n",
      " 4.17377486e+00] cond 121408.89122291954 r: 5\n",
      "w: [1.20356938 3.3003931  5.34       6.28446185 8.23399773]\n",
      "\n",
      "iteration:  5\n",
      "eigs of N:  [1.65876983e-05 1.25943366e-04 4.91424981e-04 2.29889501e-02\n",
      " 9.95820982e-01 4.98055611e+00] cond 300256.0107413335 r: 6\n",
      "w: [1.18985184 3.29649666 5.34       5.34       7.42853393 9.44511758]\n",
      "\n",
      "Eexact [1.18985184 3.29649666 5.34       5.34       7.42853393 9.44511758]\n"
     ]
    }
   ],
   "source": [
    "def make_U_and_cU(i, delta_t, trotter_steps, hamiltonian_op, ancilla_qubits, target_qubits, Uprep):\n",
    "    Ntar = len(target_qubits)\n",
    "    time = i * delta_t\n",
    "    circuit_U = QuantumCircuit(Ntar)\n",
    "    expiHt = PauliEvolutionGate(hamiltonian_op, time, synthesis=SuzukiTrotter(order=1,reps=trotter_steps))\n",
    "    circuit_U.append(expiHt, range(Ntar))\n",
    "    qc_U = circuit_U.decompose().decompose()\n",
    "    \n",
    "    qc_cU = QuantumCircuit(Ntar)\n",
    "    qc_cU.append(Uprep, range(Ntar))\n",
    "    qc_cU.append(expiHt, range(Ntar))\n",
    "    qc_cU = qc_cU.decompose().decompose()\n",
    "    qc_cU = qc_cU.to_gate().control(1)\n",
    "\n",
    "    return qc_U, qc_cU\n",
    "\n",
    "def make_overlap_qc(Ntar, gate_cUi, gate_cUj, ancilla_qubits, target_qubits, using_statevector):\n",
    "    qc_re = QuantumCircuit(1+Ntar, 1)\n",
    "    qc_re.h(0)\n",
    "    qc_re.append(gate_cUi, ancilla_qubits + target_qubits)\n",
    "    qc_re.x(0)\n",
    "    qc_re.append(gate_cUj, ancilla_qubits+target_qubits)\n",
    "    qc_re.h(0)\n",
    "    if not using_statevector:\n",
    "        qc_re.measure(0,0)\n",
    "    qc_re = qc_re.decompose()\n",
    "\n",
    "    # Overlap, Im part \n",
    "    qc_im = QuantumCircuit(1+Ntar,1)\n",
    "    qc_im.h(0)\n",
    "    qc_im.append(gate_cUi, ancilla_qubits + target_qubits)\n",
    "    qc_im.x(0)\n",
    "    qc_im.append(gate_cUj, ancilla_qubits + target_qubits)\n",
    "    qc_im.sdg(0)\n",
    "    qc_im.h(0)\n",
    "    if not using_statevector:\n",
    "        qc_im.measure(0,0)\n",
    "    qc_im = qc_im.decompose()\n",
    "\n",
    "    return qc_re, qc_im\n",
    "\n",
    "def measure_overlap(num_shot, Ntar, gate_cUi, gate_cUj, ancilla_qubits, target_qubits, sampler, using_statevector,\n",
    "                    do_simulation=True):\n",
    "    qc_re, qc_im = make_overlap_qc(Ntar, gate_cUi, gate_cUj, ancilla_qubits, target_qubits, using_statevector)\n",
    "    if do_simulation:\n",
    "        if using_statevector:\n",
    "            results = [ Statevector.from_instruction(qc).probabilities_dict() for qc in [qc_re, qc_im]]\n",
    "            prob_Re = results[0]\n",
    "            prob_Im = results[1] \n",
    "        else:\n",
    "            job = sampler.run([qc_re, qc_im], shots=num_shot)\n",
    "            results  = job.result()\n",
    "            prob_Re = results[0].data.c.get_counts()\n",
    "            prob_Im = results[1].data.c.get_counts()\n",
    "\n",
    "        p0 = np.sum( [ count for bitstr, count in prob_Re.items() if bitstr[-1] == '0' ] ) / np.sum(list(prob_Re.values()))\n",
    "        p1 = np.sum( [ count for bitstr, count in prob_Re.items() if bitstr[-1] == '1' ] ) / np.sum(list(prob_Re.values()))\n",
    "        ReN = p0 - p1\n",
    "\n",
    "        p0 = np.sum( [ count for bitstr, count in prob_Im.items() if bitstr[-1] == '0' ] ) / np.sum(list(prob_Im.values()))\n",
    "        p1 = np.sum( [ count for bitstr, count in prob_Im.items() if bitstr[-1] == '1' ] ) / np.sum(list(prob_Im.values()))\n",
    "        ImN = p0 - p1\n",
    "\n",
    "        U_ij = ReN + 1j * ImN\n",
    "        return U_ij\n",
    "    else: #only resource estimation\n",
    "        print(\"qc_re:\", dict(qc_re.count_ops()))\n",
    "        print(\"qc_im:\", dict(qc_im.count_ops()))\n",
    "        return None\n",
    "\n",
    "def make_cU(Uprep, Ui, Ntar):\n",
    "    circuit_cUi = QuantumCircuit(Ntar)\n",
    "    circuit_cUi.append(Uprep, range(Ntar))\n",
    "    circuit_cUi.append(Ui, range(Ntar))\n",
    "    circuit_cUi = circuit_cUi.decompose().decompose()\n",
    "    return circuit_cUi.to_gate().control(1)\n",
    "\n",
    "def make_nonD_H_qc(op_string, Ntar, ancilla_qubits, target_qubits, gate_cUi, gate_cUj, qcs_re, qcs_im, using_statevector):\n",
    "    # real part\n",
    "    qc_reH_nonD = QuantumCircuit(1+Ntar)\n",
    "    qc_reH_nonD.h(0)\n",
    "    qc_reH_nonD.append(gate_cUi, ancilla_qubits + target_qubits)\n",
    "    qc_reH_nonD.x(0)\n",
    "    qc_reH_nonD.append(gate_cUj, ancilla_qubits + target_qubits)\n",
    "    qc_reH_nonD.h(0)\n",
    "    additional_qc(qc_reH_nonD, op_string, target_qubits)\n",
    "    if not using_statevector:\n",
    "        qc_reH_nonD.measure_all()\n",
    "    qc_reH = qc_reH_nonD.decompose().decompose()\n",
    "    qcs_re.append(qc_reH)\n",
    "\n",
    "    # imaginary part\n",
    "    qc_imH_nonD = QuantumCircuit(1+Ntar)\n",
    "    qc_imH_nonD.h(0)\n",
    "    qc_imH_nonD.append(gate_cUi, ancilla_qubits + target_qubits)\n",
    "    qc_imH_nonD.x(0)\n",
    "    qc_imH_nonD.append(gate_cUj, ancilla_qubits + target_qubits)\n",
    "    qc_imH_nonD.sdg(0)\n",
    "    qc_imH_nonD.h(0)\n",
    "    additional_qc(qc_imH_nonD, op_string, target_qubits)\n",
    "    if not using_statevector:\n",
    "        qc_imH_nonD.measure_all()\n",
    "    qc_imH = qc_imH_nonD.decompose().decompose()\n",
    "    qcs_im.append(qc_imH)\n",
    "\n",
    "    return None\n",
    "\n",
    "def plot_convergence(ws, evals):\n",
    "    cols = sns.color_palette(\"deep\", n_colors=len(evals))\n",
    "    fig = plt.figure(figsize=(8, 4))\n",
    "    ax = fig.add_subplot(1, 1, 1)\n",
    "    for it in range(len(ws)):\n",
    "        x = it + 1\n",
    "        for n in range(len(ws[it])):\n",
    "            y = ws[it][n]\n",
    "            ax.scatter(x, y, marker=\"D\", color=cols[n])\n",
    "    for n in range(len(evals)):\n",
    "        ax.axhline(y=evals[n], color='gray', linestyle='dotted')\n",
    "    ax.set_xlabel(\"iteration\")\n",
    "    ax.set_ylabel(\"overlap\")\n",
    "    ax.set_ylim(0, np.max(evals)*1.05)\n",
    "    #plt.show()\n",
    "    if using_statevector:\n",
    "        fig.savefig(\"QKrylov_Norb\"+str(Norb)+\"Nocc\"+str(Nocc)+\"_statevector.pdf\")\n",
    "    else:\n",
    "        fig.savefig(\"QKrylov_Norb\"+str(Norb)+\"Nocc\"+str(Nocc)+\"_shot.pdf\")\n",
    "    plt.close()\n",
    "\n",
    "def QuantumKrylov(Uprep: QuantumCircuit, # circuit to prepare a reference state\n",
    "                 hamiltonian_op: SparsePauliOp, # Hamiltonian operator\n",
    "                 sampler,\n",
    "                 delta_t=0.01,\n",
    "                 max_iterations=10,\n",
    "                 trotter_steps=1, \n",
    "                 num_shot=10**4, \n",
    "                 ancilla_qubits=[], target_qubits=[],\n",
    "                 using_statevector=False,\n",
    "                 do_simulation=True,\n",
    "                 ):\n",
    "    Ntar = len(target_qubits)\n",
    "    N = np.zeros((max_iterations, max_iterations), dtype=np.complex128)\n",
    "    H = np.zeros((max_iterations, max_iterations), dtype=np.complex128)\n",
    "    ws = []\n",
    "    Unitaries = [ ]\n",
    "    if True:\n",
    "        Ui = PauliEvolutionGate(hamiltonian_op, delta_t, synthesis=SuzukiTrotter(order=1,reps=trotter_steps))\n",
    "        gate_cUi = make_cU(Uprep, Ui, Ntar)\n",
    "        Uj = PauliEvolutionGate(hamiltonian_op, 2*delta_t, synthesis=SuzukiTrotter(order=1,reps=trotter_steps))\n",
    "        gate_cUj = make_cU(Uprep, Uj, Ntar)\n",
    "\n",
    "        qc_Ui = QuantumCircuit(1+Ntar)\n",
    "        qc_Ui.append(gate_cUi, range(Ntar+1))\n",
    "        qc_Ui = qc_Ui.decompose(reps=5)\n",
    "        print(\"Circuit for c-UiUp:\", dict(qc_Ui.count_ops()))\n",
    "        U_ij = measure_overlap(num_shot, Ntar, gate_cUi, gate_cUj, ancilla_qubits, target_qubits, sampler, using_statevector, do_simulation)\n",
    "        num_of_Hamil_term = len(hamiltonian_op.paulis)\n",
    "        print(\"num of Hamil term: \", num_of_Hamil_term)\n",
    "    if not(do_simulation):\n",
    "        return None\n",
    "    \n",
    "    for it in range(max_iterations):\n",
    "        print(\"iteration: \", it)\n",
    "        ## make controlled U = exp(-iHδt * it)\n",
    "        Ui = PauliEvolutionGate(hamiltonian_op, it*delta_t, synthesis=SuzukiTrotter(order=1,reps=trotter_steps))\n",
    "        gate_cUi = make_cU(Uprep, Ui, Ntar)\n",
    "        Unitaries.append(gate_cUi)\n",
    "        N[it, it] = 1.0\n",
    "        ## evaluate overlap to previous states\n",
    "        for j in range(it-1, -1, -1):\n",
    "            gate_cUj = Unitaries[j]\n",
    "            U_ij = measure_overlap(num_shot, Ntar, gate_cUi, gate_cUj, ancilla_qubits, target_qubits, sampler, using_statevector, do_simulation)\n",
    "            N[it, j] = U_ij\n",
    "            N[j, it] = np.conj(U_ij)\n",
    "        ### evaluate H_ii no need ancilla qubit\n",
    "        qcs = []  \n",
    "        for idx_H in range(len(Hamil_paulis)):\n",
    "            op_string = Hamil_paulis[idx_H].to_label()\n",
    "            idx_relevant = get_idx_to_measure(op_string)\n",
    "            qc_reH_D = QuantumCircuit(Ntar)\n",
    "            qc_reH_D.append(Uprep, range(Ntar))\n",
    "            qc_reH_D.append(Ui, range(Ntar))\n",
    "            additional_qc(qc_reH_D, op_string, range(Ntar))\n",
    "            if not(using_statevector):\n",
    "                qc_reH_D.measure_all()\n",
    "            qc_reH_D = qc_reH_D.decompose().decompose()\n",
    "            qcs.append(qc_reH_D)\n",
    "        if using_statevector:\n",
    "            results = [ Statevector.from_instruction(qc).probabilities_dict() for qc in qcs]\n",
    "        else:\n",
    "            job = sampler.run(qcs, shots=num_shot)\n",
    "            results  = job.result()\n",
    "\n",
    "        Hsum = 0.0\n",
    "        for idx_H in range(len(Hamil_paulis)):\n",
    "            op_string = Hamil_paulis[idx_H].to_label()\n",
    "            idx_relevant = get_idx_to_measure(op_string)\n",
    "            if using_statevector:\n",
    "                res = results[idx_H]\n",
    "            else:\n",
    "                res = results[idx_H].data.meas.get_counts()\n",
    "            expval, dummy, dummy_ = expec_Zstring(res, idx_relevant)\n",
    "            Hsum += Hamil_coeffs[idx_H] * expval\n",
    "            ##print(\"operator: \", op_string, \"coeff: \", Hamil_coeffs[idx_H], \"exp. val: \",  expval)\n",
    "        #print(\"H[it, it]\", it, Hsum)\n",
    "        H[it, it] = Hsum\n",
    "\n",
    "        ### evaluate H_ij ancilla qubit is needed\n",
    "        for j in range(it-1, -1, -1):\n",
    "            gate_cUj = Unitaries[j]\n",
    "            qcs_re = []\n",
    "            qcs_im = []\n",
    "            for idx_H in range(len(Hamil_paulis)):\n",
    "                op_string = Hamil_paulis[idx_H].to_label()\n",
    "                make_nonD_H_qc(op_string, Ntar, ancilla_qubits, target_qubits, gate_cUi, gate_cUj, qcs_re, qcs_im, using_statevector)\n",
    "            # Re part\n",
    "            if using_statevector:\n",
    "                results = [ Statevector.from_instruction(qc).probabilities_dict() for qc in qcs_re]\n",
    "            else:\n",
    "                job = sampler.run(qcs_re, shots=num_shot)\n",
    "                results  = job.result()\n",
    "            Re_H_ij = 0.0\n",
    "            for idx_H in range(len(Hamil_paulis)):\n",
    "                op_string = Hamil_paulis[idx_H].to_label()\n",
    "                idx_relevant = get_idx_to_measure(op_string)\n",
    "                if using_statevector:\n",
    "                    res = results[idx_H]\n",
    "                else:\n",
    "                    res = results[idx_H].data.meas.get_counts()\n",
    "                dummy_e, p0, p1 = expec_Zstring(res, idx_relevant, target_qubits=range(len(target_qubits)), ancilla_qubit=0)\n",
    "                expval = p0 - p1\n",
    "                Re_H_ij += Hamil_coeffs[idx_H] * expval\n",
    "                #print(\"operator: \", op_string, \"coeff: \", Hamil_coeffs[idx_H], \"exp. val: \",  expval)\n",
    "            #print(\"Re H_{ij}\", Re_H_ij)\n",
    "\n",
    "            # Im part\n",
    "            if using_statevector:\n",
    "                results = [ Statevector.from_instruction(qc).probabilities_dict() for qc in qcs_im]\n",
    "            else:\n",
    "                job = sampler.run(qcs_im, shots=num_shot)\n",
    "                results  = job.result() \n",
    "            Im_H_ij = 0.0\n",
    "            for idx_H in range(len(Hamil_paulis)):\n",
    "                op_string = Hamil_paulis[idx_H].to_label()\n",
    "                idx_relevant = get_idx_to_measure(op_string)\n",
    "                if using_statevector:\n",
    "                    res = results[idx_H]\n",
    "                else:\n",
    "                    res = results[idx_H].data.meas.get_counts()   \n",
    "                dummy_e, p0, p1 = expec_Zstring(res, idx_relevant, target_qubits=range(len(target_qubits)), ancilla_qubit=0)\n",
    "                expval = p0 - p1\n",
    "                Im_H_ij += Hamil_coeffs[idx_H] * expval\n",
    "            #print(\"Im H_{ij}\", Im_H_ij)\n",
    "\n",
    "            H[it, j] = Re_H_ij + 1j * Im_H_ij\n",
    "            H[j, it] = Re_H_ij - 1j * Im_H_ij\n",
    "\n",
    "        # solve generalized eigenvalue problem\n",
    "        Nsub = N[:it+1, :it+1]\n",
    "        Hsub = H[:it+1, :it+1]        \n",
    "        lam, v = scipy.linalg.eigh(Nsub) \n",
    "        # truncate orthogonal basis with small eigenvalues\n",
    "        cols = [ i for i in range(it+1) if lam[i] >= 1.e-6]\n",
    "        r = len(cols)\n",
    "        Ur = v[:,cols]\n",
    "        sq_Sigma_inv = np.diag(lam[cols]**(-0.5))\n",
    "\n",
    "        X = Ur @ sq_Sigma_inv @ Ur.conj().T\n",
    "        Xdag = X.conj().T\n",
    "        tildeH = X @ Hsub @ Xdag\n",
    "        w, v = scipy.linalg.eigh(tildeH)\n",
    "        \n",
    "        w_r = w[-r:]\n",
    "        ws += [w_r]\n",
    "\n",
    "        print(\"eigs of N: \", lam, \"cond\", np.linalg.cond(Nsub), \"r:\", r)\n",
    "        print(f\"w: {w_r}\")\n",
    "        print(\"\")\n",
    "    return H[:it+1,:it+1], N[:it+1,:it+1], ws\n",
    "\n",
    "initial = \"exact\"\n",
    "initial = \"\"\n",
    "\n",
    "if initial == \"exact\":\n",
    "    Uprep = ansatz(params_exact) # exact ground state\n",
    "else:\n",
    "    np.random.seed(0)\n",
    "    params_random = np.random.rand(5)\n",
    "    Uprep = ansatz(params_random) # random state\n",
    "\n",
    "Hamil_coeffs = hamiltonian_op.coeffs\n",
    "Hamil_paulis = hamiltonian_op.paulis\n",
    "dt = 1.0\n",
    "\n",
    "using_statevector = True\n",
    "#using_statevector = False\n",
    "Hmat, Nmat, Ens = QuantumKrylov(Uprep, hamiltonian_op, sampler, delta_t=dt, max_iterations=min([10,len(evecs)]), trotter_steps=20, \n",
    "                           num_shot=10**4, \n",
    "                           ancilla_qubits=[0], target_qubits=list(range(1,Norb+1)),\n",
    "                           using_statevector=using_statevector)\n",
    "print(\"Eexact\", evals)\n",
    "plot_convergence(Ens, evals)\n",
    "\n",
    "if initial == \"exact\":\n",
    "    print(\"<Ψ0|Ψ1>\", np.exp(- 1j * Egs_exact * dt) , \"N[0,1]\", Nmat[0,1])\n",
    "    print(\"<Ψ0|H|Ψ0>\", Egs_exact, \"H[0,0]\", Hmat[0,0])\n",
    "    print(\"<Ψ0|H|Ψ1>\", np.exp(- 1j * Egs_exact * dt) * Egs_exact, \"H[0,1]\", Hmat[0,1])\n",
    "    print(\"<Ψ0|Ψ2>\", np.exp(- 1j * Egs_exact * dt * 2), \"N[0,2]\", Nmat[0,2])\n",
    "    print(\"<Ψ0|H|Ψ2>\", np.exp(- 1j * Egs_exact * dt * 2) * Egs_exact, \"H[0,2]\", Hmat[0,2])"
   ]
  },
  {
   "cell_type": "markdown",
   "metadata": {},
   "source": [
    "$N_\\mathrm{orb}=4, N_\\mathrm{occ}=2$の場合は次元が6なので、iterationが6になった時点で理想的には厳密解と一致するはずである。\n",
    "ちなみに、3番目の状態は縮退しているので、緑と赤のシンボルが近づいていくのは誤りではない。\n",
    "\n",
    "![](pic/QKrylov_Norb4Nocc2_statevector.png)\n",
    "\n",
    "もう少しサイズの大きな$N_\\mathrm{orb}=6, N_\\mathrm{occ}=2$の場合の結果(次元=15)も示しておく。\n",
    "\n",
    "![](pic/QKrylov_Norb6Nocc2_statevector.png)\n",
    "\n",
    "statevectorを用いた場合は上のように、厳密解へと収束する様子が見て取れるが、\n",
    "shotで測る場合は、ノイズなしのsimulator(shot errorのみ)でも、$H,N$の精度により疑似固有値が得られてしまう。\n",
    "$N_\\mathrm{orb}=4, N_\\mathrm{occ}=2$で、$10^4$ shotで計算した結果を示しておく。\n",
    "\n",
    "![](pic/QKrylov_Norb4Nocc2_shot.png)\n",
    "\n",
    "今の実装では、overlapを対角化し小さな固有値を捨てることで、一般化固有値問題をより安定的に解いているものの、それでもshot測定の場合は反復に対して計算が不安定になってしまう。実機のノイズがあると、overlapやHが悪条件になり計算がさらに不安定になることが予想されるため、応用の上ではさらなる検討が必要であろう。"
   ]
  },
  {
   "cell_type": "markdown",
   "metadata": {},
   "source": [
    "## 関連する話題\n",
    "\n",
    "multi-referenceによるQuantum Krylov法は、[J. Chem. Theory Comput. 2020, 16, 2326](https://doi.org/10.1021/acs.jctc.9b01125)が参考になる。\n",
    "overlap行列の計算については、Hadamard test以外にも、上で述べた方法など制御ユニタリを必要としない方法も提案されていて、様々な進展があるようだ。\n",
    "\n",
    "また、回路等を工夫してIBM実機を用いてKrylov diagonalizationを達成した近年の発展なども非常に興味深い。[N. Yoshioka et al., Nature Comm. 16, 5014 (2025)](https://www.nature.com/articles/s41467-025-59716-z)"
   ]
  }
 ],
 "metadata": {
  "colab": {
   "collapsed_sections": [],
   "name": "Python_chapter_Bayesian_linear_regression.ipynb",
   "provenance": []
  },
  "kernelspec": {
   "display_name": "venv",
   "language": "python",
   "name": "python3"
  },
  "language_info": {
   "codemirror_mode": {
    "name": "ipython",
    "version": 3
   },
   "file_extension": ".py",
   "mimetype": "text/x-python",
   "name": "python",
   "nbconvert_exporter": "python",
   "pygments_lexer": "ipython3",
   "version": "3.13.2"
  }
 },
 "nbformat": 4,
 "nbformat_minor": 0
}
