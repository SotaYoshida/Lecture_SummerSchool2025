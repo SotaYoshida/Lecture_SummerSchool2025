{
 "cells": [
  {
   "cell_type": "markdown",
   "metadata": {},
   "source": [
    "# Noisy simulations with Qiskit\n",
    "\n",
    "Qiskitを用いてノイズのあるシミュレーションを行う方法を紹介する。\n",
    "これも、v1で変更があったので理解を深めるために書いてみた。\n",
    "\n",
    "Qiskitでは、ノイズモデルや実機のcalibration情報のタイムスタンプを用いて、ノイズのあるシミュレーションを行うことができる。\n",
    "また、具体的な実機に対応したbackendを指定することで、その実機qubitのレイアウトに応じた回路作成や、\n",
    "native gateへのtranspileを行い、より実際の実機実行に向けたシミュレーションを行うことができる。"
   ]
  },
  {
   "cell_type": "code",
   "execution_count": 6,
   "metadata": {},
   "outputs": [],
   "source": [
    "import numpy as np\n",
    "import matplotlib.pyplot as plt\n",
    "from qiskit import QuantumCircuit, transpile\n",
    "from qiskit.visualization import plot_histogram\n",
    "from qiskit_ibm_runtime import SamplerV2\n",
    "from qiskit_ibm_runtime.fake_provider import FakeManilaV2, FakeMumbaiV2\n",
    "from qiskit.quantum_info import SparsePauliOp\n",
    "from qiskit.circuit.library import PauliEvolutionGate\n",
    "from qiskit.synthesis import SuzukiTrotter"
   ]
  },
  {
   "cell_type": "code",
   "execution_count": 7,
   "metadata": {},
   "outputs": [],
   "source": [
    "def G(circ, i, j, theta):\n",
    "    theta_2 = theta / 2 \n",
    "    circ.cx(i,j)\n",
    "    circ.ry(theta_2, i)\n",
    "    circ.cx(j,i)\n",
    "    circ.ry(-theta_2, i)\n",
    "    circ.cx(j,i)\n",
    "    circ.cx(i,j)  \n",
    "\n",
    "def G_gate(theta):\n",
    "    circ = QuantumCircuit(2)\n",
    "    G(circ, 0, 1, theta)\n",
    "    circ.name = \"G\"    \n",
    "    return circ.to_gate()"
   ]
  },
  {
   "cell_type": "code",
   "execution_count": 8,
   "metadata": {},
   "outputs": [
    {
     "data": {
      "text/plain": [
       "SparsePauliOp(['II', 'ZI', 'IZ', 'ZZ'],\n",
       "              coeffs=[-1.+0.j,  1.+0.j,  1.+0.j, -1.+0.j])"
      ]
     },
     "execution_count": 8,
     "metadata": {},
     "output_type": "execute_result"
    }
   ],
   "source": [
    "obs = [ \"II\", \"ZI\", \"IZ\", \"ZZ\"]\n",
    "coeffs = [ -1.0, 1.0, 1.0, -1.0]\n",
    "hamiltonian_op = SparsePauliOp(obs, coeffs)\n",
    "hamiltonian_op"
   ]
  },
  {
   "cell_type": "code",
   "execution_count": 9,
   "metadata": {},
   "outputs": [
    {
     "name": "stdout",
     "output_type": "stream",
     "text": [
      "U.data Instruction(name='PauliEvolution', num_qubits=2, num_clbits=0, params=[0.01])\n"
     ]
    }
   ],
   "source": [
    "delta_t = 0.01\n",
    "n_qubit = 5\n",
    "U = PauliEvolutionGate(hamiltonian_op, delta_t, synthesis=SuzukiTrotter(order=1,reps=5))\n",
    "print(\"U.data\", U)\n",
    "\n",
    "def ansatz(n_qubit):\n",
    "    ansatz = QuantumCircuit(n_qubit)\n",
    "    for i in range(2):\n",
    "        ansatz.x(i)\n",
    "    ansatz.append(G_gate(np.pi/2), [1,2])\n",
    "    ansatz.name = \"Ansatz\"\n",
    "    return ansatz\n",
    "\n",
    "def make_cU(Uprep, U, Ntar):\n",
    "    circuit_cU = QuantumCircuit(Ntar)\n",
    "    circuit_cU.append(Uprep, range(Ntar))\n",
    "    circuit_cU.append(U, [1, 2])\n",
    "    circuit_cU = circuit_cU.decompose(reps=5)\n",
    "    return circuit_cU.to_gate().control(1)\n",
    "\n",
    "Uprep = ansatz(n_qubit) \n",
    "gate_cU = make_cU(Uprep, U, n_qubit)\n",
    "\n",
    "qc = QuantumCircuit(1+n_qubit, 1)\n",
    "qc.h(0)\n",
    "qc.append(gate_cU, [0] + list(range(1,n_qubit+1)))\n",
    "qc.x(0)\n",
    "qc.append(gate_cU, [0] + list(range(1,n_qubit+1)))\n",
    "qc.h(0)\n",
    "qc.draw('mpl')\n",
    "qc = qc.decompose()"
   ]
  },
  {
   "cell_type": "markdown",
   "metadata": {},
   "source": [
    "Qiskitには、[Fake Provider](https://docs.quantum.ibm.com/api/qiskit/providers_fake_provider)モジュールがあり、様々な実機のcalibration情報を提供している。\n",
    "これにより、レイアウトに応じた回路作成やtranspileを試したり、ノイズのあるシミュレーションを行うことができる。\n",
    "\n",
    "`FakeMumbaiV2`を使ってみよう。Mumbaiは27量子ビットのマシンである。\n",
    "この他にも様々な都市名がついたマシンがあり、量子ビット・ゲートエラー率のほか、processor(≒ネイティブゲート)なども異なるので、興味があれば試してみるとよいだろう。"
   ]
  },
  {
   "cell_type": "code",
   "execution_count": null,
   "metadata": {},
   "outputs": [],
   "source": [
    "backend = FakeMumbaiV2()\n",
    "tqc = transpile(qc, backend=backend)"
   ]
  }
 ],
 "metadata": {
  "colab": {
   "collapsed_sections": [],
   "name": "Python_chapter_Bayesian_linear_regression.ipynb",
   "provenance": []
  },
  "kernelspec": {
   "display_name": "3.11.4",
   "language": "python",
   "name": "python3"
  },
  "language_info": {
   "codemirror_mode": {
    "name": "ipython",
    "version": 3
   },
   "file_extension": ".py",
   "mimetype": "text/x-python",
   "name": "python",
   "nbconvert_exporter": "python",
   "pygments_lexer": "ipython3",
   "version": "3.11.4"
  }
 },
 "nbformat": 4,
 "nbformat_minor": 0
}
