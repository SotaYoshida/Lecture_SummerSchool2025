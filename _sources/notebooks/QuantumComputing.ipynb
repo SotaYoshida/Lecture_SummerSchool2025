{
 "cells": [
  {
   "cell_type": "markdown",
   "metadata": {},
   "source": [
    "# Quantum Computing\n",
    "\n",
    "筆者には量子計算のgeneralな説明をするような能力は無いが、必要な最低限の情報をまとめておく。\n",
    "\n",
    "より詳細が知りたい場合は、様々なTutorialがあるので、そちらを参照してほしい。\n",
    "\n",
    "- Qiskit/IBM: [IBM Quantum Learning](https://learning.quantum.ibm.com/)\n",
    "- Pennylane/Xanadu: [Learn quantum programming with PennyLane](https://pennylane.ai/qml)\n",
    "- Quantum Native Dojo by Qunasys: [Quantum Native Dojo](https://dojo.qulacs.org/ja/latest/index.html)\n",
    "\n",
    "また、筆者が学習に用いた書籍は..."
   ]
  },
  {
   "cell_type": "markdown",
   "metadata": {},
   "source": [
    "## 基本的な量子ゲート\n",
    "\n",
    "### 1-qubit ゲート\n",
    "\n",
    "1-qubitゲートは、1つの量子ビットに作用するゲートである。\n",
    "\n",
    "$\\| 0 \\rangle$と$\\| 1 \\rangle$を基底とする1-qubitの状態ベクトルを$\\| \\psi \\rangle = \\alpha \\| 0 \\rangle + \\beta \\| 1 \\rangle$とする。\n",
    "\n",
    "qubitに対する演算はノルムを保存するユニタリ行列で表される。最も重要なものがパウリ行列である。\n",
    "\n",
    "$$\n",
    "X = \\left[ \\begin{array}{cc} 0 & 1 \\\\ 1 & 0 \\end{array} \\right], \\quad\n",
    "Y = \\left[ \\begin{array}{cc} 0 & -i \\\\ i & 0 \\end{array} \\right], \\quad\n",
    "Z = \\left[ \\begin{array}{cc} 1 & 0 \\\\ 0 & -1 \\end{array} \\right], \\quad\n",
    "$$\n",
    "\n",
    "また、下記に示すようなHadamardゲート($H$), 位相ゲート($S$), $\\pi/8$ゲート($T$)もよく使われる。\n",
    "\n",
    "$$\n",
    "H = \\frac{1}{\\sqrt{2}} \\left[ \\begin{array}{cc} 1 & 1 \\\\ 1 & -1 \\end{array} \\right], \\quad\n",
    "S = \\left[ \\begin{array}{cc} 1 & 0 \\\\ 0 & i \\end{array} \\right], \\quad\n",
    "T = \\left[ \\begin{array}{cc} 1 & 0 \\\\ 0 & \\exp(i \\pi /4) \\end{array} \\right]\n",
    "$$\n",
    "\n",
    "$H = (X+Z)/\\sqrt{2}, \\quad S = T^2$といった関係が成り立つ。\n",
    "\n",
    "Pauli行列を指数関数の肩に乗せたもの(各軸周りの回転)もよく使われる。\n",
    "\n",
    "$$\n",
    "R_x(\\theta) = \\exp(-i \\theta X/2) = \\left[ \\begin{array}{cc} \\cos(\\theta/2) & -i \\sin(\\theta/2) \\\\ -i \\sin(\\theta/2) & \\cos(\\theta/2) \\end{array} \\right], \\quad\n",
    "R_y(\\theta) = \\exp(-i \\theta Y/2) = \\left[ \\begin{array}{cc} \\cos(\\theta/2) & -\\sin(\\theta/2) \\\\ \\sin(\\theta/2) & \\cos(\\theta/2) \\end{array} \\right], \\quad\n",
    "R_z(\\theta) = \\exp(-i \\theta Z/2) = \\left[ \\begin{array}{cc} \\exp(-i \\theta/2) & 0 \\\\ 0 & \\exp(i \\theta/2) \\end{array} \\right]\n",
    "$$\n",
    "\n",
    "この回転ゲートを用いた重要な定理を示す。\n",
    "\n",
    "````{admonition} 定理\n",
    "単一qubitに対する任意のユニタリ変換があるとき、$U= \\exp(i \\alpha) R_z(\\beta) R_y(\\gamma) R_z(\\delta)$を満たす$\\alpha, \\beta, \\gamma, \\delta$が存在する。\n",
    "````\n",
    "\n",
    "### 2-qubit ゲート\n",
    "\n",
    "### universal gate set\n"
   ]
  },
  {
   "cell_type": "markdown",
   "metadata": {},
   "source": [
    "## 重ね合わせ状態\n",
    "\n",
    "$$\n",
    "\\ket{0} \\xrightarrow{H} \\frac{1}{\\sqrt{2}}(\\ket{0} + \\ket{1})\n",
    "$$\n",
    "\n",
    "$\\ket{0}$で初期化された$N$個のqubitについて、Hadamard gateを適用してみよう。\n",
    "\n",
    "$$\n",
    "\\ket{0}^{\\otimes N} \n",
    "\\xrightarrow{H^{\\otimes N}}\n",
    "\\left( \\frac{\\ket{0} + \\ket{1}}{\\sqrt{2}} \\right) \\otimes \\cdots \\otimes \\left( \\frac{\\ket{0} + \\ket{1}}{\\sqrt{2}} \\right)\n",
    "= \n",
    "\\frac{1}{\\sqrt{2^N}}\\sum_{x=0}^{2^N-1}\\ket{x}\n",
    "$$\n",
    "\n",
    "最後の等式では、整数値$0$から$2^N-1$がビット列と対応することを用いた。"
   ]
  },
  {
   "cell_type": "markdown",
   "metadata": {},
   "source": []
  },
  {
   "cell_type": "markdown",
   "metadata": {},
   "source": [
    "## 量子テレポーテーション\n",
    "\n",
    "ある量子ビットの状態を量子のもつれを用いて別の量子ビットに移すことを量子テレポーテーションという。\n",
    "\n",
    "Alice と Bob がいるとする。Alice が持っている量子ビットの状態を Bob に送ることを考える。\n",
    "Alice と Bob は、物理的には離れていて、両者は古典的な通信しかできない一方で、\n",
    "Alice と Bob は、量子もつれを共有している(もつれのある量子ビットを１つずつ持っている)とする。\n",
    "\n",
    "このとき、Alice が持っている量子ビットの状態を Bob に送ることができる。\n",
    "量子テレポーテーションの手順は以下の通りである。\n",
    "\n",
    "1. Alice と Bob は、もつれの量子ビットを共有し分け合う($q_1, q_2$)  \n",
    "  $ |q_1 q_2 \\rangle \\equiv \\frac{1}{\\sqrt{2}} (|00\\rangle + |11\\rangle)$\n",
    "2. Alice が送りたい量子ビットを$q_0$とする。\n",
    "  $ |q_0 \\rangle = \\alpha |0\\rangle + \\beta |1 \\rangle$\n",
    "3. Alice は、$q_0 \\to q_1$ に CNOT ゲートを適用する。  \n",
    "  $ | \\psi \\rangle = (\\alpha |0\\rangle + \\beta |1 \\rangle) \\frac{1}{\\sqrt{2}} (|00\\rangle + |11\\rangle) = \\frac{\\alpha}{\\sqrt{2}} (|000\\rangle + |011\\rangle) + \\frac{\\beta}{\\sqrt{2}} (|110\\rangle + |101\\rangle)  $\n",
    "4. Alice は、$q_0$ に Hadamard ゲートを適用する。   \n",
    "  $ | \\psi \\rangle = \\frac{\\alpha}{2} \\left( |000\\rangle + |011\\rangle + |100\\rangle + |111\\rangle \\right) + \\frac{\\beta}{2} \\left( |010\\rangle + |001\\rangle - |110\\rangle - |101\\rangle \\right)  $\n",
    "5. Alice は、$q_0$ と $q_1$ を測定し、測定結果を Bob に送る。  \n",
    "6. Bob は、受け取った測定結果に応じて、$q_2$ に X ゲート、Z ゲートを適用することで、$q_2$ に $q_0$ の状態を再現することができる。\n",
    "\n",
    "| Aliceの5.の測定結果 | Bobの持つ量子ビット$q_2$の状態 | $q_0$を再現するための操作 |\n",
    "|:---:|:---:|:---:|\n",
    "| 00 | $\\alpha \\|0\\rangle + \\beta \\|1\\rangle$ | なし |\n",
    "| 01 | $\\alpha \\|1\\rangle + \\beta \\|0\\rangle$ | X ゲート |\n",
    "| 10 | $\\alpha \\|0\\rangle - \\beta \\|1\\rangle$ | Z ゲート |\n",
    "| 11 | $\\alpha \\|1\\rangle - \\beta \\|0\\rangle$ | X ゲート, Z ゲート |\n"
   ]
  },
  {
   "cell_type": "markdown",
   "metadata": {},
   "source": [
    "## 量子コンピュータを用いた量子多体系の計算\n",
    "\n",
    ":::{margin}\n",
    "何回でも書きますが、筆者は網羅的にレビューなどできません！\n",
    ":::\n",
    "代表的な量子系に対するアルゴリズムについて説明する。"
   ]
  },
  {
   "cell_type": "markdown",
   "metadata": {},
   "source": [
    "### VQE (Variational Quantum Eigensolver)\n"
   ]
  },
  {
   "cell_type": "markdown",
   "metadata": {},
   "source": [
    "### Hadamard test/Quantum phase estimation (QPE)\n",
    "\n",
    "#### Hadamard test\n",
    "\n",
    "#### Quantum phase estimation (QPE)"
   ]
  },
  {
   "cell_type": "markdown",
   "metadata": {},
   "source": [
    "## Python framework for Quantum Computing\n",
    "\n",
    ":::{margin}\n",
    "正確に言うと、pytketを使ったことはなかったが、QuantinuumのH-seriesを使ってみたいと思っていたところ、\n",
    "この夏学の講師依頼があり、講義資料を作るのを機にpytketを使ってみることにした。\n",
    ":::\n",
    "Pythonで量子計算を行うためのフレームワークはいくつかあるが、ここでは筆者が使用経験のあるものを紹介する。\n",
    "特徴などの説明については、あくまで筆者の非常に限られた経験に基づくもので誤りである可能性は大いにある。\n",
    "その際は、そっと教えていただけると幸いである。\n",
    "フレームワーク間を行き来する機能なども其々のフレームワークに用意されていたりもするが、\n",
    "後述のように、ソフトウェア面においても発展が急速すぎるため、必ずしもうまく行き来できるとは限らない。\n",
    "\n",
    "したがって、(とくに実機利用を行う場合には)自身の解きたい問題や使いたいハードウェアにあわせて、フレームワークを選択することが重要である。\n",
    "\n",
    "- Qiskit (IBM)\n",
    "  言わずとしれた、IBMが開発している量子計算用のPythonフレームワーク。  \n",
    "  2024年2月のメジャーバージョンアップデート以降、APIやDocumentが大幅に破壊的な変更を受け、古いコードが動かなくなることがある。\n",
    "  筆者はやや脱落気味である。\n",
    "  [Qiskit1.0チートシート](https://qiita.com/notori48/items/da4e2c298c3cd804867c)など、有志による情報も参考になる。\n",
    "\n",
    "- Pennylane (Xanadu)\n",
    "    量子計算と機械学習を統合したフレームワーク。  \n",
    "    OpenFermionとの連携が強く、量子化学計算などで用いられる実装が利用できる他、量子機械学習のアルゴリズムも実装されている(筆者は使ったことがない)。\n",
    "    また、いろいろなタッチの回路を描くことができる点も気に入っている。\n",
    "\n",
    "- pytket (Quantinuum)\n",
    "    Quantinuum社が開発している量子計算用のPython モジュール。筆者は絶賛勉強中。"
   ]
  }
 ],
 "metadata": {
  "colab": {
   "collapsed_sections": [],
   "name": "Python_chapter_Bayesian_linear_regression.ipynb",
   "provenance": []
  },
  "kernelspec": {
   "display_name": "Julia 1.10.0",
   "language": "julia",
   "name": "julia-1.10"
  },
  "language_info": {
   "file_extension": ".jl",
   "mimetype": "application/julia",
   "name": "julia",
   "version": "1.10.0"
  }
 },
 "nbformat": 4,
 "nbformat_minor": 0
}
