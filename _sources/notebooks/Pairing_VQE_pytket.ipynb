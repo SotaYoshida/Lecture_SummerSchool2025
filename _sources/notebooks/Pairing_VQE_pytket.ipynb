{
 "cells": [
  {
   "cell_type": "markdown",
   "metadata": {
    "id": "a_bPmqzx1Zhi"
   },
   "source": [
    "# Pairing Hamiltonianの量子計算 (pytket)\n",
    "\n"
   ]
  },
  {
   "cell_type": "markdown",
   "metadata": {},
   "source": [
    "pytketを使った量子計算について述べる\n",
    "\n",
    "Quantinuumによる[pytket user guide](https://docs.quantinuum.com/tket/user-guide/index.html)が役に立つ。\n",
    "\n",
    "大きな注意点としては、大変ややこしいことに、回転ゲートの角度パラメータが$\\pi/2$単位で与えられることである。"
   ]
  },
  {
   "cell_type": "code",
   "execution_count": 171,
   "metadata": {},
   "outputs": [],
   "source": [
    "#必要に応じて...\n",
    "#!pip install pytket\n",
    "#!pip install pytket-qiskit\n",
    "#!pip install pytket-projectq\n",
    "#!pip install openfermion\n",
    "#!pip install seaborn\n",
    "\n",
    "import numpy as np\n",
    "import itertools\n",
    "from itertools import combinations\n",
    "import seaborn as sns\n",
    "cols = sns.color_palette(\"deep\")\n",
    "import matplotlib.pyplot as plt\n",
    "import pandas as pd\n",
    "from openfermion import QubitOperator\n",
    "from pytket.circuit import Circuit, Qubit, Bit\n",
    "from pytket.circuit.display import render_circuit_jupyter as draw\n",
    "from pytket.utils import gate_counts\n",
    "from pytket.utils import probs_from_state\n",
    "from pytket.utils.expectations import get_operator_expectation_value\n",
    "from pytket.extensions.qiskit import AerStateBackend\n",
    "from pytket.extensions.qiskit import AerBackend\n"
   ]
  },
  {
   "cell_type": "markdown",
   "metadata": {},
   "source": [
    "Hamiltonianなどを再び書き写しておいて..."
   ]
  },
  {
   "cell_type": "code",
   "execution_count": 172,
   "metadata": {
    "tags": [
     "hide-input"
    ]
   },
   "outputs": [
    {
     "name": "stdout",
     "output_type": "stream",
     "text": [
      "basis: [(0, 1), (0, 2), (0, 3), (1, 2), (1, 3), (2, 3)]\n",
      "['|1100>', '|1010>', '|1001>', '|0110>', '|0101>', '|0011>']\n",
      "eps:  [0.0, 2.0, 4.0, 6.0]\n",
      "Hmat:  [[ 1.34 -0.33 -0.33 -0.33 -0.33  0.  ]\n",
      " [-0.33  3.34 -0.33 -0.33  0.   -0.33]\n",
      " [-0.33 -0.33  5.34  0.   -0.33 -0.33]\n",
      " [-0.33 -0.33  0.    5.34 -0.33 -0.33]\n",
      " [-0.33  0.   -0.33 -0.33  7.34 -0.33]\n",
      " [ 0.   -0.33 -0.33 -0.33 -0.33  9.34]]\n",
      "evals:  [1.18985184 3.29649666 5.34       5.34       7.42853393 9.44511758]\n",
      "Egs_exact:  1.1898518351360725  E_HF 1.3399999999999999\n",
      "gs evec [0.97121327 0.18194077 0.09817385 0.09817385 0.06360816 0.01789242]\n",
      "gs prob [9.43255208e-01 3.31024447e-02 9.63810492e-03 9.63810492e-03\n",
      " 4.04599822e-03 3.20138762e-04]\n"
     ]
    }
   ],
   "source": [
    "class PairingHamiltonian:\n",
    "    def __init__(self, Norb, Nocc, gval, delta_eps=1.0):\n",
    "        self.Norb = Norb\n",
    "        self.Nocc = Nocc\n",
    "        self.delta_eps = delta_eps\n",
    "        self.gval = gval\n",
    "        self.basis = self.make_basis()\n",
    "        self.epsilon = self.eval_epsilon()\n",
    "        self.Hmat = self.eval_Hmat()\n",
    "\n",
    "    def make_basis(self):\n",
    "        self.basis = []\n",
    "        for occ in combinations(range(self.Norb), self.Nocc):\n",
    "            self.basis.append(occ)\n",
    "\n",
    "        return self.basis\n",
    "    \n",
    "    def eval_epsilon(self):\n",
    "        self.epsilon = [ 2 * i * self.delta_eps for i in range(self.Norb) ]\n",
    "        return self.epsilon\n",
    "    \n",
    "    def eval_Hmat(self):\n",
    "        dim = len(self.basis)\n",
    "        self.Hmat = np.zeros((dim, dim))\n",
    "        for bra_idx, bra in enumerate(self.basis):\n",
    "            for ket_idx, ket in enumerate(self.basis):\n",
    "                # Hamming distance\n",
    "                diff = [ i for i in bra if i not in ket ]\n",
    "                same = [ i for i in bra if i in ket ]\n",
    "                # for SPE term\n",
    "                if bra_idx == ket_idx:\n",
    "                    self.Hmat[bra_idx, ket_idx] += np.sum( [self.epsilon[i] for i in same])\n",
    "                    self.Hmat[bra_idx, ket_idx] += - self.gval * len(same) \n",
    "                # for pairing term\n",
    "                if len(diff) == 1:\n",
    "                    self.Hmat[bra_idx, ket_idx] = - self.gval\n",
    "\n",
    "        return self.Hmat\n",
    "\n",
    "def tuple_to_bitstring(tup, Norb, rev=True):\n",
    "    bitint = 0\n",
    "    for i in tup:\n",
    "        bitint += 2**i\n",
    "    if rev:\n",
    "        bitstring = \"|\"+format(bitint, f'0{Norb}b')[::-1]+\">\"\n",
    "    else:\n",
    "        bitstring = \"|\"+format(bitint, f'0{Norb}b')+\">\"        \n",
    "    return bitstring\n",
    "\n",
    "Norb = 4\n",
    "Nocc = 2\n",
    "gval = 0.33  \n",
    "\n",
    "Hamil = PairingHamiltonian(Norb, Nocc, gval)\n",
    "evals, evecs = np.linalg.eigh(Hamil.Hmat)\n",
    "evals = np.linalg.eigvalsh(Hamil.Hmat)\n",
    "Egs_exact = evals[0]\n",
    "E_HF = Hamil.Hmat[0,0]\n",
    "\n",
    "print(\"basis:\", Hamil.basis)\n",
    "print([tuple_to_bitstring(tup, Norb) for tup in Hamil.basis])\n",
    "print(\"eps: \", Hamil.epsilon)\n",
    "print(\"Hmat: \", Hamil.Hmat)\n",
    "print(\"evals: \", evals)\n",
    "print(\"Egs_exact: \", Egs_exact, \" E_HF\", E_HF)\n",
    "print(\"gs evec\", evecs[:,0])\n",
    "print(\"gs prob\", evecs[:,0]**2)\n",
    "\n",
    "params_exact = 0.5* np.array(\n",
    "    [-0.48104276, -1.03976498, -0.98963981, -1.18481738, -0.54832984]\n",
    ") \n",
    "# pytketの回転ゲートはpi/2単位で指定するので、pi/2で割っておく\n",
    "params_exact = params_exact #"
   ]
  },
  {
   "cell_type": "markdown",
   "metadata": {},
   "source": [
    "## pytketでの回路作成"
   ]
  },
  {
   "cell_type": "markdown",
   "metadata": {},
   "source": [
    "### Givens rotation\n",
    "\n",
    "どうやらpytketにはGivens rotationの実装がなさそうなので自作しておく"
   ]
  },
  {
   "cell_type": "code",
   "execution_count": 173,
   "metadata": {},
   "outputs": [],
   "source": [
    "def cG1(circ, c_qubit, i, j, theta):\n",
    "    theta_4 = theta / 4 / (np.pi/2)\n",
    "    circ.CX(i,j)\n",
    "    circ.Ry(theta_4, i)\n",
    "    circ.CX(j,i)\n",
    "    circ.Ry(-theta_4, i)\n",
    "    circ.CX(c_qubit, i)\n",
    "    circ.Ry(theta_4, i)\n",
    "    circ.CX(j,i)\n",
    "    circ.Ry(-theta_4, i)\n",
    "    circ.CX(c_qubit, i)\n",
    "    circ.CX(i,j)\n",
    "\n",
    "def G(circ, i, j, theta):\n",
    "    theta_2 = theta / 2 / (np.pi/2)\n",
    "    circ.CX(i,j)\n",
    "    circ.Ry(theta_2, i)\n",
    "    circ.CX(j,i)\n",
    "    circ.Ry(-theta_2, i)\n",
    "    circ.CX(j,i)\n",
    "    circ.CX(i,j)  "
   ]
  },
  {
   "cell_type": "markdown",
   "metadata": {},
   "source": [
    "$\\pi/4$回転が正しいかチェック。角度が$\\pi/2$単位である仕様に注意しつつ..."
   ]
  },
  {
   "cell_type": "code",
   "execution_count": 174,
   "metadata": {},
   "outputs": [
    {
     "data": {
      "text/html": [
       "\n",
       "\n",
       "\n",
       "\n",
       "\n",
       "\n",
       "<div style=\"resize: vertical; overflow: auto; height: 400px; display: block\">\n",
       "    <iframe srcdoc=\"\n",
       "&lt;!DOCTYPE html&gt;\n",
       "&lt;html lang=&#34;en&#34;&gt;\n",
       "&lt;head&gt;\n",
       "    &lt;meta charset=&#34;UTF-8&#34;&gt;\n",
       "    &lt;!-- Download Vue 3--&gt;\n",
       "&lt;script type=&#34;application/javascript&#34; src=&#34;https://cdn.jsdelivr.net/npm/vue@3&#34;&gt;&lt;/script&gt;\n",
       "&lt;!-- Download Circuit Renderer with styles --&gt;\n",
       "&lt;script type=&#34;application/javascript&#34; src=&#34;https://unpkg.com/pytket-circuit-renderer@0.10/dist/pytket-circuit-renderer.umd.js&#34;&gt;&lt;/script&gt;\n",
       "&lt;link rel=&#34;stylesheet&#34; href=&#34;https://unpkg.com/pytket-circuit-renderer@0.10/dist/pytket-circuit-renderer.css&#34;&gt;\n",
       "&lt;/head&gt;\n",
       "&lt;body&gt;\n",
       "\n",
       "\n",
       "    &lt;div id=&#34;circuit-display-vue-container-a8085d12-6d3c-4592-869c-54d68d48c3e7&#34; class=&#34;pytket-circuit-display-container&#34;&gt;\n",
       "        &lt;div style=&#34;display: none&#34;&gt;\n",
       "            &lt;div id=&#34;circuit-json-to-display&#34;&gt;{&#34;bits&#34;: [], &#34;commands&#34;: [{&#34;args&#34;: [[&#34;q&#34;, [0]]], &#34;op&#34;: {&#34;type&#34;: &#34;X&#34;}}, {&#34;args&#34;: [[&#34;q&#34;, [0]], [&#34;q&#34;, [1]]], &#34;op&#34;: {&#34;type&#34;: &#34;CX&#34;}}, {&#34;args&#34;: [[&#34;q&#34;, [0]]], &#34;op&#34;: {&#34;params&#34;: [&#34;0.159154943091895&#34;], &#34;type&#34;: &#34;Ry&#34;}}, {&#34;args&#34;: [[&#34;q&#34;, [1]], [&#34;q&#34;, [0]]], &#34;op&#34;: {&#34;type&#34;: &#34;CX&#34;}}, {&#34;args&#34;: [[&#34;q&#34;, [0]]], &#34;op&#34;: {&#34;params&#34;: [&#34;-0.159154943091895&#34;], &#34;type&#34;: &#34;Ry&#34;}}, {&#34;args&#34;: [[&#34;q&#34;, [1]], [&#34;q&#34;, [0]]], &#34;op&#34;: {&#34;type&#34;: &#34;CX&#34;}}, {&#34;args&#34;: [[&#34;q&#34;, [0]], [&#34;q&#34;, [1]]], &#34;op&#34;: {&#34;type&#34;: &#34;CX&#34;}}], &#34;created_qubits&#34;: [], &#34;discarded_qubits&#34;: [], &#34;implicit_permutation&#34;: [[[&#34;q&#34;, [0]], [&#34;q&#34;, [0]]], [[&#34;q&#34;, [1]], [&#34;q&#34;, [1]]]], &#34;phase&#34;: &#34;0.0&#34;, &#34;qubits&#34;: [[&#34;q&#34;, [0]], [&#34;q&#34;, [1]]]}&lt;/div&gt;\n",
       "        &lt;/div&gt;\n",
       "        &lt;circuit-display-container\n",
       "                :circuit-element-str=&#34;&#39;#circuit-json-to-display&#39;&#34;\n",
       "                :init-render-options=&#34;initRenderOptions&#34;\n",
       "                view-format=&#34;None&#34;\n",
       "        &gt;&lt;/circuit-display-container&gt;\n",
       "    &lt;/div&gt;\n",
       "    &lt;script type=&#34;application/javascript&#34;&gt;\n",
       "      const circuitRendererUid = &#34;a8085d12-6d3c-4592-869c-54d68d48c3e7&#34;;\n",
       "      const displayOptions = JSON.parse(&#39;{}&#39;);\n",
       "\n",
       "      // Script to initialise the circuit renderer app\n",
       "\n",
       "const { createApp } = Vue;\n",
       "const circuitDisplayContainer = window[&#34;pytket-circuit-renderer&#34;].default;\n",
       "// Init variables to be shared between circuit display instances\n",
       "if (typeof window.pytketCircuitDisplays === &#34;undefined&#34;) {\n",
       "    window.pytketCircuitDisplays = {};\n",
       "}\n",
       "// Create the root Vue component\n",
       "const app = createApp({\n",
       "    delimiters: [&#39;[[#&#39;, &#39;#]]&#39;],\n",
       "    components: { circuitDisplayContainer },\n",
       "    data () {\n",
       "      return {\n",
       "        initRenderOptions: displayOptions,\n",
       "      }\n",
       "    }\n",
       "})\n",
       "app.config.unwrapInjectedRef = true;\n",
       "app.mount(&#34;#circuit-display-vue-container-&#34;+circuitRendererUid);\n",
       "window.pytketCircuitDisplays[circuitRendererUid] = app;\n",
       "    &lt;/script&gt;\n",
       "\n",
       "\n",
       "\n",
       "&lt;/body&gt;\n",
       "&lt;/html&gt;\n",
       "\"\n",
       "            width=\"100%\" height=\"100%\"\n",
       "            style=\"border: none; outline: none; overflow: auto\"></iframe>\n",
       "</div>\n",
       "\n"
      ],
      "text/plain": [
       "<IPython.core.display.HTML object>"
      ]
     },
     "metadata": {},
     "output_type": "display_data"
    },
    {
     "data": {
      "text/plain": [
       "{(0, 1): 0.22984884706592998, (1, 0): 0.7701511529340701}"
      ]
     },
     "execution_count": 174,
     "metadata": {},
     "output_type": "execute_result"
    }
   ],
   "source": [
    "circ_G = Circuit(2)\n",
    "circ_G.X(0)\n",
    "G(circ_G, 0, 1, np.pi/4 / (np.pi/2))\n",
    "draw(circ_G)\n",
    "\n",
    "backend = AerStateBackend() \n",
    "transpiled = backend.get_compiled_circuit(circ_G, optimisation_level=2)\n",
    "job = backend.process_circuit(transpiled) \n",
    "result = backend.get_result(job)\n",
    "statevector_ftqc = result.get_state()\n",
    "# 1e-10 未満の確率は表示しない  \n",
    "probs_from_state(statevector_ftqc, min_p=1e-10) \n"
   ]
  },
  {
   "cell_type": "markdown",
   "metadata": {},
   "source": [
    "できた。\n",
    "\n",
    "### Full-CI ansatz\n",
    "\n",
    "では次に、軌道が4つ、占有数が2に対応する回路を考え、$g=0.33$の結果を再現する角度パラメータを指定してやると..."
   ]
  },
  {
   "cell_type": "code",
   "execution_count": 175,
   "metadata": {},
   "outputs": [
    {
     "data": {
      "text/html": [
       "\n",
       "\n",
       "\n",
       "\n",
       "\n",
       "\n",
       "<div style=\"resize: vertical; overflow: auto; height: 400px; display: block\">\n",
       "    <iframe srcdoc=\"\n",
       "&lt;!DOCTYPE html&gt;\n",
       "&lt;html lang=&#34;en&#34;&gt;\n",
       "&lt;head&gt;\n",
       "    &lt;meta charset=&#34;UTF-8&#34;&gt;\n",
       "    &lt;!-- Download Vue 3--&gt;\n",
       "&lt;script type=&#34;application/javascript&#34; src=&#34;https://cdn.jsdelivr.net/npm/vue@3&#34;&gt;&lt;/script&gt;\n",
       "&lt;!-- Download Circuit Renderer with styles --&gt;\n",
       "&lt;script type=&#34;application/javascript&#34; src=&#34;https://unpkg.com/pytket-circuit-renderer@0.10/dist/pytket-circuit-renderer.umd.js&#34;&gt;&lt;/script&gt;\n",
       "&lt;link rel=&#34;stylesheet&#34; href=&#34;https://unpkg.com/pytket-circuit-renderer@0.10/dist/pytket-circuit-renderer.css&#34;&gt;\n",
       "&lt;/head&gt;\n",
       "&lt;body&gt;\n",
       "\n",
       "\n",
       "    &lt;div id=&#34;circuit-display-vue-container-a099742d-ca18-4cad-b8d2-54bba26b6d8c&#34; class=&#34;pytket-circuit-display-container&#34;&gt;\n",
       "        &lt;div style=&#34;display: none&#34;&gt;\n",
       "            &lt;div id=&#34;circuit-json-to-display&#34;&gt;{&#34;bits&#34;: [], &#34;commands&#34;: [{&#34;args&#34;: [[&#34;q&#34;, [0]]], &#34;op&#34;: {&#34;type&#34;: &#34;X&#34;}}, {&#34;args&#34;: [[&#34;q&#34;, [1]]], &#34;op&#34;: {&#34;type&#34;: &#34;X&#34;}}, {&#34;args&#34;: [[&#34;q&#34;, [1]], [&#34;q&#34;, [2]]], &#34;op&#34;: {&#34;type&#34;: &#34;CX&#34;}}, {&#34;args&#34;: [[&#34;q&#34;, [1]]], &#34;op&#34;: {&#34;params&#34;: [&#34;-0.0765603330925683&#34;], &#34;type&#34;: &#34;Ry&#34;}}, {&#34;args&#34;: [[&#34;q&#34;, [2]], [&#34;q&#34;, [1]]], &#34;op&#34;: {&#34;type&#34;: &#34;CX&#34;}}, {&#34;args&#34;: [[&#34;q&#34;, [1]]], &#34;op&#34;: {&#34;params&#34;: [&#34;0.0765603330925683&#34;], &#34;type&#34;: &#34;Ry&#34;}}, {&#34;args&#34;: [[&#34;q&#34;, [2]], [&#34;q&#34;, [1]]], &#34;op&#34;: {&#34;type&#34;: &#34;CX&#34;}}, {&#34;args&#34;: [[&#34;q&#34;, [1]], [&#34;q&#34;, [2]]], &#34;op&#34;: {&#34;type&#34;: &#34;CX&#34;}}, {&#34;args&#34;: [[&#34;q&#34;, [0]], [&#34;q&#34;, [1]]], &#34;op&#34;: {&#34;type&#34;: &#34;CX&#34;}}, {&#34;args&#34;: [[&#34;q&#34;, [2]], [&#34;q&#34;, [3]]], &#34;op&#34;: {&#34;type&#34;: &#34;CX&#34;}}, {&#34;args&#34;: [[&#34;q&#34;, [0]]], &#34;op&#34;: {&#34;params&#34;: [&#34;-0.0787530338210121&#34;], &#34;type&#34;: &#34;Ry&#34;}}, {&#34;args&#34;: [[&#34;q&#34;, [2]]], &#34;op&#34;: {&#34;params&#34;: [&#34;-0.165483736220846&#34;], &#34;type&#34;: &#34;Ry&#34;}}, {&#34;args&#34;: [[&#34;q&#34;, [1]], [&#34;q&#34;, [0]]], &#34;op&#34;: {&#34;type&#34;: &#34;CX&#34;}}, {&#34;args&#34;: [[&#34;q&#34;, [3]], [&#34;q&#34;, [2]]], &#34;op&#34;: {&#34;type&#34;: &#34;CX&#34;}}, {&#34;args&#34;: [[&#34;q&#34;, [0]]], &#34;op&#34;: {&#34;params&#34;: [&#34;0.0787530338210121&#34;], &#34;type&#34;: &#34;Ry&#34;}}, {&#34;args&#34;: [[&#34;q&#34;, [2]]], &#34;op&#34;: {&#34;params&#34;: [&#34;0.165483736220846&#34;], &#34;type&#34;: &#34;Ry&#34;}}, {&#34;args&#34;: [[&#34;q&#34;, [3]], [&#34;q&#34;, [2]]], &#34;op&#34;: {&#34;type&#34;: &#34;CX&#34;}}, {&#34;args&#34;: [[&#34;q&#34;, [2]], [&#34;q&#34;, [3]]], &#34;op&#34;: {&#34;type&#34;: &#34;CX&#34;}}, {&#34;args&#34;: [[&#34;q&#34;, [2]], [&#34;q&#34;, [0]]], &#34;op&#34;: {&#34;type&#34;: &#34;CX&#34;}}, {&#34;args&#34;: [[&#34;q&#34;, [0]]], &#34;op&#34;: {&#34;params&#34;: [&#34;-0.0787530338210121&#34;], &#34;type&#34;: &#34;Ry&#34;}}, {&#34;args&#34;: [[&#34;q&#34;, [1]], [&#34;q&#34;, [0]]], &#34;op&#34;: {&#34;type&#34;: &#34;CX&#34;}}, {&#34;args&#34;: [[&#34;q&#34;, [0]]], &#34;op&#34;: {&#34;params&#34;: [&#34;0.0787530338210121&#34;], &#34;type&#34;: &#34;Ry&#34;}}, {&#34;args&#34;: [[&#34;q&#34;, [2]], [&#34;q&#34;, [0]]], &#34;op&#34;: {&#34;type&#34;: &#34;CX&#34;}}, {&#34;args&#34;: [[&#34;q&#34;, [0]], [&#34;q&#34;, [1]]], &#34;op&#34;: {&#34;type&#34;: &#34;CX&#34;}}, {&#34;args&#34;: [[&#34;q&#34;, [0]], [&#34;q&#34;, [1]]], &#34;op&#34;: {&#34;type&#34;: &#34;CX&#34;}}, {&#34;args&#34;: [[&#34;q&#34;, [0]]], &#34;op&#34;: {&#34;params&#34;: [&#34;-0.0942847713440943&#34;], &#34;type&#34;: &#34;Ry&#34;}}, {&#34;args&#34;: [[&#34;q&#34;, [1]], [&#34;q&#34;, [0]]], &#34;op&#34;: {&#34;type&#34;: &#34;CX&#34;}}, {&#34;args&#34;: [[&#34;q&#34;, [0]]], &#34;op&#34;: {&#34;params&#34;: [&#34;0.0942847713440943&#34;], &#34;type&#34;: &#34;Ry&#34;}}, {&#34;args&#34;: [[&#34;q&#34;, [3]], [&#34;q&#34;, [0]]], &#34;op&#34;: {&#34;type&#34;: &#34;CX&#34;}}, {&#34;args&#34;: [[&#34;q&#34;, [0]]], &#34;op&#34;: {&#34;params&#34;: [&#34;-0.0942847713440943&#34;], &#34;type&#34;: &#34;Ry&#34;}}, {&#34;args&#34;: [[&#34;q&#34;, [1]], [&#34;q&#34;, [0]]], &#34;op&#34;: {&#34;type&#34;: &#34;CX&#34;}}, {&#34;args&#34;: [[&#34;q&#34;, [0]]], &#34;op&#34;: {&#34;params&#34;: [&#34;0.0942847713440943&#34;], &#34;type&#34;: &#34;Ry&#34;}}, {&#34;args&#34;: [[&#34;q&#34;, [3]], [&#34;q&#34;, [0]]], &#34;op&#34;: {&#34;type&#34;: &#34;CX&#34;}}, {&#34;args&#34;: [[&#34;q&#34;, [0]], [&#34;q&#34;, [1]]], &#34;op&#34;: {&#34;type&#34;: &#34;CX&#34;}}, {&#34;args&#34;: [[&#34;q&#34;, [1]], [&#34;q&#34;, [2]]], &#34;op&#34;: {&#34;type&#34;: &#34;CX&#34;}}, {&#34;args&#34;: [[&#34;q&#34;, [1]]], &#34;op&#34;: {&#34;params&#34;: [&#34;-0.043634702240394&#34;], &#34;type&#34;: &#34;Ry&#34;}}, {&#34;args&#34;: [[&#34;q&#34;, [2]], [&#34;q&#34;, [1]]], &#34;op&#34;: {&#34;type&#34;: &#34;CX&#34;}}, {&#34;args&#34;: [[&#34;q&#34;, [1]]], &#34;op&#34;: {&#34;params&#34;: [&#34;0.043634702240394&#34;], &#34;type&#34;: &#34;Ry&#34;}}, {&#34;args&#34;: [[&#34;q&#34;, [3]], [&#34;q&#34;, [1]]], &#34;op&#34;: {&#34;type&#34;: &#34;CX&#34;}}, {&#34;args&#34;: [[&#34;q&#34;, [1]]], &#34;op&#34;: {&#34;params&#34;: [&#34;-0.043634702240394&#34;], &#34;type&#34;: &#34;Ry&#34;}}, {&#34;args&#34;: [[&#34;q&#34;, [2]], [&#34;q&#34;, [1]]], &#34;op&#34;: {&#34;type&#34;: &#34;CX&#34;}}, {&#34;args&#34;: [[&#34;q&#34;, [1]]], &#34;op&#34;: {&#34;params&#34;: [&#34;0.043634702240394&#34;], &#34;type&#34;: &#34;Ry&#34;}}, {&#34;args&#34;: [[&#34;q&#34;, [3]], [&#34;q&#34;, [1]]], &#34;op&#34;: {&#34;type&#34;: &#34;CX&#34;}}, {&#34;args&#34;: [[&#34;q&#34;, [1]], [&#34;q&#34;, [2]]], &#34;op&#34;: {&#34;type&#34;: &#34;CX&#34;}}], &#34;created_qubits&#34;: [], &#34;discarded_qubits&#34;: [], &#34;implicit_permutation&#34;: [[[&#34;q&#34;, [0]], [&#34;q&#34;, [0]]], [[&#34;q&#34;, [1]], [&#34;q&#34;, [1]]], [[&#34;q&#34;, [2]], [&#34;q&#34;, [2]]], [[&#34;q&#34;, [3]], [&#34;q&#34;, [3]]]], &#34;phase&#34;: &#34;0.0&#34;, &#34;qubits&#34;: [[&#34;q&#34;, [0]], [&#34;q&#34;, [1]], [&#34;q&#34;, [2]], [&#34;q&#34;, [3]]]}&lt;/div&gt;\n",
       "        &lt;/div&gt;\n",
       "        &lt;circuit-display-container\n",
       "                :circuit-element-str=&#34;&#39;#circuit-json-to-display&#39;&#34;\n",
       "                :init-render-options=&#34;initRenderOptions&#34;\n",
       "                view-format=&#34;None&#34;\n",
       "        &gt;&lt;/circuit-display-container&gt;\n",
       "    &lt;/div&gt;\n",
       "    &lt;script type=&#34;application/javascript&#34;&gt;\n",
       "      const circuitRendererUid = &#34;a099742d-ca18-4cad-b8d2-54bba26b6d8c&#34;;\n",
       "      const displayOptions = JSON.parse(&#39;{}&#39;);\n",
       "\n",
       "      // Script to initialise the circuit renderer app\n",
       "\n",
       "const { createApp } = Vue;\n",
       "const circuitDisplayContainer = window[&#34;pytket-circuit-renderer&#34;].default;\n",
       "// Init variables to be shared between circuit display instances\n",
       "if (typeof window.pytketCircuitDisplays === &#34;undefined&#34;) {\n",
       "    window.pytketCircuitDisplays = {};\n",
       "}\n",
       "// Create the root Vue component\n",
       "const app = createApp({\n",
       "    delimiters: [&#39;[[#&#39;, &#39;#]]&#39;],\n",
       "    components: { circuitDisplayContainer },\n",
       "    data () {\n",
       "      return {\n",
       "        initRenderOptions: displayOptions,\n",
       "      }\n",
       "    }\n",
       "})\n",
       "app.config.unwrapInjectedRef = true;\n",
       "app.mount(&#34;#circuit-display-vue-container-&#34;+circuitRendererUid);\n",
       "window.pytketCircuitDisplays[circuitRendererUid] = app;\n",
       "    &lt;/script&gt;\n",
       "\n",
       "\n",
       "\n",
       "&lt;/body&gt;\n",
       "&lt;/html&gt;\n",
       "\"\n",
       "            width=\"100%\" height=\"100%\"\n",
       "            style=\"border: none; outline: none; overflow: auto\"></iframe>\n",
       "</div>\n",
       "\n"
      ],
      "text/plain": [
       "<IPython.core.display.HTML object>"
      ]
     },
     "metadata": {},
     "output_type": "display_data"
    },
    {
     "data": {
      "text/plain": [
       "Counter({<OpType.CX: 45>: 26, <OpType.Ry: 35>: 16, <OpType.X: 23>: 2})"
      ]
     },
     "execution_count": 175,
     "metadata": {},
     "output_type": "execute_result"
    }
   ],
   "source": [
    "# Ansatz for Norb=4, Nocc=2\n",
    "my_circ_1 = Circuit(Norb)\n",
    "\n",
    "# HF\n",
    "my_circ_1.X(0)\n",
    "my_circ_1.X(1)\n",
    "# HF + pair excitations expressed by G and cG1\n",
    "G(my_circ_1, 1, 2, params_exact[0])\n",
    "G(my_circ_1, 2, 3, params_exact[1])\n",
    "cG1(my_circ_1, 2, 0, 1, params_exact[2])\n",
    "cG1(my_circ_1, 3, 0, 1, params_exact[3])\n",
    "cG1(my_circ_1, 3, 1, 2, params_exact[4])\n",
    "\n",
    "draw(my_circ_1)\n",
    "gate_counts(my_circ_1)"
   ]
  },
  {
   "cell_type": "markdown",
   "metadata": {},
   "source": [
    "回路を保存することもできる:\n",
    "\n",
    "```python\n",
    "import pickle\n",
    "with open(\"circuit_pytket.pkl\",\"wb\") as f:\n",
    "    pickle.dump(my_circ_1,f)\n",
    "```"
   ]
  },
  {
   "cell_type": "markdown",
   "metadata": {},
   "source": [
    "では、状態作成したものを測定し確率を計算してみよう。statevectorを使うことにする。"
   ]
  },
  {
   "cell_type": "code",
   "execution_count": 176,
   "metadata": {},
   "outputs": [
    {
     "data": {
      "text/plain": [
       "array([0.01788929-8.66020112e-17j, 0.06360699-2.88837067e-16j,\n",
       "       0.09817351-4.82563346e-16j, 0.09817219-3.94005123e-16j,\n",
       "       0.18193913-7.09880803e-16j, 0.97121391-5.57798065e-15j])"
      ]
     },
     "execution_count": 176,
     "metadata": {},
     "output_type": "execute_result"
    }
   ],
   "source": [
    "circ = my_circ_1.copy()\n",
    "\n",
    "# initialize backend with default settings\n",
    "backend = AerStateBackend() \n",
    "\n",
    "# transpile and optimize for backend at level = 2 \n",
    "# optimisation... British spelling なぜならQuantinuumはCambridge Quantumから来ているから。\n",
    "circ_compiled = backend.get_compiled_circuit(circ, optimisation_level=2)  \n",
    "gate_counts(circ_compiled)\n",
    "\n",
    "job = backend.process_circuit(circ_compiled) \n",
    "result = backend.get_result(job)\n",
    "statevector = result.get_state()\n",
    "statevector[ np.abs(statevector) > 1e-10 ] "
   ]
  },
  {
   "cell_type": "code",
   "execution_count": 177,
   "metadata": {},
   "outputs": [
    {
     "data": {
      "text/plain": [
       "{(0, 0, 1, 1): 0.00032002678223212646,\n",
       " (0, 1, 0, 1): 0.004045849260479198,\n",
       " (0, 1, 1, 0): 0.009638037703111972,\n",
       " (1, 0, 0, 1): 0.00963777971356642,\n",
       " (1, 0, 1, 0): 0.03310184865198989,\n",
       " (1, 1, 0, 0): 0.9432564578886204}"
      ]
     },
     "execution_count": 177,
     "metadata": {},
     "output_type": "execute_result"
    }
   ],
   "source": [
    "probs_from_state(statevector, min_p=1e-10) # 1e-10 未満の確率は表示しない  "
   ]
  },
  {
   "cell_type": "markdown",
   "metadata": {},
   "source": [
    "厳密解における各状態の確率を再現できた。\n"
   ]
  },
  {
   "cell_type": "markdown",
   "metadata": {},
   "source": [
    "## pytketでの演算子表現\n",
    "\n",
    "pytketでもHamiltonianの表現方法は幾つかある。ひとつは`OpenFermion`の`QubitOperator`を用いる方法で..."
   ]
  },
  {
   "cell_type": "code",
   "execution_count": 178,
   "metadata": {},
   "outputs": [
    {
     "name": "stdout",
     "output_type": "stream",
     "text": [
      "H_qubit:  5.34 [] +\n",
      "-0.165 [X0 X1] +\n",
      "-0.165 [X0 X2] +\n",
      "-0.165 [X0 X3] +\n",
      "-0.165 [Y0 Y1] +\n",
      "-0.165 [Y0 Y2] +\n",
      "-0.165 [Y0 Y3] +\n",
      "0.165 [Z0] +\n",
      "-0.165 [X1 X2] +\n",
      "-0.165 [X1 X3] +\n",
      "-0.165 [Y1 Y2] +\n",
      "-0.165 [Y1 Y3] +\n",
      "-0.835 [Z1] +\n",
      "-0.165 [X2 X3] +\n",
      "-0.165 [Y2 Y3] +\n",
      "-1.835 [Z2] +\n",
      "-2.835 [Z3]\n"
     ]
    }
   ],
   "source": [
    "# Qubit Hamiltonian\n",
    "SPEs = Hamil.epsilon\n",
    "obs = [ ]\n",
    "coeffs = [ ]\n",
    "H_qubit = QubitOperator()\n",
    "\n",
    "## 1-Zp term\n",
    "for i in range(Hamil.Norb):\n",
    "    H_qubit += (  0.5 * (SPEs[i] - Hamil.gval) * (QubitOperator('') - QubitOperator('Z'+str(i)) ) ) \n",
    "\n",
    "## XX+YY term proportional to g (pairing strength)\n",
    "for i in range(Hamil.Norb):\n",
    "    for j in range(i+1, Hamil.Norb):\n",
    "        if i == j:\n",
    "            continue\n",
    "        factor = - Hamil.gval / 2 \n",
    "        XX = QubitOperator('X'+str(i)+' X'+str(j), factor)\n",
    "        YY = QubitOperator('Y'+str(i)+' Y'+str(j), factor)\n",
    "        H_qubit += XX \n",
    "        H_qubit += YY\n",
    "\n",
    "print(\"H_qubit: \", H_qubit)"
   ]
  },
  {
   "cell_type": "markdown",
   "metadata": {},
   "source": [
    "Documentの[Expectation values](https://docs.quantinuum.com/tket/user-guide/examples/algorithms_and_protocols/expectation_value_example.html)を参考にしつつ、pytketの`QubitPauliOperator`に変換してみよう。"
   ]
  },
  {
   "cell_type": "code",
   "execution_count": 179,
   "metadata": {},
   "outputs": [
    {
     "data": {
      "text/plain": [
       "{(): 5.34000000000000, (Zq[0]): 0.165000000000000, (Zq[1]): -0.835000000000000, (Zq[2]): -1.83500000000000, (Zq[3]): -2.83500000000000, (Xq[0], Xq[1]): -0.165000000000000, (Yq[0], Yq[1]): -0.165000000000000, (Xq[0], Xq[2]): -0.165000000000000, (Yq[0], Yq[2]): -0.165000000000000, (Xq[0], Xq[3]): -0.165000000000000, (Yq[0], Yq[3]): -0.165000000000000, (Xq[1], Xq[2]): -0.165000000000000, (Yq[1], Yq[2]): -0.165000000000000, (Xq[1], Xq[3]): -0.165000000000000, (Yq[1], Yq[3]): -0.165000000000000, (Xq[2], Xq[3]): -0.165000000000000, (Yq[2], Yq[3]): -0.165000000000000}"
      ]
     },
     "execution_count": 179,
     "metadata": {},
     "output_type": "execute_result"
    }
   ],
   "source": [
    "from pytket.pauli import Pauli, QubitPauliString\n",
    "from pytket.utils.operators import QubitPauliOperator\n",
    "pauli_sym = {\"I\": Pauli.I, \"X\": Pauli.X, \"Y\": Pauli.Y, \"Z\": Pauli.Z}\n",
    "\n",
    "def qps_from_openfermion(paulis):\n",
    "    \"\"\"Convert OpenFermion tensor of Paulis to pytket QubitPauliString.\"\"\"\n",
    "    qlist = []\n",
    "    plist = []\n",
    "    for q, p in paulis:\n",
    "        qlist.append(Qubit(q))\n",
    "        plist.append(pauli_sym[p])\n",
    "    return QubitPauliString(qlist, plist)\n",
    "\n",
    "def qpo_from_openfermion(openf_op):\n",
    "    \"\"\"Convert OpenFermion QubitOperator to pytket QubitPauliOperator.\"\"\"\n",
    "    tk_op = dict()\n",
    "    for term, coeff in openf_op.terms.items():\n",
    "        string = qps_from_openfermion(term)\n",
    "        tk_op[string] = coeff\n",
    "    return QubitPauliOperator(tk_op)\n",
    "\n",
    "hamiltonian_op = qpo_from_openfermion(H_qubit)\n",
    "hamiltonian_op"
   ]
  },
  {
   "cell_type": "markdown",
   "metadata": {},
   "source": [
    "### エネルギーの測定\n",
    "\n",
    "作ったansatzとHamiltonian operatorを、指定したバックエンドに投げて\n",
    "`pytket.utils.expectations`に用意された`get_operator_expectation_value`関数で期待値を測定してみよう。\n",
    "\n",
    "以下ではQiskit AerのStatevecvtor simulatorを用いる。"
   ]
  },
  {
   "cell_type": "code",
   "execution_count": 180,
   "metadata": {},
   "outputs": [
    {
     "name": "stdout",
     "output_type": "stream",
     "text": [
      "E_ftqc:  1.1898518352304368 Egs_exact:  1.1898518351360725 E_HF:  1.3399999999999999\n"
     ]
    }
   ],
   "source": [
    "ansatz = my_circ_1.copy()\n",
    "backend = AerStateBackend()\n",
    "E_ftqc = get_operator_expectation_value(ansatz, hamiltonian_op, backend=backend)\n",
    "print(\"E_ftqc: \", E_ftqc, \"Egs_exact: \", Egs_exact, \"E_HF: \", E_HF)"
   ]
  },
  {
   "cell_type": "markdown",
   "metadata": {},
   "source": [
    "## 回路パラメータの最適化\n",
    "\n",
    "pytketを使ったVQE計算(回路の最適化)も試してみよう。\n",
    "\n",
    "(勾配降下やAdamなどの最適化手法を使った方法がすぐにはわからなかったので)Nakanishi-Fujii-Todo法を実装して、逐次最適化してみよう。\n",
    "参考: [Phys. Rev. Research 2, 043158 (2020)](https://doi.org/10.1103/PhysRevResearch.2.043158)\n",
    "\n",
    "ざっと要点だけ説明すると、gradient freeなsequential optimizationの方法の一つ。\n",
    "\n",
    "N個のパラメータに依存する１個の量子ゲートのパラメータに着目し、その値を最適化したいとき、\n",
    "パラメータの周期を取り尽くす等間隔な2N+1点でエネルギーを測ると、エネルギーは周期関数になる。\n",
    "その結果を離散フーリエ変換して、最小のエネルギーを求める点を推定し、これを各ゲートに対して収束するまで繰り返していく。\n",
    "\n",
    "いま上の例で最適化したい回路はGivens rotationやcontrolled Givens rotationである。\n",
    "上の自作関数を見てもわかるように、それぞれパラメータが符号も含めてそれぞれ2(4)個ある。\n",
    "したがって、`G`(`cG`)の角度パラメータの最適化には5(9)点での計測が必要になる。\n",
    "\n",
    "また、`G`や`cG`という量子ゲートを構成するすべての回転ゲートが周期を取り尽くすように測る必要があるため、\n",
    "`G`(`cG`)の場合は関数の外から与える角度としては、$4\\pi(8\\pi)$周期分をカバーして測る必要がある。"
   ]
  },
  {
   "cell_type": "code",
   "execution_count": 182,
   "metadata": {
    "tags": [
     "hide-input"
    ]
   },
   "outputs": [
    {
     "name": "stdout",
     "output_type": "stream",
     "text": [
      "initial params [3.44829694 4.49366732 3.78727399 3.42360201 2.66190161]\n",
      "Optimizing parameters...\n",
      "iteration     0 which_Gate 1 type G\n",
      "Emeasured [1.4867657  1.79578918 1.63703289 1.47242273 1.89645555]\n"
     ]
    },
    {
     "data": {
      "image/png": "[encoded data removed]",
      "text/plain": [
       "<Figure size 300x300 with 1 Axes>"
      ]
     },
     "metadata": {},
     "output_type": "display_data"
    },
    {
     "name": "stdout",
     "output_type": "stream",
     "text": [
      "which_Gate 3 type cG1\n",
      "Emeasured [1.44368379 1.83839806 1.5908143  1.79839549 1.8343694  1.6956903\n",
      " 1.95097955 1.52029136 1.90655423]\n"
     ]
    },
    {
     "data": {
      "image/png": "[encoded data removed]",
      "text/plain": [
       "<Figure size 300x300 with 1 Axes>"
      ]
     },
     "metadata": {},
     "output_type": "display_data"
    },
    {
     "name": "stdout",
     "output_type": "stream",
     "text": [
      "which_Gate 4 type cG1\n",
      "Emeasured [1.44136355 1.57353789 1.47975579 1.54559194 1.53066566 1.49414067\n",
      " 1.56461717 1.4473691  1.57767619]\n"
     ]
    },
    {
     "data": {
      "image/png": "[encoded data removed]",
      "text/plain": [
       "<Figure size 300x300 with 1 Axes>"
      ]
     },
     "metadata": {},
     "output_type": "display_data"
    },
    {
     "name": "stdout",
     "output_type": "stream",
     "text": [
      "which_Gate 0 type G\n",
      "Emeasured [1.43759698 1.93377273 4.07509191 4.9023242  3.27226269]\n"
     ]
    },
    {
     "data": {
      "image/png": "[encoded data removed]",
      "text/plain": [
       "<Figure size 300x300 with 1 Axes>"
      ]
     },
     "metadata": {},
     "output_type": "display_data"
    },
    {
     "name": "stdout",
     "output_type": "stream",
     "text": [
      "which_Gate 2 type cG1\n",
      "Emeasured [1.29668783 1.33180213 1.25911905 1.35624767 1.24748919 1.36080235\n",
      " 1.26475917 1.33840335 1.29777327]\n"
     ]
    },
    {
     "data": {
      "image/png": "[encoded data removed]",
      "text/plain": [
       "<Figure size 300x300 with 1 Axes>"
      ]
     },
     "metadata": {},
     "output_type": "display_data"
    },
    {
     "name": "stdout",
     "output_type": "stream",
     "text": [
      "Energy_opt    1.2472132040\n",
      "iteration     1 Energy_opt    1.1951439683\n",
      "iteration     2 Energy_opt    1.1900667982\n",
      "iteration     3 Energy_opt    1.1898545248\n",
      "iteration     4 Energy_opt    1.1898518786\n",
      "iteration     5 Energy_opt    1.1898518360\n",
      "iteration     6 Energy_opt    1.1898518352\n",
      "iteration     7 Energy_opt    1.1898518351\n",
      "iteration     8 Energy_opt    1.1898518351\n",
      "iteration     9 Energy_opt    1.1898518351\n",
      "******************\n",
      "E_initial 1.4867657043426625  最適化 => 1.1898518351361973 Egs_exact 1.1898518351360725 diff. 1.247890679678676e-13\n",
      "******************\n"
     ]
    }
   ],
   "source": [
    "from scipy.optimize import minimize_scalar\n",
    "\n",
    "def ansatz(params):\n",
    "    circ = Circuit(4)\n",
    "    circ.X(0)\n",
    "    circ.X(1)\n",
    "    G(circ, 1, 2, params[0])\n",
    "    G(circ, 2, 3, params[1])\n",
    "    cG1(circ, 2, 0, 1, params[2])\n",
    "    cG1(circ, 3, 0, 1, params[3])\n",
    "    cG1(circ, 3, 1, 2, params[4])\n",
    "    return circ\n",
    "\n",
    "def objective(params):\n",
    "    circ = ansatz(params)\n",
    "    return (\n",
    "        get_operator_expectation_value(circ, hamiltonian_op, backend)\n",
    "    )\n",
    "\n",
    "def draw_DFT_curve(xplot, DFTcurve, spot, Es, x_min, y_min):\n",
    "    fig = plt.figure(figsize=(3,3))\n",
    "    ax = fig.add_subplot(1,1,1)\n",
    "    ax.plot(xplot, DFTcurve, label=\"DFT curve\", color=cols[0])\n",
    "    ax.scatter(spot, Es, marker=\"o\", label=\"Measured\", color=cols[1])\n",
    "    ax.scatter(x_min, y_min, marker=\"*\", color=cols[3], label=\"Candidate\")\n",
    "    ax.legend()\n",
    "    plt.show()\n",
    "    plt.close() \n",
    "\n",
    "def eval_DFT_coeff(Es, spot):\n",
    "    N = len(Es)    \n",
    "    DFT_coef = np.zeros(N, dtype=float)\n",
    "\n",
    "    for idx_M in range(N):\n",
    "        t_data = Es[idx_M]\n",
    "        for idx_coeff in range(N):\n",
    "            #print(\"idx_M\", idx_M, \"idx_coeff\", idx_coeff)\n",
    "            if idx_coeff == N-1:\n",
    "                DFT_coef[idx_coeff] += t_data\n",
    "                #print(\"sum of Es??\", DFT_coef[idx_coeff], \"idx_M\", idx_M, \"t_data\", t_data)\n",
    "                continue\n",
    "            theta_order = idx_coeff // 2 + 1\n",
    "            if idx_coeff % 2 == 0:\n",
    "                DFT_coef[idx_coeff] += 2 * t_data * np.cos(theta_order * spot[idx_M])\n",
    "            else:\n",
    "                DFT_coef[idx_coeff] += 2 * t_data * np.sin(theta_order * spot[idx_M])\n",
    "    DFT_coef /= N\n",
    "    if abs(np.mean(Es) - DFT_coef[-1]) > 1e-10:\n",
    "        print(\"Something wrong in DFT\")\n",
    "        exit()\n",
    "    return DFT_coef\n",
    "\n",
    "def func_DFT_coeff(DFT_coef):\n",
    "    def DFTcurve(x):\n",
    "        y = 0\n",
    "        for n in range(len(DFT_coef)):\n",
    "            if n == len(DFT_coef) - 1:\n",
    "                y += DFT_coef[n]\n",
    "                break\n",
    "            theta_order = n // 2  + 1\n",
    "            if n % 2 == 0:\n",
    "                y += DFT_coef[n] * np.cos( theta_order * x)\n",
    "            else:\n",
    "                y += DFT_coef[n] * np.sin( theta_order * x)\n",
    "        return y\n",
    "    return DFTcurve\n",
    "\n",
    "def DFT(it, Es, spot, verbose, method=\"scipy\"):\n",
    "    N_duration = (len(Es) - 1) // 2\n",
    "    DFT_coef = eval_DFT_coeff(Es, spot)\n",
    "    theta_current = spot[0] \n",
    "    xplot    = np.linspace(theta_current, theta_current + N_duration *  2*np.pi, 100)\n",
    "    DFTcurve = func_DFT_coeff(DFT_coef)(xplot)\n",
    "    if method == \"scipy\":\n",
    "        obj = minimize_scalar(func_DFT_coeff(DFT_coef), bounds=(theta_current, theta_current + 2 * np.pi * N_duration))\n",
    "        x_min = obj.x \n",
    "        y_min = obj.fun\n",
    "    elif method == \"naive\":\n",
    "        idx_min = np.argmin(DFTcurve)\n",
    "        x_min = xplot[idx_min]\n",
    "        y_min = DFTcurve[idx_min]\n",
    "\n",
    "    if verbose and it % 10 == 0:\n",
    "        draw_DFT_curve(xplot, DFTcurve, spot, Es, x_min, y_min)\n",
    "    new_theta = x_min % (2 * np.pi * N_duration)\n",
    "    return new_theta\n",
    "\n",
    "def NFTmethod(it, Ecurrent, params, which_Gate, verbose):\n",
    "    params_ = params.copy()\n",
    "    # Making point to measure for Discrete Fourier Transformation\n",
    "    # GやcG1で使われる角度は中で2(4)で割って使われる。これらが0から2piの範囲をカバーしなければならないことに注意してfactorをかけている。\n",
    "    if where_is_G_or_cG1[which_Gate] == \"G\":\n",
    "        spot = [params_[which_Gate]] + [ params_[which_Gate] + n * 2 * (2 * np.pi)/5 for n in range(1,5) ]\n",
    "        spot = np.array(spot) \n",
    "    elif where_is_G_or_cG1[which_Gate] == \"cG1\":\n",
    "        spot = [params_[which_Gate]] + [ params_[which_Gate] + n * 4 * (2 * np.pi)/9 for n in range(1,9) ]\n",
    "        spot = np.array(spot) \n",
    "    else:\n",
    "        print(\"Something wrong\")\n",
    "    if verbose:\n",
    "        spot_in_2pi = spot.copy()\n",
    "        spot_in_2pi -= spot[0]\n",
    "        spot_in_2pi = spot_in_2pi / (2 * np.pi)\n",
    "        print(\"which_Gate\", which_Gate, \"type\", where_is_G_or_cG1[which_Gate])\n",
    "    \n",
    "    # Measure the energy at the spot\n",
    "    tmp = params_.copy()\n",
    "    Es = np.zeros(len(spot))\n",
    "    Es[0] = Ecurrent\n",
    "    for idx in range(1, len(spot)): # 0 is already measured\n",
    "        tmp[which_Gate] = spot[idx]\n",
    "        E = objective(tmp)\n",
    "        Es[idx] = E\n",
    "    if verbose:\n",
    "        print(\"Emeasured\", Es)\n",
    "\n",
    "    param_best = DFT(it, Es, spot, verbose)\n",
    "    # Find a minimum point\n",
    "    params_[which_Gate] = param_best\n",
    "    return params_\n",
    "\n",
    "np.random.seed(0)\n",
    "where_is_G_or_cG1 = {0: \"G\", 1: \"G\", 2: \"cG1\", 3: \"cG1\", 4: \"cG1\"}\n",
    "params = np.random.rand(5) * np.pi * 2 \n",
    "print(\"initial params\", params)\n",
    "E_initial = E_current = objective(params)\n",
    "\n",
    "it_max = 100\n",
    "verbose = True\n",
    "stag = 0\n",
    "print(\"Optimizing parameters...\")\n",
    "for it in range(it_max):\n",
    "    print(\"iteration %5d \" % it, end=\"\")\n",
    "    if it > 0:\n",
    "        verbose = False\n",
    "    E_prev = E_current\n",
    "    for which_Gate in np.random.choice(5, 5, replace=False):   \n",
    "        params_ = NFTmethod(it, E_current, params, which_Gate, verbose)\n",
    "        E_new = objective(params_)\n",
    "        params = params_.copy()\n",
    "        E_current = E_new\n",
    "\n",
    "    print(\"Energy_opt %15.10f\" % E_current)\n",
    "    if abs(E_current - E_prev) < 1e-8:\n",
    "        stag += 1\n",
    "    if stag > 3:\n",
    "        break\n",
    "\n",
    "print(\"******************\")\n",
    "print(\"E_initial\", E_initial, \" 最適化 =>\", E_current, \"Egs_exact\", Egs_exact, \"diff.\", E_current - Egs_exact)\n",
    "print(\"******************\")\n"
   ]
  },
  {
   "cell_type": "markdown",
   "metadata": {},
   "source": [
    "上の場合は、 statevectorを用いたので数回~10回程度で最適化が終了する、\n",
    "実際には、simulatorの場合でもshotで測る場合はshotノイズ、実機の場合はその他様々なノイズの影響を受けるが、\n",
    "いずれにしても、回路の測定が高速にできればとても強力な最適化手法の一つである。"
   ]
  }
 ],
 "metadata": {
  "colab": {
   "provenance": []
  },
  "kernelspec": {
   "display_name": "my_python3_env_forQC",
   "language": "python",
   "name": "python3"
  },
  "language_info": {
   "codemirror_mode": {
    "name": "ipython",
    "version": 3
   },
   "file_extension": ".py",
   "mimetype": "text/x-python",
   "name": "python",
   "nbconvert_exporter": "python",
   "pygments_lexer": "ipython3",
   "version": "3.13.1"
  }
 },
 "nbformat": 4,
 "nbformat_minor": 0
}
