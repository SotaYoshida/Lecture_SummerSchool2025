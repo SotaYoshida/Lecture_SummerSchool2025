{
  "cells": [
    {
      "attachments": {},
      "cell_type": "markdown",
      "metadata": {
        "id": "Qlp8TMCwqzju"
      },
      "source": [
        "# In-medium Similarity Renormalization Group (IM-SRG)\n",
        "\n",
        "\n",
        "この章では、In-medium Similarity Renormalization Group(IM-SRG)法の概要と実装について説明する。\n",
        "\n",
        "IMSRG法は原子核の基底状態の第一原理計算手法(post-HF法の意味で)としてだけでなく、\n",
        "殻模型の有効相互作用(バレンス空間の有効核力)・有効演算子の導出にも用いられるなど、応用上も非常に重要な手法である。\n",
        "原子核分野では、HamiltonianのSoft化という文脈でSimilarity Renormalization Group(SRG)法が適用された後、\n",
        "その拡張としてIMSRG法が提案された。\n",
        "\n",
        "SRGの基本的な考え方は、Hamiltonianのユニタリ変換※である。\n",
        "元のHamiltonianを$H_0$、新しいHamiltonianを$H_s$とすると、\n",
        "\n",
        "$$\n",
        "H_s = U(s) H_0 U^\\dagger(s)\n",
        "$$\n",
        "\n",
        "と変換していくことで、２体系・３体系の物理量を変えずに多体計算の収束性を改善するソフトなHamiltonianを得ることができる。\n",
        "※ただし実用上はトリックがあり、induceされる多体力をすべて取り扱うことはできず、ユニタリ性は厳密には保たれない。\n",
        "\n"
      ]
    },
    {
      "cell_type": "markdown",
      "metadata": {},
      "source": [
        "## IM-SRG flow equation\n",
        "\n",
        "$$\n",
        "\\begin{align}\n",
        "\\frac{dE}{ds} &= \\sum_{ab} (n_a-n_b) \\eta^{(1)}_{ab} f_{ba} \n",
        "+ \\frac{1}{2} \\sum_{abcd} \\eta^{(2)}_{abcd} \\Gamma_{cdab} n_an_b \\bar{n}_c \\bar{n}_d \\nonumber \\\\\n",
        "\\frac{df_{pq}}{ds} &= \\sum_{a} (1+P_{pq}) \\eta^{(1)}_{pa} f_{aq} \n",
        "+ \\sum_{ab} (n_a-n_b) (\\eta^{(1)}_{ab} \\Gamma_{bpaq} - f_{ab} \\eta^{(2)}_{bpaq})  \\nonumber \\\\\n",
        "& + \\frac{1}{2} \\sum_{abc} (n_an_b\\bar{n}_c + \\bar{n}_a \\bar{n}_b n_c) (1+P_{pq}) \\eta^{(2)}_{cpab} \\Gamma_{abcq} \\nonumber \\\\\n",
        "\\frac{d\\Gamma_{pqrs}}{ds} &= \\sum_{a} \n",
        "\\left\\{ (1-P_{pq}) (\\eta^{(1)}_{pa} \\Gamma_{aqrs} - f_{pa} \\eta^{(2)}_{aqrs}) -(1-P_{rs}) (\\eta^{(1)}_{ar} \\Gamma_{pqas} - f_{ar} \\eta^{(2)}_{pqas}) \\right\\} \\nonumber \\\\ \n",
        "& + \\frac{1}{2} \\sum_{ab} (1-n_a-n_b) (\\eta^{(2)}_{pqab} \\Gamma_{abrs} - \\Gamma_{pqab} \\eta^{(2)}_{abrs})\\nonumber  \\\\\n",
        "& - \\sum_{ab} (n_a - n_b) (1-P_{pq})(1-P_{rs}) \\eta^{(2)}_{bqas} \\Gamma_{apbr} \\nonumber \n",
        "\\end{align}\n",
        "$$"
      ]
    },
    {
      "cell_type": "markdown",
      "metadata": {},
      "source": [
        "## Choice of Generator $\\eta$\n",
        "\n",
        "IM-SRG flowのgenerator $\\eta$ の選び方は、flow equationのstiffness、つまり解きやすさや数値的な安定性に大きく影響を及ぼす。\n",
        "\n",
        "件のLecture Noteでは、Wegner, imaginary time, Whiteの３つの選択肢を挙げ、ODE solverを適切に選ぶことで同程度の精度が得られることも示されている。\n",
        "そこで、本資料では、下記のWhiteのgeneratorを用いることにした。\n",
        "\n",
        "$$\n",
        "\\begin{align}\n",
        "\\eta & = \\eta^{(1)} + \\eta^{(2)} \\\\\n",
        "& = \\frac{1}{2} \\sum_{ph} \\arctan\\left(\\frac{f_{ph}(s)}{\\Delta_{ph}(s)}\\right) \\{  a^\\dagger_p a_h \\}\n",
        "+ \\frac{1}{8} \\sum_{pp'hh'} \\arctan\\left(\\frac{2 \\Gamma_{pp'h'h}(s)}{\\Delta_{pp'hh'}(s)}\\right) \\{  a^\\dagger_p a^\\dagger_{p'} a_h a_{h'} \\} - H.c..\n",
        "\\end{align}\n",
        "$$ \n",
        "\n",
        "形状からもわかるように,$\\eta$はparticle-hole間(1-body)とpp-hh間(2-body)にのみ値を持つ。\n",
        "IMSRG-flowでは、このparticle-hole間の成分がくりこまれていく($s \\to \\infty$で小さくなる)。\n"
      ]
    },
    {
      "cell_type": "markdown",
      "metadata": {},
      "source": [
        "## IMSRGの実装"
      ]
    },
    {
      "cell_type": "markdown",
      "metadata": {},
      "source": [
        "globalなpairing potentialであることを利用して、上の表式を簡略化できないであろうか？\n",
        "\n",
        "そのためには、$\\Gamma_{pqrs}(s)$が$p,q,r,s$の4つのインデックスに対してどう依存し、\n",
        "flowでどのような変化が起こるかに注目してみよう。\n",
        "\n",
        "使えそうなのは、$\\eta$がanti-hermitian(対角成分は0, $\\eta^{(1)}_{ij} = -\\eta^{(1)}_{ji}$)であることと、以下の初期条件である。\n",
        "\n",
        "$$\n",
        "\\begin{align}\n",
        "f_{ij}(s=0) &= \\delta_{ij} f_{ii} \\\\\n",
        "\\Gamma_{pqrs}(s=0) &= \\delta_{q\\bar{p}} \\delta_{s\\bar{r}} \\Gamma_{p\\bar{p}r\\bar{r}} \n",
        "\\end{align}\n",
        "$$\n",
        "\n",
        "これらを用いて、$\\Gamma_{pqrs}(s)$のflow方程式を考えると:\n",
        "\n",
        "$$\n",
        "\\begin{align}\n",
        "\\left. \\frac{d\\Gamma_{pqrs}}{ds} \\right|_{s=0} &= \n",
        "\\sum_{a} \\left\\{\n",
        "  \\left( \\eta^{(1)}_{pa} \\Gamma_{aqrs} - f_{pa} \\eta^{(2)}_{aqrs} \\right)\n",
        "- \\left( \\eta^{(1)}_{qa} \\Gamma_{aprs} - f_{qa} \\eta^{(2)}_{aprs}  \\right)\n",
        "- \\left( \\eta^{(1)}_{ar} \\Gamma_{pqas} - f_{ar} \\eta^{(2)}_{pqas} \\right)\n",
        "+ \\left( \\eta^{(1)}_{as} \\Gamma_{pqar} - f_{as} \\eta^{(2)}_{pqar} \\right)\n",
        "\\right\\} \\nonumber\\\\\n",
        "& + \\frac{1}{2} \\sum_{ab} (1-n_a-n_b) (\\eta^{(2)}_{pqab} \\Gamma_{abrs} - \\Gamma_{pqab} \\eta^{(2)}_{abrs})\\nonumber  \\\\\n",
        "& - \\sum_{ab} (n_a - n_b) (1-P_{pq})(1-P_{rs}) \\eta^{(2)}_{bqas} \\Gamma_{apbr} \\nonumber\n",
        "\\end{align}\n",
        "$$\n",
        "\n",
        "\n",
        "pairing Hamiltonianのような１粒子軌道が既に対角的$f_{ij}\\propto \\delta_{ij}$な場合、$\\eta^{(1)}$は恒常的に0となる。"
      ]
    },
    {
      "cell_type": "markdown",
      "metadata": {},
      "source": [
        "## particle-hole channelの計算\n",
        "\n",
        "$d\\Gamma_{pqrs}/ds$の計算を考える際の計算量は、最後の第3項が支配的である。\n",
        "\n",
        "$$\n",
        "\\begin{align}\n",
        "\\frac{d\\Gamma_{pqrs}}{ds} & = ... - \\sum_{ab} (n_a - n_b) (1-P_{pq})(1-P_{rs}) \\eta^{(2)}_{bqas} \\Gamma_{apbr}\n",
        "\\end{align}\n",
        "$$\n",
        "\n",
        "を見れば明らかなように、$pqrs$成分の更新に、$ab$のsummationが含まれるため、naiveには$O(N^6)$の計算量がかかる。\n",
        "一方で、第2項は、$\\eta^{(2)}_{pqab} \\Gamma_{abrs}$と、行列-行列積の形をしているため、\n",
        "$(1-n_a-n_b)$を表す対角行列($ab$が$pp$か$hh$のときのみ有限の値を持つ)を用意しておけば、BLASを用いて効率よく計算できる。\n",
        "\n",
        "\n"
      ]
    },
    {
      "cell_type": "markdown",
      "metadata": {},
      "source": [
        "## 結果の解釈\n",
        "\n",
        "![](pic/Energies_Norb20_Nocc10.png)\n",
        "\n",
        "$g$が正で大きい領域では計算が収束せずに、エネルギーが発散してしまう。\n",
        "これは、IMSRGのflow equationが、$g$が大きい領域での計算には適していないことを示している。\n",
        "というのも、そもそもIMSRG-flowのgeneratorは、reference stateに対する励起をdecoupleすることを目的としていたわけだが、\n",
        "Full-CIの章でみたように$g >> 1$の領域では、reference stateに対する様々な励起が同程度の重要性を持つため、decoupleがうまくいかないのである。\n",
        "\n",
        "$g$が負の領域では、CCDよりもわずかに悪い結果となるが、\n",
        "この理由はcoupled clusterの章で書いたとおり、CCとIMSRGの各次数でどのダイアグラムが取り入れられるかの違いに由来する。\n"
      ]
    }
  ],
  "metadata": {
    "colab": {
      "collapsed_sections": [],
      "name": "Python_chapter_Bayesian_linear_regression.ipynb",
      "provenance": []
    },
    "kernelspec": {
      "display_name": "Julia 1.10.2",
      "language": "julia",
      "name": "julia-1.10"
    },
    "language_info": {
      "file_extension": ".jl",
      "mimetype": "application/julia",
      "name": "julia",
      "version": "1.10.2"
    }
  },
  "nbformat": 4,
  "nbformat_minor": 0
}
